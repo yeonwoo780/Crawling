{
 "cells": [
  {
   "cell_type": "code",
   "execution_count": 2,
   "id": "bd8a0df6",
   "metadata": {},
   "outputs": [
    {
     "name": "stdout",
     "output_type": "stream",
     "text": [
      "잔금대출에도 DTI 규제 적용 검토\n"
     ]
    }
   ],
   "source": [
    "import requests\n",
    "from bs4 import BeautifulSoup\n",
    "\n",
    "# 웹페이지 가져오기\n",
    "res = requests.get('http://v.media.daum.net/v/20170615203441266')\n",
    "\n",
    "# 웹페이지 파싱하기\n",
    "soup = BeautifulSoup(res.content, 'html.parser')\n",
    "\n",
    "# 필요한 데이터 추출\n",
    "mydata = soup.find('title')\n",
    "\n",
    "# 추출한 데이터 활용\n",
    "print(mydata.get_text())"
   ]
  },
  {
   "cell_type": "code",
   "execution_count": 9,
   "id": "3f303131",
   "metadata": {},
   "outputs": [
    {
     "data": {
      "text/plain": [
       "b'<!doctype html>\\n<html lang=\"ko\"> \\n <head data-cloud-area=\"head\"> \\n  <meta charset=\"utf-8\"> \\n  <meta http-equiv=\"X-UA-Compatible\" content=\"IE=edge\"> \\n  <style>\\n            @import url(\\'//t1.daumcdn.net/harmony_static/cloud/page/3e96c93f90d4df7aca693bfb2ba2ea76d2d14d92.css\\');\\n            @import url(\\'//t1.daumcdn.net/harmony_static/cloud/2021/05/03/common.4fa0ea63845693bada8b.css\\')\\n        </style> \\n  <style>\\n            /* \\xeb\\x8b\\xa4\\xec\\x9d\\x8c \\xec\\xb9\\xb4\\xed\\x8e\\x98 \\xec\\x86\\x8c\\xec\\x85\\x9c \\xec\\x89\\x90\\xec\\x96\\xb4 \\xec\\x9e\\x84\\xec\\x8b\\x9c \\xeb\\xb9\\x84\\xed\\x99\\x9c\\xec\\x84\\xb1\\xed\\x99\\x94 */\\n            .list_sns li:nth-child(6) {\\n                display: none;\\n            }\\n        </style> \\n  <meta property=\"mccp:docId\" content=\"nkhSoinQsa\"> \\n  <meta property=\"og:site_name\" content=\"\\xeb\\x8b\\xa4\\xec\\x9d\\x8c\\xeb\\x89\\xb4\\xec\\x8a\\xa4\"> \\n  <meta property=\"og:title\" content=\"\\xec\\x9e\\x94\\xea\\xb8\\x88\\xeb\\x8c\\x80\\xec\\xb6\\x9c\\xec\\x97\\x90\\xeb\\x8f\\x84 DTI \\xea\\xb7\\x9c\\xec\\xa0\\x9c \\xec\\xa0\\x81\\xec\\x9a\\xa9 \\xea\\xb2\\x80\\xed\\x86\\xa0\"> \\n  <meta property=\"og:regDate\" content=\"20170615203440\"> \\n  <meta property=\"og:type\" content=\"article\"> \\n  <meta property=\"og:url\" content=\"https://news.v.daum.net/v/nkhSoinQsa\"> \\n  <meta property=\"og:image\" content=\"https://img1.daumcdn.net/thumb/S1200x630/?fname=https://t1.daumcdn.net/news/201706/15/hankooki/20170615044256378kzbd.jpg\"> \\n  <meta property=\"og:image:width\" content=\"1200\"> \\n  <meta property=\"og:image:height\" content=\"630\"> \\n  <meta property=\"og:description\" content=\"\\xeb\\x82\\xb4\\xec\\xa3\\xbc \\xeb\\xb6\\x80\\xeb\\x8f\\x99\\xec\\x82\\xb0 \\xec\\xa2\\x85\\xed\\x95\\xa9\\xeb\\x8c\\x80\\xec\\xb1\\x85 \\xeb\\xb0\\x9c\\xed\\x91\\x9c \\xec\\xa7\\x91\\xea\\xb0\\x92 \\xec\\x83\\x81\\xec\\x8a\\xb9 \\xeb\\x85\\xb8\\xeb\\xa6\\xb0 \\xed\\x88\\xac\\xea\\xb8\\xb0 \\xeb\\xb6\\x84\\xec\\x96\\x91 \\xec\\xb0\\xa8\\xeb\\x8b\\xa8 LTV\\xe3\\x86\\x8dDTI \\xea\\xb7\\x9c\\xec\\xa0\\x9c \\xeb\\x8b\\xa4\\xec\\x8b\\x9c \\xea\\xb0\\x95\\xed\\x99\\x94\\xed\\x95\\xa0 \\xeb\\x93\\xaf \\xec\\xa0\\x80\\xec\\x86\\x8c\\xeb\\x93\\x9d \\xec\\x8b\\xa4\\xec\\x88\\x98\\xec\\x9a\\x94\\xec\\x9e\\x90 \\xed\\x94\\xbc\\xed\\x95\\xb4 \\xec\\x9a\\xb0\\xeb\\xa0\\xa4\\xeb\\x8f\\x84 \\xea\\xb8\\x88\\xec\\x9c\\xb5\\xeb\\x8b\\xb9\\xea\\xb5\\xad\\xec\\x9d\\xb4 \\xea\\xb8\\x89\\xec\\xa6\\x9d\\xed\\x95\\x98\\xeb\\x8a\\x94 \\xea\\xb0\\x80\\xea\\xb3\\x84\\xeb\\xb6\\x80\\xec\\xb1\\x84 \\xec\\xa6\\x9d\\xea\\xb0\\x80\\xec\\x84\\xb8\\xeb\\xa5\\xbc \\xeb\\xa7\\x89\\xea\\xb8\\xb0 \\xec\\x9c\\x84\\xed\\x95\\xb4 \\xec\\x95\\x84\\xed\\x8c\\x8c\\xed\\x8a\\xb8 \\xec\\x9e\\x94\\xea\\xb8\\x88\\xeb\\x8c\\x80\\xec\\xb6\\x9c\\xec\\x97\\x90\\xeb\\x8f\\x84 \\xec\\x86\\x8c\\xeb\\x93\\x9d\\xec\\x9d\\x84 \\xeb\\x94\\xb0\\xec\\xa0\\xb8 \\xeb\\x8c\\x80\\xec\\xb6\\x9c\\xed\\x95\\x9c\\xeb\\x8f\\x84\\xeb\\xa5\\xbc \\xec\\xa0\\x95\\xed\\x95\\x98\\xeb\\x8a\\x94 \\xec\\xb4\\x9d\\xeb\\xb6\\x80\\xec\\xb1\\x84\\xec\\x83\\x81\\xed\\x99\\x98\\xeb\\xb9\\x84\\xec\\x9c\\xa8(DTI)\\xec\\x9d\\x84 \\xec\\xa0\\x81\\xec\\x9a\\xa9\\xed\\x95\\x98\\xeb\\x8a\\x94 \\xeb\\xb0\\xa9\\xec\\x95\\x88\\xec\\x9d\\x84 \\xec\\x9c\\xa0\\xeb\\xa0\\xa5\\xed\\x95\\x98\\xea\\xb2\\x8c \\xea\\xb2\\x80\\xed\\x86\\xa0\\xed\\x95\\x98\\xea\\xb3\\xa0 \\xec\\x9e\\x88\\xeb\\x8b\\xa4. \\xec\\xa7\\x80\\xea\\xb8\\x88\\xec\\x9d\\x80 \\xec\\xa7\\x91\\xea\\xb0\\x92\\xec\\x9d\\x84 \\xea\\xb8\\xb0\\xec\\xa4\\x80\\xec\\x9c\\xbc\\xeb\\xa1\\x9c \\xeb\\x8c\\x80\\xec\\xb6\\x9c\\xed\\x95\\x9c\\xeb\\x8f\\x84\\xeb\\xa5\\xbc \\xeb\\xa7\\xa4\\xea\\xb8\\xb0\\xeb\\x8a\\x94 \\xec\\xa3\\xbc\\xed\\x83\\x9d\\xeb\\x8b\\xb4\\xeb\\xb3\\xb4\\xec\\x9d\\xb8\\xec\\xa0\\x95\\xeb\\xb9\\x84\\xec\\x9c\\xa8(LTV) \\xea\\xb7\\x9c\\xec\\xa0\\x9c\"> \\n  <meta property=\"al:android:url\" content=\"daumapps://web?url=https%3A%2F%2Fnews.v.daum.net/v/nkhSoinQsa\"> \\n  <meta property=\"al:android:package\" content=\"net.daum.android.daum\"> \\n  <meta property=\"al:android:app_name\" content=\"\\xeb\\x8b\\xa4\\xec\\x9d\\x8c\\xec\\x95\\xb1\"> \\n  <meta property=\"al:ios:url\" content=\"daumapps://web?url=https%3A%2F%2Fnews.v.daum.net/v/nkhSoinQsa\"> \\n  <meta property=\"al:ios:app_store_id\" content=\"365494029\"> \\n  <meta property=\"al:ios:app_name\" content=\"\\xeb\\x8b\\xa4\\xec\\x9d\\x8c\\xec\\x95\\xb1\"> \\n  <meta property=\"twitter:card\" content=\"summary_large_image\"> \\n  <meta property=\"twitter:app:url:googleplay\" content=\"daumapps://web?url=https%3A%2F%2Fnews.v.daum.net/v/nkhSoinQsa\"> \\n  <meta property=\"twitter:app:id:googleplay\" content=\"net.daum.android.daum\"> \\n  <meta property=\"twitter:app:name:googleplay\" content=\"\\xeb\\x8b\\xa4\\xec\\x9d\\x8c\\xec\\x95\\xb1\"> \\n  <meta property=\"twitter:app:country\" content=\"KR\"> \\n  <meta property=\"twitter:app:url:iphone\" content=\"daumapps://web?url=https%3A%2F%2Fnews.v.daum.net/v/nkhSoinQsa\"> \\n  <meta property=\"twitter:app:id:iphone\" content=\"365494029\"> \\n  <meta property=\"twitter:app:name:iphone\" content=\"\\xeb\\x8b\\xa4\\xec\\x9d\\x8c\\xec\\x95\\xb1\"> \\n  <meta property=\"twitter:app:url:ipad\" content=\"daumapps://web?url=https%3A%2F%2Fnews.v.daum.net/v/nkhSoinQsa\"> \\n  <meta property=\"twitter:app:id:ipad\" content=\"365494029\"> \\n  <meta property=\"twitter:app:name:ipad\" content=\"\\xeb\\x8b\\xa4\\xec\\x9d\\x8c\\xec\\x95\\xb1\"> \\n  <meta name=\"referrer\" content=\"always\"> \\n  <title>\\xec\\x9e\\x94\\xea\\xb8\\x88\\xeb\\x8c\\x80\\xec\\xb6\\x9c\\xec\\x97\\x90\\xeb\\x8f\\x84 DTI \\xea\\xb7\\x9c\\xec\\xa0\\x9c \\xec\\xa0\\x81\\xec\\x9a\\xa9 \\xea\\xb2\\x80\\xed\\x86\\xa0</title> \\n  <link rel=\"shortcut icon\" href=\"//m2.daumcdn.net/img-media/2010ci/Daum_favicon.ico\"> \\n </head> \\n <body class=\"\">      \\n  <div id=\"kakaoIndex\"> <a href=\"#kakaoBody\">\\xeb\\xb3\\xb8\\xeb\\xac\\xb8 \\xeb\\xb0\\x94\\xeb\\xa1\\x9c\\xea\\xb0\\x80\\xea\\xb8\\xb0</a> <a href=\"#kakaoGnb\">\\xeb\\xa9\\x94\\xeb\\x89\\xb4 \\xeb\\xb0\\x94\\xeb\\xa1\\x9c\\xea\\xb0\\x80\\xea\\xb8\\xb0</a> \\n  </div> \\n  <div id=\"kakaoWrap\" class=\"newsview_media\"> \\n   <div id=\"wrapMinidaum\"></div> \\n   <div id=\"kakaoHead\" role=\"banner\" data-cloud-area=\"header\"> \\n    <div class=\"head_media\" data-cloud=\"pc_header_gnb\"> \\n     <h1> <a href=\"https://www.daum.net\" class=\"link_daum\"> <img src=\"//t1.daumcdn.net/media/news/news2016/retina/logo_daum.jpg\" width=\"45\" height=\"19\" class=\"thumb_g\" alt=\"Daum\"> </a> <a href=\"//news.daum.net\" id=\"kakaoServiceLogo\"><span class=\"ir_wa\">\\xeb\\x89\\xb4\\xec\\x8a\\xa4</span></a> </h1> <strong class=\"screen_out\">\\xea\\xb4\\x80\\xeb\\xa0\\xa8\\xec\\x84\\x9c\\xeb\\xb9\\x84\\xec\\x8a\\xa4</strong> \\n     <ul id=\"kakaoRelServices\"> \\n      <li><a href=\"https://entertain.daum.net/\" class=\"link_services link_services1\"><span class=\"ir_wa\">\\xec\\x97\\xb0\\xec\\x98\\x88</span></a></li> \\n      <li><a href=\"https://sports.daum.net/\" class=\"link_services link_services2\"><span class=\"ir_wa\">\\xec\\x8a\\xa4\\xed\\x8f\\xac\\xec\\xb8\\xa0</span></a></li> \\n     </ul> \\n     <h2 class=\"screen_out\">\\xea\\xb2\\x80\\xec\\x83\\x89</h2> \\n     <div class=\"search_news\" id=\"search_news\"> \\n      <form id=\"kakaoSearch\" name=\"kakaoSearch\" action=\"https://search.daum.net/search\" method=\"get\"> \\n       <fieldset class=\"fld_inside\"> <legend class=\"screen_out\">\\xea\\xb2\\x80\\xec\\x83\\x89\\xec\\x96\\xb4 \\xec\\x9e\\x85\\xeb\\xa0\\xa5\\xed\\x8f\\xbc</legend> \\n        <div class=\"box_searchbar\"> <label for=\"qVal\" class=\"lab_search\">\\xed\\x86\\xb5\\xed\\x95\\xa9\\xea\\xb2\\x80\\xec\\x83\\x89</label> \\n         <input type=\"hidden\" name=\"nil_profile\" value=\"search\"> \\n         <input type=\"hidden\" name=\"nil_src\" value=\"media\"> \\n         <input type=\"hidden\" name=\"DA\" value=\"23A\"> \\n         <input type=\"hidden\" name=\"rtmaxcoll\" value=\"NNS\"> \\n         <input type=\"text\" class=\"tf_keyword\" id=\"qVal\" name=\"q\" value=\"\" title=\"\\xea\\xb2\\x80\\xec\\x83\\x89\\xec\\x96\\xb4 \\xec\\x9e\\x85\\xeb\\xa0\\xa5\" autocomplete=\"off\" spellcheck=\"false\"> <button id=\"kakaoBtnSearch\" class=\"btn_search\" type=\"submit\"><span class=\"ir_wa\">\\xea\\xb2\\x80\\xec\\x83\\x89</span></button> \\n        </div> \\n       </fieldset> \\n       <div id=\"wrap_suggestBox\" class=\"wrap_suggestBox\"> \\n        <div id=\"suggestBox\" class=\"suggestBox box_sub\"> \\n         <div class=\"baseBox bg\" style=\"display: none\"></div> \\n        </div> \\n       </div> \\n      </form> \\n     </div> \\n    </div> \\n    <div id=\"kakaoGnb\" role=\"navigation\" data-cloud=\"pc_header_gnb\"> \\n     <div class=\"inner_gnb\"> \\n      <h2 class=\"screen_out\">\\xeb\\x89\\xb4\\xec\\x8a\\xa4 \\xeb\\xa9\\x94\\xec\\x9d\\xb8\\xeb\\xa9\\x94\\xeb\\x89\\xb4</h2> \\n      <ul class=\"gnb_comm\" data-category=\"economic\"> \\n       <li class=\"home\"><a href=\"//news.daum.net/\" class=\"link_gnb link_gnb1\"><span class=\"ir_wa\">\\xed\\x99\\x88</span><span class=\"bar_gnb\"><span class=\"inner_bar\"></span></span></a></li> \\n       <li class=\"society\"><a href=\"//news.daum.net/society/\" class=\"link_gnb link_gnb2\"><span class=\"ir_wa\">\\xec\\x82\\xac\\xed\\x9a\\x8c</span><span class=\"bar_gnb\"><span class=\"inner_bar\"></span></span></a></li> \\n       <li class=\"politics\"><a href=\"//news.daum.net/politics/\" class=\"link_gnb link_gnb3\"><span class=\"ir_wa\">\\xec\\xa0\\x95\\xec\\xb9\\x98</span><span class=\"bar_gnb\"><span class=\"inner_bar\"></span></span></a></li> \\n       <li class=\"economic\"><a href=\"//news.daum.net/economic/\" class=\"link_gnb link_gnb4\"><span class=\"ir_wa\">\\xea\\xb2\\xbd\\xec\\xa0\\x9c</span><span class=\"bar_gnb\"><span class=\"inner_bar\"></span></span></a></li> \\n       <li class=\"foreign\"><a href=\"//news.daum.net/foreign/\" class=\"link_gnb link_gnb5\"><span class=\"ir_wa\">\\xea\\xb5\\xad\\xec\\xa0\\x9c</span><span class=\"bar_gnb\"><span class=\"inner_bar\"></span></span></a></li> \\n       <li class=\"culture\"><a href=\"//news.daum.net/culture/\" class=\"link_gnb link_gnb6\"><span class=\"ir_wa\">\\xeb\\xac\\xb8\\xed\\x99\\x94</span><span class=\"bar_gnb\"><span class=\"inner_bar\"></span></span></a></li> \\n       <li class=\"digital\"><a href=\"//news.daum.net/digital/\" class=\"link_gnb link_gnb7\"><span class=\"ir_wa\">IT</span><span class=\"bar_gnb\"><span class=\"inner_bar\"></span></span></a></li> \\n       <li class=\"popular\"><a href=\"//news.daum.net/ranking/popular\" class=\"link_gnb link_gnb8\"><span class=\"ir_wa\">\\xeb\\x9e\\xad\\xed\\x82\\xb9</span><span class=\"bar_gnb\"><span class=\"inner_bar\"></span></span></a></li> \\n       <li class=\"series editorial\"><a href=\"//news.daum.net/series\" class=\"link_gnb link_gnb9\"><span class=\"ir_wa\">\\xec\\x97\\xb0\\xec\\x9e\\xac</span><span class=\"bar_gnb\"><span class=\"inner_bar\"></span></span></a></li> \\n       <li class=\"photo\"><a href=\"//news.daum.net/photo\" class=\"link_gnb link_gnb10\"><span class=\"ir_wa\">\\xed\\x8f\\xac\\xed\\x86\\xa0</span><span class=\"bar_gnb\"><span class=\"inner_bar\"></span></span></a></li> \\n       <li class=\"tv\"><a href=\"//news.daum.net/tv\" class=\"link_gnb link_gnb11\"><span class=\"ir_wa\">TV</span><span class=\"bar_gnb\"><span class=\"inner_bar\"></span></span></a></li> \\n      </ul> \\n      <div class=\"gnb_etc\"> \\n       <ul class=\"gnb_with\"> \\n        <li><a href=\"//news.daum.net/1boon\" class=\"link_gnb link_gnb1\"><span class=\"ir_wa\">1boon</span></a></li> \\n        <li><a href=\"//gallery.v.daum.net/p/home\" class=\"link_gnb link_gnb2\"><span class=\"ir_wa\">\\xea\\xb0\\xa4\\xeb\\x9f\\xac\\xeb\\xa6\\xac</span><span class=\"bar_gnb\"><span class=\"inner_bar\"></span></span></a></li> \\n       </ul>  \\n       <div class=\"gnb_weather\"> <strong class=\"screen_out\">\\xeb\\x82\\xa0\\xec\\x94\\xa8 \\xec\\xa0\\x95\\xeb\\xb3\\xb4</strong> \\n        <div id=\"gnb_weather\"> \\n         <ul class=\"list_weather\" data-nightyn=\"N\"></ul> \\n        </div> \\n       </div> \\n      </div> \\n     </div> \\n    </div> \\n    <div id=\"barProgress\" class=\"bar_progress\" data-cloud=\"pc_header_gnb\"></div>          \\n   </div> \\n   <div id=\"dummyKakaoGnb\" style=\"height:137px; display:none;\"></div> \\n   <hr class=\"hide\"> \\n   <div id=\"kakaoContent\" class=\"cont_view\" role=\"main\"> \\n    <h2 id=\"kakaoBody\" class=\"screen_out\">\\xea\\xb2\\xbd\\xec\\xa0\\x9c</h2> \\n    <div id=\"cSub\" data-cloud-area=\"title\"> \\n     <div class=\"head_view\" data-cloud=\"pc_article_title_and_util\"> <em class=\"info_cp\"> <a href=\"http://www.hankookilbo.com\" class=\"link_cp\" target=\"_blank\"> <img src=\"https://t1.daumcdn.net/media/news/news2016/cp/cp_hankooki.gif\" class=\"thumb_g\" alt=\"\\xed\\x95\\x9c\\xea\\xb5\\xad\\xec\\x9d\\xbc\\xeb\\xb3\\xb4\"> </a> </em> \\n      <h3 class=\"tit_view\" data-translation=\"true\">\\xec\\x9e\\x94\\xea\\xb8\\x88\\xeb\\x8c\\x80\\xec\\xb6\\x9c\\xec\\x97\\x90\\xeb\\x8f\\x84 DTI \\xea\\xb7\\x9c\\xec\\xa0\\x9c \\xec\\xa0\\x81\\xec\\x9a\\xa9 \\xea\\xb2\\x80\\xed\\x86\\xa0</h3> <span class=\"info_view\"> <span class=\"txt_info\">\\xea\\xb9\\x80\\xeb\\x8f\\x99\\xec\\x9a\\xb1</span> <span class=\"txt_info\">\\xec\\x9e\\x85\\xeb\\xa0\\xa5 <span class=\"num_date\">2017. 06. 15. 20:34</span></span> <span class=\"txt_info\">\\xec\\x88\\x98\\xec\\xa0\\x95 <span class=\"num_date\">2017. 06. 15. 21:31</span></span> <button id=\"alexCounter\" class=\"emph_g2 link_cmt\">\\xeb\\x8c\\x93\\xea\\xb8\\x80 <span class=\"alex-count-area\">0</span>\\xea\\xb0\\x9c</button> </span> \\n      <div class=\"util_view\"> \\n       <h4 class=\"screen_out\">\\xea\\xb8\\xb0\\xec\\x82\\xac \\xeb\\x8f\\x84\\xea\\xb5\\xac \\xeb\\xaa\\xa8\\xec\\x9d\\x8c</h4>  \\n       <div class=\"btn_util util_summary\"> <button type=\"button\" class=\"btn_summary\" aria-expanded=\"false\"><span class=\"ico_newsview\">\\xec\\x9e\\x90\\xeb\\x8f\\x99\\xec\\x9a\\x94\\xec\\x95\\xbd</span></button> \\n        <div class=\"wrap_setlayer\"> \\n         <div class=\"layer_util layer_summary\"> \\n          <p>\\xea\\xb8\\x88\\xec\\x9c\\xb5\\xeb\\x8b\\xb9\\xea\\xb5\\xad\\xec\\x9d\\xb4 \\xea\\xb8\\x89\\xec\\xa6\\x9d\\xed\\x95\\x98\\xeb\\x8a\\x94 \\xea\\xb0\\x80\\xea\\xb3\\x84\\xeb\\xb6\\x80\\xec\\xb1\\x84 \\xec\\xa6\\x9d\\xea\\xb0\\x80\\xec\\x84\\xb8\\xeb\\xa5\\xbc \\xeb\\xa7\\x89\\xea\\xb8\\xb0 \\xec\\x9c\\x84\\xed\\x95\\xb4 \\xec\\x95\\x84\\xed\\x8c\\x8c\\xed\\x8a\\xb8 \\xec\\x9e\\x94\\xea\\xb8\\x88\\xeb\\x8c\\x80\\xec\\xb6\\x9c\\xec\\x97\\x90\\xeb\\x8f\\x84 \\xec\\x86\\x8c\\xeb\\x93\\x9d\\xec\\x9d\\x84 \\xeb\\x94\\xb0\\xec\\xa0\\xb8 \\xeb\\x8c\\x80\\xec\\xb6\\x9c\\xed\\x95\\x9c\\xeb\\x8f\\x84\\xeb\\xa5\\xbc \\xec\\xa0\\x95\\xed\\x95\\x98\\xeb\\x8a\\x94 \\xec\\xb4\\x9d\\xeb\\xb6\\x80\\xec\\xb1\\x84\\xec\\x83\\x81\\xed\\x99\\x98\\xeb\\xb9\\x84\\xec\\x9c\\xa8(DTI)\\xec\\x9d\\x84 \\xec\\xa0\\x81\\xec\\x9a\\xa9\\xed\\x95\\x98\\xeb\\x8a\\x94 \\xeb\\xb0\\xa9\\xec\\x95\\x88\\xec\\x9d\\x84 \\xec\\x9c\\xa0\\xeb\\xa0\\xa5\\xed\\x95\\x98\\xea\\xb2\\x8c \\xea\\xb2\\x80\\xed\\x86\\xa0\\xed\\x95\\x98\\xea\\xb3\\xa0 \\xec\\x9e\\x88\\xeb\\x8b\\xa4.</p>\\n          <p>\\xec\\xa7\\x80\\xea\\xb8\\x88\\xec\\x9d\\x80 \\xec\\xa7\\x91\\xea\\xb0\\x92\\xec\\x9d\\x84 \\xea\\xb8\\xb0\\xec\\xa4\\x80\\xec\\x9c\\xbc\\xeb\\xa1\\x9c \\xeb\\x8c\\x80\\xec\\xb6\\x9c\\xed\\x95\\x9c\\xeb\\x8f\\x84\\xeb\\xa5\\xbc \\xeb\\xa7\\xa4\\xea\\xb8\\xb0\\xeb\\x8a\\x94 \\xec\\xa3\\xbc\\xed\\x83\\x9d\\xeb\\x8b\\xb4\\xeb\\xb3\\xb4\\xec\\x9d\\xb8\\xec\\xa0\\x95\\xeb\\xb9\\x84\\xec\\x9c\\xa8(LTV) \\xea\\xb7\\x9c\\xec\\xa0\\x9c\\xeb\\xa7\\x8c \\xec\\xa0\\x81\\xec\\x9a\\xa9\\xeb\\x8f\\xbc \\xec\\x86\\x8c\\xeb\\x93\\x9d\\xec\\x9d\\xb4 \\xec\\x97\\x86\\xec\\x96\\xb4\\xeb\\x8f\\x84 \\xec\\xa7\\x91\\xea\\xb0\\x92\\xec\\x9d\\x98 70%\\xeb\\xa5\\xbc \\xeb\\xb9\\x8c\\xeb\\xa0\\xa4 \\xec\\x9e\\x94\\xea\\xb8\\x88\\xec\\x9d\\x84 \\xec\\xb9\\x98\\xeb\\xa5\\xb4\\xeb\\x8a\\x94 \\xea\\xb2\\x8c \\xea\\xb0\\x80\\xeb\\x8a\\xa5\\xed\\x95\\x98\\xeb\\x8b\\xa4.</p>\\n          <p>\\xec\\x95\\x9e\\xec\\x9c\\xbc\\xeb\\xa1\\x9c \\xec\\x9e\\x94\\xea\\xb8\\x88\\xeb\\x8c\\x80\\xec\\xb6\\x9c\\xec\\x97\\x90 DTI\\xea\\xb0\\x80 \\xec\\xa0\\x81\\xec\\x9a\\xa9\\xeb\\x90\\x98\\xeb\\xa9\\xb4 \\xec\\x86\\x8c\\xeb\\x93\\x9d\\xec\\x9d\\xb4 \\xec\\x97\\x86\\xeb\\x8a\\x94 \\xec\\x82\\xac\\xeb\\x9e\\x8c\\xec\\x9d\\x80 \\xec\\xa7\\x91\\xea\\xb0\\x92\\xec\\x9d\\x98 70% \\xeb\\x8c\\x80\\xec\\xb6\\x9c \\xeb\\xb0\\x9b\\xeb\\x8a\\x94 \\xea\\xb2\\x8c \\xec\\x96\\xb4\\xeb\\xa0\\xa4\\xec\\x9b\\x8c\\xec\\xa7\\x84\\xeb\\x8b\\xa4.</p> <span class=\"info_summary\"><span class=\"ico_newsview\"></span>\\xea\\xb8\\xb0\\xec\\x82\\xac \\xec\\xa0\\x9c\\xeb\\xaa\\xa9\\xea\\xb3\\xbc \\xec\\xa3\\xbc\\xec\\x9a\\x94 \\xeb\\xac\\xb8\\xec\\x9e\\xa5\\xec\\x9d\\x84 \\xea\\xb8\\xb0\\xeb\\xb0\\x98\\xec\\x9c\\xbc\\xeb\\xa1\\x9c \\xec\\x9e\\x90\\xeb\\x8f\\x99\\xec\\x9a\\x94\\xec\\x95\\xbd\\xed\\x95\\x9c \\xea\\xb2\\xb0\\xea\\xb3\\xbc\\xec\\x9e\\x85\\xeb\\x8b\\x88\\xeb\\x8b\\xa4. \\xec\\xa0\\x84\\xec\\xb2\\xb4 \\xeb\\xa7\\xa5\\xeb\\x9d\\xbd\\xec\\x9d\\x84 \\xec\\x9d\\xb4\\xed\\x95\\xb4\\xed\\x95\\x98\\xea\\xb8\\xb0 \\xec\\x9c\\x84\\xed\\x95\\xb4\\xec\\x84\\x9c\\xeb\\x8a\\x94 \\xeb\\xb3\\xb8\\xeb\\xac\\xb8 \\xeb\\xb3\\xb4\\xea\\xb8\\xb0\\xeb\\xa5\\xbc \\xea\\xb6\\x8c\\xec\\x9e\\xa5\\xed\\x95\\xa9\\xeb\\x8b\\x88\\xeb\\x8b\\xa4.</span> \\n         </div> \\n        </div> \\n       </div>  \\n       <div class=\"btn_util tts_btn\"> <button type=\"button\" class=\"btn_set btn_tts\" aria-expanded=\"false\"> <span class=\"ico_newsview ico_speak\">\\xec\\x9d\\x8c\\xec\\x84\\xb1 \\xea\\xb8\\xb0\\xec\\x82\\xac \\xeb\\x93\\xa3\\xea\\xb8\\xb0</span> </button> \\n        <div class=\"wrap_setlayer\"> \\n         <div class=\"layer_util layer_set layer_tts\"> <strong class=\"screen_out\">\\xec\\x9d\\x8c\\xec\\x84\\xb1 \\xea\\xb8\\xb0\\xec\\x82\\xac \\xec\\x98\\xb5\\xec\\x85\\x98 \\xec\\xa1\\xb0\\xec\\xa0\\x88 \\xeb\\xa0\\x88\\xec\\x9d\\xb4\\xec\\x96\\xb4</strong> \\n          <ul class=\"list_set list_tts\"> \\n           <li> <input type=\"radio\" id=\"ttsGenderMale\" name=\"ttsGender\" class=\"screen_out\" value=\"Male\"> <label class=\"lab_set\" for=\"ttsGenderMale\"><span class=\"ico_newsview\"></span>\\xeb\\x82\\xa8\\xec\\x84\\xb1</label> </li> \\n           <li> <input type=\"radio\" id=\"ttsGenderFemale\" name=\"ttsGender\" class=\"screen_out\" value=\"Female\"> <label class=\"lab_set\" for=\"ttsGenderFemale\"><span class=\"ico_newsview\"></span>\\xec\\x97\\xac\\xec\\x84\\xb1</label> </li> \\n          </ul> \\n          <ul class=\"list_set list_tts list_ttsspeed\"> \\n           <li> <input type=\"radio\" id=\"ttsSpeedSlow\" name=\"ttsSpeed\" class=\"screen_out\" value=\"slow\"> <label class=\"lab_set\" for=\"ttsSpeedSlow\"><span class=\"ico_newsview\"></span>\\xeb\\x8a\\x90\\xeb\\xa6\\xbc</label> </li> \\n           <li> <input type=\"radio\" id=\"ttsSpeedNormal\" name=\"ttsSpeed\" class=\"screen_out\" value=\"normal\"> <label class=\"lab_set\" for=\"ttsSpeedNormal\"><span class=\"ico_newsview\"></span>\\xeb\\xb3\\xb4\\xed\\x86\\xb5</label> </li> \\n           <li> <input type=\"radio\" id=\"ttsSpeedFast\" name=\"ttsSpeed\" class=\"screen_out\" value=\"fast\"> <label class=\"lab_set\" for=\"ttsSpeedFast\"><span class=\"ico_newsview\"></span>\\xeb\\xb9\\xa0\\xeb\\xa6\\x84</label> </li> \\n          </ul> \\n         </div> \\n        </div> \\n        <audio style=\"display:none\" preload=\"none\" id=\"ttsPlayer\"></audio> \\n       </div>  \\n       <div class=\"btn_util translate_btn\"> <button type=\"button\" class=\"btn_set btn_translate #util #translate #set\" aria-expanded=\"false\"><span class=\"ico_newsview\">\\xeb\\xb2\\x88\\xec\\x97\\xad \\xec\\x84\\xa4\\xec\\xa0\\x95</span></button> \\n        <div class=\"wrap_translatelayer\"> \\n         <div class=\"layer_util layer_translate\"> <strong class=\"tit_translate\">\\xeb\\xb2\\x88\\xec\\x97\\xad<span class=\"ico_newsview\">beta</span> </strong> \\n          <p class=\"desc_translate txt_newsview\">Translated by <a href=\"https://kakao.ai/\" target=\"_blank\" class=\"link_kakaoi #util #translate #kakaoi_link\">kakao i</a></p> <strong class=\"screen_out\">\\xeb\\xb2\\x88\\xec\\x97\\xad\\xed\\x95\\xa0 \\xec\\x96\\xb8\\xec\\x96\\xb4 \\xec\\x84\\xa0\\xed\\x83\\x9d</strong> \\n          <ul class=\"list_lang\"> \\n           <li> <button class=\"btn_lang btn_en #util #translate #lang_en\" name=\"en\"> <span class=\"ico_newsview ico_flag\"></span> <strong class=\"ico_newsview tit_lang\">English</strong> </button> </li> \\n           <li> <button type=\"button\" class=\"btn_lang btn_ch #util #translate #lang_cn\" name=\"cn\"> <span class=\"ico_newsview ico_flag\"></span> <strong class=\"ico_newsview tit_lang\">\\xe7\\xae\\x80\\xe4\\xbd\\x93\\xe4\\xb8\\xad\\xe6\\x96\\x87</strong> </button> </li> \\n           <li> <button type=\"button\" class=\"btn_lang btn_jp #util #translate #lang_jp\" name=\"jp\"> <span class=\"ico_newsview ico_flag\"></span> <strong class=\"ico_newsview tit_lang\">\\xe6\\x97\\xa5\\xe6\\x9c\\xac\\xe8\\xaa\\x9e</strong> </button> </li> \\n           <li> <button type=\"button\" class=\"btn_lang btn_ind #util #translate #lang_id\" name=\"id\"> <span class=\"ico_newsview ico_flag\"></span> <strong class=\"ico_newsview tit_lang\">Bahasa Indonesia</strong> </button> </li> \\n           <li> <button type=\"button\" class=\"btn_lang btn_viet #util #translate #lang_vi\" name=\"vi\"> <span class=\"ico_newsview ico_flag\"></span> <strong class=\"ico_newsview tit_lang\">ti\\xe1\\xba\\xbfng Vi\\xe1\\xbb\\x87t</strong> </button> </li> \\n           <li> <button type=\"button\" class=\"btn_lang btn_ko #util #translate #lang_kr\" name=\"kr\"> <span class=\"ico_newsview ico_flag\"></span> <strong class=\"ico_newsview tit_lang\">\\xed\\x95\\x9c\\xea\\xb5\\xad\\xec\\x96\\xb4</strong> </button> </li> \\n          </ul> \\n         </div> \\n        </div> \\n       </div>  \\n       <div class=\"btn_util share_btn\"> <button id=\"rSocialShareButton\" class=\"btn_set btn_share\" aria-expanded=\"false\"> <span class=\"ico_newsview\">\\xea\\xb3\\xb5\\xec\\x9c\\xa0</span> </button> \\n        <div id=\"rSocialShareLayerContainer\"></div>  \\n       </div>  \\n       <div class=\"btn_util font_btn\"> <button type=\"button\" class=\"btn_set btn_font\" aria-expanded=\"false\"> <span class=\"ico_newsview ico_font\">\\xea\\xb8\\x80\\xec\\x94\\xa8\\xed\\x81\\xac\\xea\\xb8\\xb0 \\xec\\xa1\\xb0\\xec\\xa0\\x88\\xed\\x95\\x98\\xea\\xb8\\xb0</span> </button> \\n        <div class=\"wrap_setlayer\"> \\n         <div class=\"layer_util layer_set layer_font\"> <strong class=\"screen_out\">\\xea\\xb8\\x80\\xec\\x9e\\x90 \\xed\\x81\\xac\\xea\\xb8\\xb0 \\xec\\xa1\\xb0\\xec\\xa0\\x88 \\xeb\\xa0\\x88\\xec\\x9d\\xb4\\xec\\x96\\xb4</strong> \\n          <ul class=\"list_set list_font\"> \\n           <li> <input type=\"radio\" id=\"inpFont17\" name=\"inpFont\" class=\"screen_out\" value=\"17\"> <label class=\"lab_set lab_size0\" for=\"inpFont17\"> <span class=\"ico_newsview\"></span> <span aria-hidden=\"true\">\\xea\\xb0\\x80\\xeb\\x82\\x98\\xeb\\x8b\\xa4\\xeb\\x9d\\xbc\\xeb\\xa7\\x88\\xeb\\xb0\\x94\\xec\\x82\\xac</span> <span class=\"screen_out\">\\xeb\\xa7\\xa4\\xec\\x9a\\xb0 \\xec\\x9e\\x91\\xec\\x9d\\x80 \\xed\\x8f\\xb0\\xed\\x8a\\xb8</span> </label> </li> \\n           <li> <input type=\"radio\" id=\"inpFont18\" name=\"inpFont\" class=\"screen_out\" value=\"18\"> <label class=\"lab_set lab_size1\" for=\"inpFont18\"> <span class=\"ico_newsview\"></span> <span aria-hidden=\"true\">\\xea\\xb0\\x80\\xeb\\x82\\x98\\xeb\\x8b\\xa4\\xeb\\x9d\\xbc\\xeb\\xa7\\x88\\xeb\\xb0\\x94\\xec\\x82\\xac</span> <span class=\"screen_out\">\\xec\\x9e\\x91\\xec\\x9d\\x80 \\xed\\x8f\\xb0\\xed\\x8a\\xb8</span> </label> </li> \\n           <li> <input type=\"radio\" id=\"inpFont19\" name=\"inpFont\" class=\"screen_out\" value=\"19\"> <label class=\"lab_set lab_size2\" for=\"inpFont19\"> <span class=\"ico_newsview\"></span> <span aria-hidden=\"true\">\\xea\\xb0\\x80\\xeb\\x82\\x98\\xeb\\x8b\\xa4\\xeb\\x9d\\xbc\\xeb\\xa7\\x88\\xeb\\xb0\\x94\\xec\\x82\\xac</span> <span class=\"screen_out\">\\xeb\\xb3\\xb4\\xed\\x86\\xb5 \\xed\\x8f\\xb0\\xed\\x8a\\xb8</span> </label> </li> \\n           <li> <input type=\"radio\" id=\"inpFont20\" name=\"inpFont\" class=\"screen_out\" value=\"20\"> <label class=\"lab_set lab_size3\" for=\"inpFont20\"> <span class=\"ico_newsview\"></span> <span aria-hidden=\"true\">\\xea\\xb0\\x80\\xeb\\x82\\x98\\xeb\\x8b\\xa4\\xeb\\x9d\\xbc\\xeb\\xa7\\x88\\xeb\\xb0\\x94\\xec\\x82\\xac</span> <span class=\"screen_out\">\\xed\\x81\\xb0 \\xed\\x8f\\xb0\\xed\\x8a\\xb8</span> </label> </li> \\n           <li> <input type=\"radio\" id=\"inpFont21\" name=\"inpFont\" class=\"screen_out\" value=\"21\"> <label class=\"lab_set lab_size4\" for=\"inpFont21\"> <span class=\"ico_newsview\"></span> <span aria-hidden=\"true\">\\xea\\xb0\\x80\\xeb\\x82\\x98\\xeb\\x8b\\xa4\\xeb\\x9d\\xbc\\xeb\\xa7\\x88\\xeb\\xb0\\x94\\xec\\x82\\xac</span> <span class=\"screen_out\">\\xeb\\xa7\\xa4\\xec\\x9a\\xb0 \\xed\\x81\\xb0 \\xed\\x8f\\xb0\\xed\\x8a\\xb8</span> </label> </li> \\n          </ul> \\n         </div> \\n        </div> \\n       </div>  \\n       <div class=\"btn_util\"> <button type=\"button\" class=\"btn_print\"><span class=\"ico_newsview\">\\xec\\x9d\\xb8\\xec\\x87\\x84\\xed\\x95\\x98\\xea\\xb8\\xb0 \\xec\\x83\\x88\\xec\\xb0\\xbd\\xec\\x97\\xb4\\xeb\\xa6\\xbc</span></button> \\n       </div> \\n      </div> \\n     </div>               \\n    </div> \\n    <div id=\"cMain\"> \\n     <div id=\"mArticle\"> \\n      <div data-cloud-area=\"article\">   \\n       <div id=\"translateNotice\" class=\"status_view\" style=\"display:none;\" data-cloud=\"pc_article_body\"> <span class=\"notice_lang notice_lang_en\" style=\"display:none;\">The copyright belongs to the original writer of the content, and there may be errors in machine translation results.</span> <span class=\"notice_lang notice_lang_cn\" style=\"display:none;\">\\xe7\\x89\\x88\\xe6\\x9d\\x83\\xe5\\xbd\\x92\\xe5\\x86\\x85\\xe5\\xae\\xb9\\xe5\\x8e\\x9f\\xe4\\xbd\\x9c\\xe8\\x80\\x85\\xe6\\x89\\x80\\xe6\\x9c\\x89\\xe3\\x80\\x82\\xe6\\x9c\\xba\\xe5\\x99\\xa8\\xe7\\xbf\\xbb\\xe8\\xaf\\x91\\xe7\\xbb\\x93\\xe6\\x9e\\x9c\\xe5\\x8f\\xaf\\xe8\\x83\\xbd\\xe5\\xad\\x98\\xe5\\x9c\\xa8\\xe9\\x94\\x99\\xe8\\xaf\\xaf\\xe3\\x80\\x82</span> <span class=\"notice_lang notice_lang_jp\" style=\"display:none;\">\\xe5\\x8e\\x9f\\xe6\\x96\\x87\\xe3\\x81\\xae\\xe8\\x91\\x97\\xe4\\xbd\\x9c\\xe6\\xa8\\xa9\\xe3\\x81\\xaf\\xe5\\x8e\\x9f\\xe8\\x91\\x97\\xe8\\x91\\x97\\xe4\\xbd\\x9c\\xe8\\x80\\x85\\xe3\\x81\\xab\\xe3\\x81\\x82\\xe3\\x82\\x8a\\xe3\\x80\\x81\\xe6\\xa9\\x9f\\xe6\\xa2\\xb0\\xe7\\xbf\\xbb\\xe8\\xa8\\xb3\\xe3\\x81\\xae\\xe7\\xb5\\x90\\xe6\\x9e\\x9c\\xe3\\x81\\xab\\xe3\\x82\\xa8\\xe3\\x83\\xa9\\xe3\\x83\\xbc\\xe3\\x81\\x8c\\xe5\\x90\\xab\\xe3\\x81\\xbe\\xe3\\x82\\x8c\\xe3\\x82\\x8b\\xe3\\x81\\x93\\xe3\\x81\\xa8\\xe3\\x81\\x8c\\xe3\\x81\\x82\\xe3\\x82\\x8a\\xe3\\x81\\xbe\\xe3\\x81\\x99\\xe3\\x80\\x82</span> <span class=\"notice_lang notice_lang_id\" style=\"display:none;\">Hak cipta milik penulis asli dari konten, dan mungkin ditemukan kesalahan dalam hasil terjemahan mesin.</span> <span class=\"notice_lang notice_lang_vi\" style=\"display:none;\">B\\xe1\\xba\\xa3n quy\\xe1\\xbb\\x81n thu\\xe1\\xbb\\x99c v\\xe1\\xbb\\x81 t\\xc3\\xa1c gi\\xe1\\xba\\xa3 g\\xe1\\xbb\\x91c c\\xe1\\xbb\\xa7a n\\xe1\\xbb\\x99i dung v\\xc3\\xa0 c\\xc3\\xb3 th\\xe1\\xbb\\x83 c\\xc3\\xb3 l\\xe1\\xbb\\x97i trong k\\xe1\\xba\\xbft qu\\xe1\\xba\\xa3 d\\xe1\\xbb\\x8bch b\\xe1\\xba\\xb1ng m\\xc3\\xa1y.</span> \\n       </div>  \\n       <div class=\"news_view\" style=\"font-size:17px\" data-cloud=\"pc_article_body\"> \\n        <div id=\"harmonyContainer\" class=\"article_view\" data-translation-body=\"true\"> \\n         <section dmcf-sid=\"ndxAvoEFLc\">\\n          <p dmcf-pid=\"nzrJ5KB3Cc\" dmcf-ptype=\"general\">\\xeb\\x82\\xb4\\xec\\xa3\\xbc \\xeb\\xb6\\x80\\xeb\\x8f\\x99\\xec\\x82\\xb0 \\xec\\xa2\\x85\\xed\\x95\\xa9\\xeb\\x8c\\x80\\xec\\xb1\\x85 \\xeb\\xb0\\x9c\\xed\\x91\\x9c</p>\\n          <p dmcf-pid=\"ncFbmYUgSc\" dmcf-ptype=\"general\">\\xec\\xa7\\x91\\xea\\xb0\\x92 \\xec\\x83\\x81\\xec\\x8a\\xb9 \\xeb\\x85\\xb8\\xeb\\xa6\\xb0 \\xed\\x88\\xac\\xea\\xb8\\xb0 \\xeb\\xb6\\x84\\xec\\x96\\x91 \\xec\\xb0\\xa8\\xeb\\x8b\\xa8</p>\\n          <p dmcf-pid=\"naDeB8j0HH\" dmcf-ptype=\"general\">LTV\\xe3\\x86\\x8dDTI \\xea\\xb7\\x9c\\xec\\xa0\\x9c \\xeb\\x8b\\xa4\\xec\\x8b\\x9c \\xea\\xb0\\x95\\xed\\x99\\x94\\xed\\x95\\xa0 \\xeb\\x93\\xaf</p>\\n          <p dmcf-pid=\"ngfl6lJwwk\" dmcf-ptype=\"general\">\\xec\\xa0\\x80\\xec\\x86\\x8c\\xeb\\x93\\x9d \\xec\\x8b\\xa4\\xec\\x88\\x98\\xec\\x9a\\x94\\xec\\x9e\\x90 \\xed\\x94\\xbc\\xed\\x95\\xb4 \\xec\\x9a\\xb0\\xeb\\xa0\\xa4\\xeb\\x8f\\x84</p>\\n          <figure class=\"figure_frm origin_fig\" dmcf-pid=\"nYQ8LWIMpD\" dmcf-ptype=\"figure\">\\n           <p class=\"link_figure\"><img class=\"thumb_g_article\" data-org-src=\"http://t1.daumcdn.net/news/201706/15/hankooki/20170615044256378kzbd.jpg\" data-org-width=\"330\" dmcf-mid=\"nkjJSoPdyb\" dmcf-mtype=\"image\" height=\"auto\" src=\"https://img2.daumcdn.net/thumb/R658x0.q70/?fname=http://t1.daumcdn.net/news/201706/15/hankooki/20170615044256378kzbd.jpg\" width=\"658\"></p>\\n          </figure>\\n          <p dmcf-pid=\"n8guDAko3Z\" dmcf-ptype=\"general\">\\xea\\xb8\\x88\\xec\\x9c\\xb5\\xeb\\x8b\\xb9\\xea\\xb5\\xad\\xec\\x9d\\xb4 \\xea\\xb8\\x89\\xec\\xa6\\x9d\\xed\\x95\\x98\\xeb\\x8a\\x94 \\xea\\xb0\\x80\\xea\\xb3\\x84\\xeb\\xb6\\x80\\xec\\xb1\\x84 \\xec\\xa6\\x9d\\xea\\xb0\\x80\\xec\\x84\\xb8\\xeb\\xa5\\xbc \\xeb\\xa7\\x89\\xea\\xb8\\xb0 \\xec\\x9c\\x84\\xed\\x95\\xb4 \\xec\\x95\\x84\\xed\\x8c\\x8c\\xed\\x8a\\xb8 \\xec\\x9e\\x94\\xea\\xb8\\x88\\xeb\\x8c\\x80\\xec\\xb6\\x9c\\xec\\x97\\x90\\xeb\\x8f\\x84 \\xec\\x86\\x8c\\xeb\\x93\\x9d\\xec\\x9d\\x84 \\xeb\\x94\\xb0\\xec\\xa0\\xb8 \\xeb\\x8c\\x80\\xec\\xb6\\x9c\\xed\\x95\\x9c\\xeb\\x8f\\x84\\xeb\\xa5\\xbc \\xec\\xa0\\x95\\xed\\x95\\x98\\xeb\\x8a\\x94 \\xec\\xb4\\x9d\\xeb\\xb6\\x80\\xec\\xb1\\x84\\xec\\x83\\x81\\xed\\x99\\x98\\xeb\\xb9\\x84\\xec\\x9c\\xa8(DTI)\\xec\\x9d\\x84 \\xec\\xa0\\x81\\xec\\x9a\\xa9\\xed\\x95\\x98\\xeb\\x8a\\x94 \\xeb\\xb0\\xa9\\xec\\x95\\x88\\xec\\x9d\\x84 \\xec\\x9c\\xa0\\xeb\\xa0\\xa5\\xed\\x95\\x98\\xea\\xb2\\x8c \\xea\\xb2\\x80\\xed\\x86\\xa0\\xed\\x95\\x98\\xea\\xb3\\xa0 \\xec\\x9e\\x88\\xeb\\x8b\\xa4. \\xec\\xa7\\x80\\xea\\xb8\\x88\\xec\\x9d\\x80 \\xec\\xa7\\x91\\xea\\xb0\\x92\\xec\\x9d\\x84 \\xea\\xb8\\xb0\\xec\\xa4\\x80\\xec\\x9c\\xbc\\xeb\\xa1\\x9c \\xeb\\x8c\\x80\\xec\\xb6\\x9c\\xed\\x95\\x9c\\xeb\\x8f\\x84\\xeb\\xa5\\xbc \\xeb\\xa7\\xa4\\xea\\xb8\\xb0\\xeb\\x8a\\x94 \\xec\\xa3\\xbc\\xed\\x83\\x9d\\xeb\\x8b\\xb4\\xeb\\xb3\\xb4\\xec\\x9d\\xb8\\xec\\xa0\\x95\\xeb\\xb9\\x84\\xec\\x9c\\xa8(LTV) \\xea\\xb7\\x9c\\xec\\xa0\\x9c\\xeb\\xa7\\x8c \\xec\\xa0\\x81\\xec\\x9a\\xa9\\xeb\\x8f\\xbc \\xec\\x86\\x8c\\xeb\\x93\\x9d\\xec\\x9d\\xb4 \\xec\\x97\\x86\\xec\\x96\\xb4\\xeb\\x8f\\x84 \\xec\\xa7\\x91\\xea\\xb0\\x92\\xec\\x9d\\x98 70%\\xeb\\xa5\\xbc \\xeb\\xb9\\x8c\\xeb\\xa0\\xa4 \\xec\\x9e\\x94\\xea\\xb8\\x88\\xec\\x9d\\x84 \\xec\\xb9\\x98\\xeb\\xa5\\xb4\\xeb\\x8a\\x94 \\xea\\xb2\\x8c \\xea\\xb0\\x80\\xeb\\x8a\\xa5\\xed\\x95\\x98\\xeb\\x8b\\xa4. \\xec\\x95\\x9e\\xec\\x9c\\xbc\\xeb\\xa1\\x9c \\xec\\x9e\\x94\\xea\\xb8\\x88\\xeb\\x8c\\x80\\xec\\xb6\\x9c\\xec\\x97\\x90 DTI\\xea\\xb0\\x80 \\xec\\xa0\\x81\\xec\\x9a\\xa9\\xeb\\x90\\x98\\xeb\\xa9\\xb4 \\xec\\x86\\x8c\\xeb\\x93\\x9d \\xec\\x97\\x86\\xeb\\x8a\\x94 \\xec\\x82\\xac\\xeb\\x9e\\x8c\\xec\\x9d\\xb4 \\xec\\x9e\\x85\\xec\\xa3\\xbc \\xeb\\x92\\xa4 \\xec\\xa7\\x91\\xea\\xb0\\x92 \\xec\\x83\\x81\\xec\\x8a\\xb9\\xec\\x9d\\x84 \\xeb\\x85\\xb8\\xeb\\xa6\\xac\\xea\\xb3\\xa0 \\xeb\\xb6\\x84\\xec\\x96\\x91\\xec\\x8b\\x9c\\xec\\x9e\\xa5\\xec\\x97\\x90 \\xeb\\x9b\\xb0\\xec\\x96\\xb4\\xeb\\x93\\x9c\\xeb\\x8a\\x94 \\xea\\xb2\\x8c \\xec\\x82\\xac\\xec\\x8b\\xa4\\xec\\x83\\x81 \\xeb\\xb6\\x88\\xea\\xb0\\x80\\xeb\\x8a\\xa5\\xed\\x95\\xb4\\xec\\xa7\\x84\\xeb\\x8b\\xa4. </p>\\n          <p dmcf-pid=\"nYPaCCRO1q\" dmcf-ptype=\"general\">\\xea\\xb8\\x88\\xec\\x9c\\xb5\\xeb\\x8b\\xb9\\xea\\xb5\\xad \\xea\\xb3\\xa0\\xec\\x9c\\x84\\xea\\xb4\\x80\\xea\\xb3\\x84\\xec\\x9e\\x90\\xeb\\x8a\\x94 15\\xec\\x9d\\xbc \\xe2\\x80\\x9c\\xec\\x9e\\x94\\xea\\xb8\\x88\\xeb\\x8c\\x80\\xec\\xb6\\x9c\\xec\\x97\\x90\\xeb\\x8f\\x84 DTI\\xeb\\xa5\\xbc \\xec\\xa0\\x81\\xec\\x9a\\xa9\\xed\\x95\\x98\\xeb\\x8a\\x94 \\xeb\\xb0\\xa9\\xec\\x95\\x88\\xec\\x9d\\x84 \\xea\\xb2\\x80\\xed\\x86\\xa0 \\xec\\xa4\\x91\\xe2\\x80\\x9d\\xec\\x9d\\xb4\\xeb\\x9d\\xbc\\xeb\\xa9\\xb0 \\xe2\\x80\\x9c\\xeb\\x8b\\xa4\\xeb\\xa7\\x8c \\xec\\x95\\x84\\xec\\xa7\\x81 \\xec\\xb5\\x9c\\xec\\xa2\\x85 \\xea\\xb2\\xb0\\xeb\\xa1\\xa0\\xec\\x9d\\xb4 \\xeb\\x82\\x9c \\xea\\xb1\\xb4 \\xec\\x95\\x84\\xeb\\x8b\\x88\\xeb\\x8b\\xa4\\xe2\\x80\\x9d\\xea\\xb3\\xa0 \\xeb\\xa7\\x90\\xed\\x96\\x88\\xeb\\x8b\\xa4. \\xec\\xa0\\x95\\xeb\\xb6\\x80\\xeb\\x8a\\x94 \\xeb\\x82\\xb4\\xec\\xa3\\xbc \\xec\\x9d\\xb4 \\xea\\xb0\\x99\\xec\\x9d\\x80 \\xeb\\x82\\xb4\\xec\\x9a\\xa9\\xec\\x9d\\x84 \\xed\\x8f\\xac\\xed\\x95\\xa8\\xed\\x95\\x9c \\xeb\\xb6\\x80\\xeb\\x8f\\x99\\xec\\x82\\xb0 \\xec\\xa2\\x85\\xed\\x95\\xa9 \\xeb\\x8c\\x80\\xec\\xb1\\x85\\xec\\x9d\\x84 \\xeb\\xb0\\x9c\\xed\\x91\\x9c\\xed\\x95\\xa0 \\xec\\x98\\x88\\xec\\xa0\\x95\\xec\\x9d\\xb4\\xeb\\x8b\\xa4. </p>\\n          <p dmcf-pid=\"naZLBbSgoZ\" dmcf-ptype=\"general\">\\xec\\xa0\\x95\\xeb\\xb6\\x80\\xea\\xb0\\x80 \\xec\\x9e\\x94\\xea\\xb8\\x88\\xeb\\x8c\\x80\\xec\\xb6\\x9c DTI \\xec\\xa0\\x81\\xec\\x9a\\xa9 \\xec\\xb9\\xb4\\xeb\\x93\\x9c\\xeb\\xa5\\xbc \\xea\\xba\\xbc\\xeb\\x82\\xb4\\xeb\\x8a\\x94 \\xea\\xb1\\xb4, \\xec\\xa7\\x91\\xeb\\x8b\\xa8\\xeb\\x8c\\x80\\xec\\xb6\\x9c\\xec\\x9d\\x84 \\xec\\x9e\\xa1\\xec\\xa7\\x80 \\xec\\x95\\x8a\\xea\\xb3\\xa0\\xec\\x84\\xa0 \\xea\\xb3\\xbc\\xec\\x97\\xb4\\xeb\\x90\\x9c \\xec\\xa3\\xbc\\xed\\x83\\x9d\\xec\\x8b\\x9c\\xec\\x9e\\xa5\\xec\\x9d\\x84 \\xec\\xa7\\x84\\xec\\xa0\\x95\\xec\\x8b\\x9c\\xed\\x82\\xa4\\xea\\xb8\\xb0 \\xec\\x96\\xb4\\xeb\\xa0\\xb5\\xeb\\x8b\\xa4\\xeb\\x8a\\x94 \\xed\\x8c\\x90\\xeb\\x8b\\xa8\\xec\\x97\\x90\\xec\\x84\\x9c\\xeb\\x8b\\xa4. \\xec\\x8b\\xa4\\xec\\xa0\\x9c \\xec\\xa0\\x95\\xeb\\xb6\\x80\\xeb\\x8a\\x94 \\xec\\xa7\\x80\\xeb\\x82\\x9c\\xed\\x95\\xb4 \\xec\\x9e\\x94\\xea\\xb8\\x88\\xeb\\x8c\\x80\\xec\\xb6\\x9c\\xeb\\x8f\\x84 \\xeb\\x8c\\x80\\xec\\xb6\\x9c \\xec\\xb4\\x88\\xea\\xb8\\xb0\\xeb\\xb6\\x80\\xed\\x84\\xb0 \\xec\\x9b\\x90\\xeb\\xa6\\xac\\xea\\xb8\\x88\\xec\\x9d\\x84 \\xed\\x95\\xa8\\xea\\xbb\\x98 \\xea\\xb0\\x9a\\xeb\\x8f\\x84\\xeb\\xa1\\x9d \\xed\\x95\\x98\\xeb\\x8a\\x94 \\xec\\x97\\xac\\xec\\x8b\\xa0\\xec\\x8b\\xac\\xec\\x82\\xac \\xea\\xb0\\x80\\xec\\x9d\\xb4\\xeb\\x93\\x9c\\xeb\\x9d\\xbc\\xec\\x9d\\xb8\\xec\\x9d\\x84 \\xeb\\x8f\\x84\\xec\\x9e\\x85\\xed\\x96\\x88\\xec\\xa7\\x80\\xeb\\xa7\\x8c \\xec\\x9d\\xb4\\xeb\\xa0\\x87\\xeb\\x8b\\xa4 \\xed\\x95\\xa0 \\xed\\x9a\\xa8\\xea\\xb3\\xbc\\xeb\\xa5\\xbc \\xea\\xb1\\xb0\\xeb\\x91\\x90\\xec\\xa7\\x80 \\xeb\\xaa\\xbb\\xed\\x96\\x88\\xeb\\x8b\\xa4. \\xec\\x98\\xa4\\xed\\x9e\\x88\\xeb\\xa0\\xa4 \\xec\\xa0\\x95\\xeb\\xb6\\x80 \\xeb\\x8c\\x80\\xec\\xb1\\x85\\xec\\x97\\x90\\xeb\\x8f\\x84 \\xeb\\xb6\\x88\\xea\\xb5\\xac, \\xec\\xa7\\x91\\xeb\\x8b\\xa8\\xeb\\x8c\\x80\\xec\\xb6\\x9c \\xec\\xa6\\x9d\\xea\\xb0\\x80\\xec\\x95\\xa1\\xec\\x9d\\x80 \\xeb\\xa7\\xa4\\xeb\\x8b\\xac \\xeb\\x8a\\x98\\xec\\x96\\xb4\\xeb\\x82\\x98\\xeb\\x8a\\x94 \\xec\\xb6\\x94\\xec\\x84\\xb8\\xec\\x9d\\xb8\\xeb\\x8d\\xb0 \\xec\\xa7\\x80\\xeb\\x82\\x9c\\xeb\\x8b\\xac\\xec\\x97\\x94 2\\xec\\xa1\\xb0\\xec\\x9b\\x90\\xec\\x9c\\xbc\\xeb\\xa1\\x9c \\xec\\x98\\xac \\xeb\\x93\\xa4\\xec\\x96\\xb4 \\xec\\xb5\\x9c\\xea\\xb3\\xa0\\xec\\xb9\\x98\\xeb\\xa5\\xbc \\xea\\xb8\\xb0\\xeb\\xa1\\x9d\\xed\\x96\\x88\\xeb\\x8b\\xa4. </p>\\n          <p dmcf-pid=\"nhAfneUtnA\" dmcf-ptype=\"general\">\\xec\\x95\\x84\\xed\\x8c\\x8c\\xed\\x8a\\xb8 \\xeb\\xb6\\x84\\xec\\x96\\x91 \\xec\\xa7\\x91\\xeb\\x8b\\xa8\\xeb\\x8c\\x80\\xec\\xb6\\x9c\\xec\\x9d\\x80 \\xec\\xa4\\x91\\xeb\\x8f\\x84\\xea\\xb8\\x88\\xea\\xb3\\xbc \\xec\\x9e\\x94\\xea\\xb8\\x88\\xeb\\x8c\\x80\\xec\\xb6\\x9c\\xeb\\xa1\\x9c \\xea\\xb5\\xac\\xeb\\xb6\\x84\\xeb\\x90\\x9c\\xeb\\x8b\\xa4. \\xea\\xb3\\x84\\xec\\x95\\xbd\\xea\\xb8\\x88 10%\\xeb\\xa5\\xbc \\xeb\\x82\\xb4\\xeb\\xa9\\xb4 \\xec\\x9e\\x85\\xec\\xa3\\xbc \\xec\\xa0\\x84\\xea\\xb9\\x8c\\xec\\xa7\\x80 \\xec\\xa7\\x91\\xea\\xb0\\x92\\xec\\x9d\\x98 60%\\xeb\\xa5\\xbc \\xec\\xa4\\x91\\xeb\\x8f\\x84\\xea\\xb8\\x88 \\xeb\\x8c\\x80\\xec\\xb6\\x9c\\xeb\\xa1\\x9c \\xeb\\xb0\\x9b\\xec\\x9d\\x84 \\xec\\x88\\x98 \\xec\\x9e\\x88\\xeb\\x8b\\xa4. \\xec\\xa4\\x91\\xeb\\x8f\\x84\\xea\\xb8\\x88 \\xeb\\x8c\\x80\\xec\\xb6\\x9c\\xec\\x9d\\x80 \\xea\\xb1\\xb4\\xec\\x84\\xa4\\xec\\x82\\xac \\xeb\\xb3\\xb4\\xec\\xa6\\x9d\\xec\\x9c\\xbc\\xeb\\xa1\\x9c \\xec\\x9d\\xb4\\xeb\\xa4\\x84\\xec\\xa0\\xb8 \\xec\\x86\\x8c\\xeb\\x93\\x9d\\xec\\x8b\\xac\\xec\\x82\\xac\\xeb\\xa5\\xbc \\xec\\x95\\x88 \\xea\\xb1\\xb0\\xec\\xb9\\x9c\\xeb\\x8b\\xa4. \\xec\\x9e\\x94\\xea\\xb8\\x88\\xeb\\x8c\\x80\\xec\\xb6\\x9c\\xec\\x9d\\x80 \\xea\\xb1\\xb4\\xec\\x84\\xa4\\xec\\x82\\xac\\xea\\xb0\\x80 \\xec\\x95\\x84\\xeb\\x8b\\x8c \\xec\\xa7\\x91\\xec\\x9d\\x84 \\xeb\\x8b\\xb4\\xeb\\xb3\\xb4\\xeb\\xa1\\x9c \\xec\\x9d\\xb4\\xeb\\xa4\\x84\\xec\\xa7\\x80\\xeb\\x8a\\x94 \\xeb\\x8c\\x80\\xec\\xb6\\x9c\\xec\\x9d\\xb4\\xeb\\x8b\\xa4. LTV \\xea\\xb7\\x9c\\xec\\xa0\\x9c\\xeb\\xa7\\x8c \\xec\\xa0\\x81\\xec\\x9a\\xa9\\xeb\\x8f\\xbc \\xec\\x86\\x8c\\xeb\\x93\\x9d\\xec\\x9d\\xb4 \\xec\\x97\\x86\\xec\\x96\\xb4\\xeb\\x8f\\x84 \\xec\\xa7\\x91\\xea\\xb0\\x92\\xec\\x9d\\x98 70%\\xea\\xb9\\x8c\\xec\\xa7\\x80 \\xeb\\x8c\\x80\\xec\\xb6\\x9c\\xec\\x9d\\xb4 \\xea\\xb0\\x80\\xeb\\x8a\\xa5\\xed\\x95\\x98\\xeb\\x8b\\xa4. \\xeb\\x95\\x8c\\xeb\\xac\\xb8\\xec\\x97\\x90 \\xec\\xa7\\x80\\xea\\xb8\\x88\\xec\\x9d\\x80 \\xec\\x9e\\x94\\xea\\xb8\\x88\\xeb\\x8c\\x80\\xec\\xb6\\x9c\\xeb\\xa1\\x9c \\xec\\xa7\\x91\\xea\\xb0\\x92\\xec\\x9d\\x98 70%\\xeb\\xa5\\xbc \\xeb\\x8c\\x80\\xec\\xb6\\x9c\\xeb\\xb0\\x9b\\xec\\x95\\x84 \\xea\\xb8\\xb0\\xec\\xa1\\xb4 \\xec\\xa4\\x91\\xeb\\x8f\\x84\\xea\\xb8\\x88 \\xeb\\x8c\\x80\\xec\\xb6\\x9c\\xec\\x9d\\x84 \\xea\\xb0\\x9a\\xea\\xb3\\xa0 \\xeb\\x82\\x98\\xeb\\xa8\\xb8\\xec\\xa7\\x80 20%\\xeb\\xa7\\x8c \\xeb\\xb3\\xb8\\xec\\x9d\\xb8 \\xeb\\x8f\\x88\\xec\\x9c\\xbc\\xeb\\xa1\\x9c \\xec\\xb6\\xa9\\xeb\\x8b\\xb9\\xed\\x95\\x98\\xeb\\xa9\\xb4 \\xec\\xa7\\x91\\xec\\x9d\\x84 \\xec\\x82\\xb4 \\xec\\x88\\x98 \\xec\\x9e\\x88\\xeb\\x8b\\xa4.</p>\\n          <p dmcf-pid=\"nCcfu6DK1b\" dmcf-ptype=\"general\">\\xec\\x95\\x9e\\xec\\x9c\\xbc\\xeb\\xa1\\x9c \\xec\\x9e\\x94\\xea\\xb8\\x88\\xeb\\x8c\\x80\\xec\\xb6\\x9c\\xec\\x97\\x90 DTI\\xea\\xb0\\x80 \\xec\\xa0\\x81\\xec\\x9a\\xa9\\xeb\\x90\\x98\\xeb\\xa9\\xb4 \\xec\\x86\\x8c\\xeb\\x93\\x9d\\xec\\x9d\\xb4 \\xec\\x97\\x86\\xeb\\x8a\\x94 \\xec\\x82\\xac\\xeb\\x9e\\x8c\\xec\\x9d\\x80 \\xec\\xa7\\x91\\xea\\xb0\\x92\\xec\\x9d\\x98 70% \\xeb\\x8c\\x80\\xec\\xb6\\x9c \\xeb\\xb0\\x9b\\xeb\\x8a\\x94 \\xea\\xb2\\x8c \\xec\\x96\\xb4\\xeb\\xa0\\xa4\\xec\\x9b\\x8c\\xec\\xa7\\x84\\xeb\\x8b\\xa4. \\xec\\x9e\\x85\\xec\\xa3\\xbc \\xeb\\x92\\xa4 \\xec\\xa7\\x91\\xea\\xb0\\x92 \\xec\\x83\\x81\\xec\\x8a\\xb9\\xec\\x9d\\x84 \\xeb\\x85\\xb8\\xeb\\xa6\\xac\\xeb\\x8a\\x94 \\xed\\x88\\xac\\xea\\xb8\\xb0\\xec\\x88\\x98\\xec\\x9a\\x94\\xeb\\xa5\\xbc \\xed\\x99\\x95\\xec\\x8b\\xa4\\xed\\x9e\\x88 \\xea\\xb1\\xb8\\xeb\\x9f\\xac\\xeb\\x82\\xbc \\xec\\xb4\\x88\\xea\\xb0\\x95\\xeb\\xa0\\xa5 \\xeb\\x8c\\x80\\xec\\xb1\\x85\\xec\\x9d\\xb4 \\xeb\\x90\\xa0 \\xec\\x88\\x98 \\xec\\x9e\\x88\\xeb\\x8b\\xa4. \\xed\\x95\\x98\\xec\\xa7\\x80\\xeb\\xa7\\x8c \\xeb\\xb6\\x80\\xec\\x9e\\x91\\xec\\x9a\\xa9\\xeb\\x8f\\x84 \\xec\\x9a\\xb0\\xeb\\xa0\\xa4\\xeb\\x90\\x9c\\xeb\\x8b\\xa4. \\xec\\x86\\x8c\\xeb\\x93\\x9d\\xec\\x9d\\xb4 \\xeb\\x82\\xae\\xec\\x9d\\x80 \\xec\\x82\\xac\\xed\\x9a\\x8c\\xec\\xb4\\x88\\xeb\\x85\\x84\\xec\\x83\\x9d \\xeb\\x93\\xb1\\xec\\x9d\\x80 \\xec\\xb2\\xad\\xec\\x95\\xbd\\xed\\x86\\xb5\\xec\\x9e\\xa5\\xec\\x9d\\x84 \\xea\\xb0\\x96\\xea\\xb3\\xa0\\xeb\\x8f\\x84 \\xeb\\xb6\\x84\\xec\\x96\\x91\\xec\\x8b\\x9c\\xec\\x9e\\xa5\\xec\\x97\\x90 \\xec\\xa7\\x84\\xec\\x9e\\x85\\xed\\x95\\x98\\xeb\\x8a\\x94 \\xea\\xb2\\x8c \\xec\\x96\\xb4\\xeb\\xa0\\xa4\\xec\\x9b\\x8c\\xec\\xa7\\x80\\xea\\xb8\\xb0 \\xeb\\x95\\x8c\\xeb\\xac\\xb8\\xec\\x9d\\xb4\\xeb\\x8b\\xa4. </p>\\n          <p dmcf-pid=\"nzh7QZekII\" dmcf-ptype=\"general\">\\xec\\x9d\\xb4\\xec\\x97\\x90 \\xeb\\x94\\xb0\\xeb\\x9d\\xbc \\xec\\x9e\\x94\\xea\\xb8\\x88\\xeb\\x8c\\x80\\xec\\xb6\\x9c\\xec\\x97\\x90 DTI\\xeb\\xa5\\xbc \\xec\\xa0\\x81\\xec\\x9a\\xa9\\xed\\x95\\x98\\xeb\\x8a\\x94 \\xea\\xb2\\x83 \\xec\\x97\\xad\\xec\\x8b\\x9c \\xec\\xa7\\x80\\xec\\x97\\xad \\xeb\\x93\\xb1\\xec\\x97\\x90 \\xeb\\x94\\xb0\\xeb\\x9d\\xbc \\xec\\x84\\xa0\\xeb\\xb3\\x84\\xec\\xa0\\x81\\xec\\x9c\\xbc\\xeb\\xa1\\x9c \\xec\\x9d\\xb4\\xeb\\xa4\\x84\\xec\\xa7\\x88 \\xea\\xb0\\x80\\xeb\\x8a\\xa5\\xec\\x84\\xb1\\xec\\x9d\\xb4 \\xeb\\x86\\x92\\xeb\\x8b\\xa4. \\xed\\x98\\x84\\xec\\x9e\\xac \\xeb\\x8b\\xb9\\xea\\xb5\\xad\\xec\\x9d\\x80 \\xec\\x8b\\xa0\\xea\\xb7\\x9c \\xeb\\xb6\\x84\\xec\\x96\\x91 \\xeb\\xac\\xbc\\xeb\\x9f\\x89\\xeb\\xb6\\x80\\xed\\x84\\xb0 \\xea\\xb7\\x9c\\xec\\xa0\\x9c\\xeb\\xa5\\xbc \\xec\\xa0\\x81\\xec\\x9a\\xa9\\xed\\x95\\xa0\\xec\\xa7\\x80 \\xec\\x95\\x84\\xeb\\x8b\\x88\\xeb\\xa9\\xb4 \\xea\\xb8\\xb0\\xec\\xa1\\xb4 \\xeb\\xb6\\x84\\xec\\x96\\x91 \\xeb\\xac\\xbc\\xeb\\x9f\\x89\\xea\\xb9\\x8c\\xec\\xa7\\x80 \\xea\\xb7\\x9c\\xec\\xa0\\x9c \\xeb\\xb2\\x94\\xec\\x9c\\x84\\xeb\\xa5\\xbc \\xed\\x99\\x95\\xeb\\x8c\\x80\\xed\\x95\\xa0\\xec\\xa7\\x80\\xeb\\xa5\\xbc \\xeb\\x86\\x93\\xea\\xb3\\xa0 \\xec\\x8b\\x9c\\xeb\\xae\\xac\\xeb\\xa0\\x88\\xec\\x9d\\xb4\\xec\\x85\\x98\\xec\\x9d\\x84 \\xed\\x95\\x98\\xea\\xb3\\xa0 \\xec\\x9e\\x88\\xeb\\x8b\\xa4. </p>\\n          <p dmcf-pid=\"nihh22vlmu\" dmcf-ptype=\"general\">\\xec\\x95\\x84\\xec\\x9a\\xb8\\xeb\\x9f\\xac \\xeb\\x8b\\xb9\\xea\\xb5\\xad\\xec\\x9d\\x80 \\xec\\xa7\\x80\\xeb\\x82\\x9c 2\\xeb\\x85\\x84\\xea\\xb0\\x84 \\xec\\x99\\x84\\xed\\x99\\x94\\xeb\\x90\\x90\\xeb\\x8d\\x98 LTV\\xec\\x99\\x80 DTI\\xeb\\xa5\\xbc \\xeb\\x8b\\xa4\\xec\\x8b\\x9c \\xea\\xb0\\x95\\xed\\x99\\x94\\xed\\x95\\xa0 \\xea\\xb2\\x83\\xec\\x9c\\xbc\\xeb\\xa1\\x9c \\xeb\\xb3\\xb4\\xec\\x9d\\xb8\\xeb\\x8b\\xa4. \\xed\\x98\\x84\\xec\\x9e\\xac LTV(\\xec\\x9d\\x80\\xed\\x96\\x89 \\xea\\xb8\\xb0\\xec\\xa4\\x80)\\xeb\\x8a\\x94 \\xea\\xb8\\xb0\\xec\\xa1\\xb4 50~60%\\xec\\x97\\x90\\xec\\x84\\x9c 70%, DTI\\xeb\\x8a\\x94 50~60%\\xec\\x97\\x90\\xec\\x84\\x9c 60%\\xeb\\xa1\\x9c \\xec\\x99\\x84\\xed\\x99\\x94\\xeb\\x8f\\xbc \\xec\\x9e\\x88\\xeb\\x8a\\x94 \\xec\\x83\\x81\\xed\\x83\\x9c\\xeb\\x8b\\xa4. \\xeb\\x8b\\xb9\\xea\\xb5\\xad\\xec\\x9d\\x80 \\xec\\x9d\\xbc\\xea\\xb4\\x84\\xec\\xa0\\x81\\xec\\x9d\\xb8 \\xec\\xa1\\xb0\\xec\\x9d\\xb4\\xea\\xb8\\xb0\\xeb\\xb3\\xb4\\xeb\\x8b\\xa4 \\xec\\xa7\\x80\\xec\\x97\\xad\\xe3\\x86\\x8d\\xec\\xa7\\x91\\xea\\xb0\\x92 \\xec\\x88\\x98\\xec\\xa4\\x80\\xeb\\xb3\\x84\\xeb\\xa1\\x9c \\xea\\xb8\\xb0\\xec\\xa4\\x80\\xec\\x9d\\x84 \\xeb\\x8b\\xa4\\xeb\\xa5\\xb4\\xea\\xb2\\x8c \\xec\\xa0\\x81\\xec\\x9a\\xa9\\xed\\x95\\x98\\xeb\\x8a\\x94 \\xeb\\xb0\\xa9\\xec\\x8b\\x9d\\xec\\x9d\\x84 \\xeb\\xaa\\xa8\\xec\\x83\\x89\\xed\\x95\\xa0 \\xea\\xb2\\x83\\xec\\x9c\\xbc\\xeb\\xa1\\x9c \\xeb\\xb3\\xb4\\xec\\x9d\\xb8\\xeb\\x8b\\xa4.</p>\\n          <p dmcf-pid=\"naJ5HNfuMQ\" dmcf-ptype=\"general\">\\xea\\xb9\\x80\\xeb\\x8f\\x99\\xec\\x9a\\xb1 \\xea\\xb8\\xb0\\xec\\x9e\\x90 kdw1280@hankookilbo.com</p>\\n         </section> \\n         <p data-translation=\"true\">\\xe2\\x93\\x92\\xed\\x95\\x9c\\xea\\xb5\\xad\\xec\\x9d\\xbc\\xeb\\xb3\\xb4 www.hankookilbo.com (\\xeb\\xac\\xb4\\xeb\\x8b\\xa8\\xeb\\xb3\\xb5\\xec\\xa0\\x9c \\xeb\\xb0\\x8f \\xec\\xa0\\x84\\xec\\x9e\\xac, \\xec\\x9e\\xac\\xeb\\xb0\\xb0\\xed\\x8f\\xac\\xeb\\xa5\\xbc \\xea\\xb8\\x88\\xec\\xa7\\x80\\xed\\x95\\xa9\\xeb\\x8b\\x88\\xeb\\x8b\\xa4)</p> \\n        </div> \\n       </div>  \\n      </div> \\n      <div class=\"foot_view\" data-cloud-area=\"addition\"> \\n       <div class=\"emotion_wrap\" data-cloud=\"alex_action_emotion\"> \\n        <div class=\"emotion_tit\"> <strong class=\"tit_emotion\">\\xec\\x9d\\xb4 \\xea\\xb8\\xb0\\xec\\x82\\xac\\xec\\x97\\x90 \\xeb\\x8c\\x80\\xed\\x95\\xb4 \\xec\\x96\\xb4\\xeb\\x96\\xbb\\xea\\xb2\\x8c \\xec\\x83\\x9d\\xea\\xb0\\x81\\xed\\x95\\x98\\xec\\x8b\\x9c\\xeb\\x82\\x98\\xec\\x9a\\x94?</strong> \\n        </div> \\n        <div class=\"emotion_list\"> \\n         <div class=\"alex-action\" data-selections=\"RECOMMEND,LIKE,IMPRESS,ANGRY,SAD\" data-client-id=\"26BXAvKny5WF5Z09lr5k77Y8\" data-item-key=\"20170615203441266\" data-action-mode=\"REACTION\" data-on-select-animation-type=\"EXPAND\" data-message-channel=\"alex-action-reactions\"> \\n         </div> \\n        </div> \\n       </div>  \\n       <div class=\"relate_series hide\" data-cloud=\"pc_news_cluster\"> <strong class=\"tit_series\"> <em class=\"tag_series\">\\xec\\x97\\xb0\\xec\\x9e\\xac</em> <span class=\"title_series\"></span> </strong> \\n        <ul class=\"list_series\"></ul> <a href=\"#none\" class=\"link_more\">\\xeb\\x8d\\x94\\xeb\\xb3\\xb4\\xea\\xb8\\xb0</a> \\n       </div>   \\n       <div class=\"cp_view\" data-cloud=\"pc_related_news\"> \\n        <div class=\"cp_tit\"> \\n         <h3 class=\"tit_cp\">\\xed\\x95\\x9c\\xea\\xb5\\xad\\xec\\x9d\\xbc\\xeb\\xb3\\xb4 \\xec\\xa3\\xbc\\xec\\x9a\\x94 \\xeb\\x89\\xb4\\xec\\x8a\\xa4</h3> \\n         <p class=\"info_cp\">\\xed\\x95\\xb4\\xeb\\x8b\\xb9 \\xec\\x96\\xb8\\xeb\\xa1\\xa0\\xec\\x82\\xac\\xeb\\xa1\\x9c \\xec\\x97\\xb0\\xea\\xb2\\xb0\\xeb\\x90\\xa9\\xeb\\x8b\\x88\\xeb\\x8b\\xa4.</p> \\n        </div> \\n        <ul class=\"list_relate\"> \\n         <li><a href=\"http://www.hankookilbo.com/v/801b1cc777e5438f9aa8107a27ec29e1\" title=\"[36.5\\xc2\\xb0] \\xec\\x9a\\x95\\xed\\x95\\x98\\xeb\\xa9\\xb4\\xec\\x84\\x9c \\xeb\\x8b\\xae\\xeb\\x8a\\x94 \\xea\\xb2\\x83\\xeb\\x8f\\x84 \\xec\\xa0\\x81\\xed\\x8f\\x90\\xeb\\x8b\\xa4\" class=\"link_txt\" target=\"_blank\" data-type=\"related\">[36.5\\xc2\\xb0] \\xec\\x9a\\x95\\xed\\x95\\x98\\xeb\\xa9\\xb4\\xec\\x84\\x9c \\xeb\\x8b\\xae\\xeb\\x8a\\x94 \\xea\\xb2\\x83\\xeb\\x8f\\x84 \\xec\\xa0\\x81\\xed\\x8f\\x90\\xeb\\x8b\\xa4</a></li> \\n         <li><a href=\"http://www.hankookilbo.com/v/211ec3b6e3f441e394a0710975399045\" title=\"\\xec\\x8b\\xa4\\xec\\xa0\\x9c\\xec\\x99\\x80 \\xeb\\x84\\x88\\xeb\\xac\\xb4 \\xeb\\x8b\\xa4\\xeb\\xa5\\xb8 \\'\\xec\\x84\\x9c\\xec\\x9a\\xb8\\xeb\\xa1\\x9c 7017\\' \\xed\\x99\\x8d\\xeb\\xb3\\xb4 \\xec\\x9d\\xb4\\xeb\\xaf\\xb8\\xec\\xa7\\x80\" class=\"link_txt\" target=\"_blank\" data-type=\"related\">\\xec\\x8b\\xa4\\xec\\xa0\\x9c\\xec\\x99\\x80 \\xeb\\x84\\x88\\xeb\\xac\\xb4 \\xeb\\x8b\\xa4\\xeb\\xa5\\xb8 \\'\\xec\\x84\\x9c\\xec\\x9a\\xb8\\xeb\\xa1\\x9c 7017\\' \\xed\\x99\\x8d\\xeb\\xb3\\xb4 \\xec\\x9d\\xb4\\xeb\\xaf\\xb8\\xec\\xa7\\x80</a></li> \\n         <li><a href=\"http://www.hankookilbo.com/v/04b5627be58645dfa7960e16a4624b22\" title=\"[\\xec\\x98\\x81\\xec\\x83\\x81] \\xeb\\x8f\\x99\\xea\\xb5\\xad\\xeb\\x8c\\x80.\\xec\\xb6\\xa9\\xeb\\xac\\xb4\\xeb\\xa1\\x9c\\xec\\x97\\x90\\xec\\x84\\x9c \\xec\\x9d\\xb8\\xea\\xb8\\xb0 \\xec\\x9e\\x88\\xeb\\x8a\\x94 \\xeb\\xa7\\x9b\\xec\\xa7\\x91 BEST 5\" class=\"link_txt\" target=\"_blank\" data-type=\"related\">[\\xec\\x98\\x81\\xec\\x83\\x81] \\xeb\\x8f\\x99\\xea\\xb5\\xad\\xeb\\x8c\\x80.\\xec\\xb6\\xa9\\xeb\\xac\\xb4\\xeb\\xa1\\x9c\\xec\\x97\\x90\\xec\\x84\\x9c \\xec\\x9d\\xb8\\xea\\xb8\\xb0 \\xec\\x9e\\x88\\xeb\\x8a\\x94 \\xeb\\xa7\\x9b\\xec\\xa7\\x91 BEST 5</a></li> \\n         <li><a href=\"http://www.hankookilbo.com/v/dae59b9e0adfd851dae59b9e0adfd851\" title=\"\\xea\\xb3\\xb5\\xec\\x8a\\xb9\\xec\\x97\\xb0 &quot;\\xec\\x97\\xac\\xec\\xa7\\x84\\xea\\xb5\\xac \\xec\\x98\\xa4\\xeb\\xb9\\xa0 \\xea\\xb0\\x99\\xec\\x95\\x84..\\xec\\x9e\\x98\\xec\\x83\\x9d\\xea\\xb8\\xb0\\xeb\\xa9\\xb4 \\xec\\x98\\xa4\\xeb\\xb9\\xa0&quot;\" class=\"link_txt\" target=\"_blank\" data-type=\"related\">\\xea\\xb3\\xb5\\xec\\x8a\\xb9\\xec\\x97\\xb0 \"\\xec\\x97\\xac\\xec\\xa7\\x84\\xea\\xb5\\xac \\xec\\x98\\xa4\\xeb\\xb9\\xa0 \\xea\\xb0\\x99\\xec\\x95\\x84..\\xec\\x9e\\x98\\xec\\x83\\x9d\\xea\\xb8\\xb0\\xeb\\xa9\\xb4 \\xec\\x98\\xa4\\xeb\\xb9\\xa0\"</a></li> \\n         <li><a href=\"http://www.hankookilbo.com/v/6162946d032e4b53909f80f78ef9b69c\" title=\"\\xec\\xa7\\x80\\xeb\\x93\\x9c\\xeb\\x9e\\x98\\xea\\xb3\\xa4 &quot;\\xeb\\xad\\x90\\xea\\xb0\\x80 \\xeb\\xac\\xb8\\xec\\xa0\\x9c\\xec\\xa3\\xa0?&quot;.. USB \\xec\\x9d\\x8c\\xeb\\xb0\\x98 \\xeb\\x85\\xbc\\xeb\\x9e\\x80 \\xec\\x9d\\xbc\\xea\\xb2\\xa9\" class=\"link_txt\" target=\"_blank\" data-type=\"related\">\\xec\\xa7\\x80\\xeb\\x93\\x9c\\xeb\\x9e\\x98\\xea\\xb3\\xa4 \"\\xeb\\xad\\x90\\xea\\xb0\\x80 \\xeb\\xac\\xb8\\xec\\xa0\\x9c\\xec\\xa3\\xa0?\".. USB \\xec\\x9d\\x8c\\xeb\\xb0\\x98 \\xeb\\x85\\xbc\\xeb\\x9e\\x80 \\xec\\x9d\\xbc\\xea\\xb2\\xa9</a></li> \\n        </ul> \\n       </div> \\n       <div id=\"alex-scroll-area\" data-cloud=\"pc_article_bottom_ad\"></div> \\n       <ins class=\"kakao_ad_area recomm_ad\" style=\"display:block; width: 658px; text-decoration: none; min-width: 658px;\" data-ad-unit=\"DAN-1jezdswwiit7q\" data-ad-width=\"658\" data-ad-height=\"90\" data-ad-onfail=\"cmRenderFailCallBack\" data-cloud=\"pc_article_bottom_ad\"> </ins>  \\n       <div class=\"cmt_news cmt_view\" data-cloud=\"pc_comment\"> \\n        <div id=\"newsviewNotice\" class=\"news_notice\"></div>  \\n        <div id=\"alex-area\" class=\"alex-area\" data-base-url=\"//comment.daum.net\" data-post-id=\"@20170615203441266\" data-client-id=\"26BXAvKny5WF5Z09lr5k77Y8\" data-kakao-appkey=\"9076ba452fea1a434141d6b6a2c11a3c\" data-initial-limit=\"3\" data-page-limit=\"10\" data-sort=\"P\" data-use-my=\"true\" data-max-length=\"300\" data-use-reply=\"true\" data-use-official=\"true\" data-use-emoticon=\"true\" data-use-social-share=\"true\" data-use-attachment=\"false\" data-is-mobile=\"false\" data-show-mask-alert=\"true\" data-use-live-comment-mode=\"notify\" data-use-fold=\"true\" data-use-skin=\"newsView\" data-use-safebot=\"true\"> \\n        </div>    \\n       </div> \\n      </div> \\n     </div> \\n     <div id=\"mAside\" data-cloud-area=\"aside\"> \\n      <ins style=\"display:block;width:250px;height:250px;\" class=\"kakao_ad_area aside_g aside_ad\" data-ad-unit=\"05d24\" data-ad-type=\"D\" data-ad-width=\"250\" data-ad-height=\"250\" data-cloud=\"pc_aside_top_ad\"> </ins> \\n      <div class=\"aside_g aside_popular hide\" data-cloud=\"pc_popular_news\"> \\n       <h3 class=\"txt_newsview\">\\xeb\\xa7\\x8e\\xec\\x9d\\xb4\\xeb\\xb3\\xb8 \\xeb\\x89\\xb4\\xec\\x8a\\xa4</h3> \\n       <ul class=\"tab_aside tab_media\"> \\n        <li class=\"on\"> <a href=\"#none\" class=\"link_tab link_tab2\">\\xeb\\x89\\xb4\\xec\\x8a\\xa4</a> </li> \\n        <li class=\"\"> <a href=\"#none\" class=\"link_tab link_tab3\">\\xec\\x97\\xb0\\xec\\x98\\x88</a> </li> \\n        <li class=\"\"> <a href=\"#none\" class=\"link_tab link_tab4\">\\xec\\x8a\\xa4\\xed\\x8f\\xac\\xec\\xb8\\xa0</a> </li> \\n       </ul> \\n      </div>  \\n      <div class=\"aside_g aside_phototv hide\" data-cloud=\"pc_news_photo_tv\"> \\n       <h3 class=\"txt_newsview\">\\xed\\x8f\\xac\\xed\\x86\\xa0&amp;TV</h3> \\n       <div class=\"cont_aside\"> \\n        <ul class=\"list_phototv\"></ul> \\n       </div> \\n      </div>  \\n      <ins style=\"display:block;width:250px;height:250px;\" class=\"kakao_ad_area aside_g aside_ad\" data-ad-unit=\"0QH44\" data-ad-type=\"D\" data-ad-width=\"250\" data-ad-height=\"250\" data-cloud=\"pc_aside_bottom_ad\"> </ins> \\n     </div> \\n    </div> \\n    <div id=\"cEtc\"> \\n     <div class=\"realtime_view\"> \\n      <div class=\"inner_realtime\"> \\n       <div data-cloud-area=\"etc\"> \\n        <div class=\"realtime_news\" data-cloud=\"pc_realtime_news\"> \\n         <h3 class=\"txt_newsview\">\\xec\\x9d\\xb4 \\xec\\x8b\\x9c\\xea\\xb0\\x81 \\xec\\xb6\\x94\\xec\\xb2\\x9c\\xeb\\x89\\xb4\\xec\\x8a\\xa4</h3> \\n         <ul class=\"list_realtime\"> \\n          <li class=\"item_main item_realtime_news\"></li> \\n          <li class=\"item_main item_realtime_news\"></li> \\n          <li class=\"item_realtime_news\"></li> \\n          <li class=\"item_realtime_news\"></li> \\n          <li class=\"item_realtime_news\"></li> \\n          <li class=\"item_realtime_news\"></li> \\n          <li class=\"item_realtime_news\"></li> \\n          <li class=\"item_realtime_news\"></li> \\n          <li class=\"item_realtime_news\"></li> \\n          <li class=\"item_realtime_news\"></li> \\n          <li class=\"item_realtime_news\"></li> \\n          <li class=\"item_realtime_news\"></li> \\n         </ul> \\n        </div>  \\n       </div> \\n       <div class=\"realtime_aside\" id=\"realtime_aside\" data-cloud-area=\"etc-aside\"> \\n        <ins class=\"kakao_ad_area etc_bottom_ad\" style=\"display: block; width: 100%;\" data-ad-unit=\"DAN-kQxraZPBvpl52CWq\" data-ad-width=\"250\" data-ad-height=\"250\" data-ad-onfail=\"onFailEtcBottomAd\" data-cloud=\"pc_etc_bottom_ad\"> </ins>  \\n       </div> \\n      </div> \\n     </div> \\n     <div data-cloud-area=\"etc-addition\"> \\n     </div> \\n    </div> \\n   </div> \\n   <hr class=\"hide\"> \\n   <div class=\"footer_comm\" id=\"kakaoFoot\" role=\"contentinfo\" data-cloud-area=\"footer\"> \\n    <div class=\"inner_foot\" data-cloud=\"pc_footer\"> \\n     <div class=\"direct_link\"> \\n      <h2 class=\"tit_direct\">\\xeb\\xb0\\x94\\xeb\\xa1\\x9c\\xea\\xb0\\x80\\xea\\xb8\\xb0</h2> \\n      <div class=\"item_bundle\"> <a class=\"link_txt\" href=\"https://news.daum.net/\">\\xeb\\x89\\xb4\\xec\\x8a\\xa4\\xed\\x99\\x88</a> <a class=\"link_txt\" href=\"https://news.daum.net/society/\">\\xec\\x82\\xac\\xed\\x9a\\x8c</a> <a class=\"link_txt\" href=\"https://news.daum.net/politics/\">\\xec\\xa0\\x95\\xec\\xb9\\x98</a> <a class=\"link_txt\" href=\"https://news.daum.net/economic/\">\\xea\\xb2\\xbd\\xec\\xa0\\x9c</a> <a class=\"link_txt\" href=\"https://news.daum.net/foreign/\">\\xea\\xb5\\xad\\xec\\xa0\\x9c</a> <a class=\"link_txt\" href=\"https://news.daum.net/culture/\">\\xeb\\xac\\xb8\\xed\\x99\\x94</a> <a class=\"link_txt\" href=\"https://news.daum.net/digital/\">IT</a> <a class=\"link_txt\" href=\"https://news.daum.net/photo/\">\\xed\\x8f\\xac\\xed\\x86\\xa0</a> <a class=\"link_txt\" href=\"https://news.daum.net/tv/\">TV</a> \\n      </div> \\n      <div class=\"item_bundle\"> <a class=\"link_txt\" href=\"https://news.daum.net/cp\">\\xec\\x96\\xb8\\xeb\\xa1\\xa0\\xec\\x82\\xac\\xeb\\xb3\\x84 \\xeb\\x89\\xb4\\xec\\x8a\\xa4</a> \\n      </div> \\n      <div class=\"item_bundle\"> <a class=\"link_txt\" href=\"https://news.daum.net/newsbox\">\\xeb\\xb0\\xb0\\xec\\x97\\xb4\\xec\\x9d\\xb4\\xeb\\xa0\\xa5</a> \\n      </div> \\n      <div class=\"item_bundle\"> <a class=\"link_txt\" href=\"https://news.daum.net/breakingnews\">\\xec\\xa0\\x84\\xec\\xb2\\xb4\\xeb\\x89\\xb4\\xec\\x8a\\xa4</a> <a class=\"link_txt\" href=\"https://news.daum.net/ranking/popular\">\\xeb\\x9e\\xad\\xed\\x82\\xb9</a> <a class=\"link_txt\" href=\"https://news.daum.net/series\">\\xec\\x97\\xb0\\xec\\x9e\\xac</a> <a class=\"link_txt\" href=\"https://news.daum.net/1boon\">1boon</a> \\n      </div> <button class=\"btn_fold\" type=\"button\"><span class=\"ico_news\">\\xeb\\xb0\\x94\\xeb\\xa1\\x9c\\xea\\xb0\\x80\\xea\\xb8\\xb0 \\xeb\\xa7\\x81\\xed\\x81\\xac \\xeb\\x8d\\x94\\xeb\\xb3\\xb4\\xea\\xb8\\xb0/\\xec\\xa0\\x91\\xea\\xb8\\xb0</span></button> \\n     </div> \\n     <h2 class=\"screen_out\">\\xec\\x84\\x9c\\xeb\\xb9\\x84\\xec\\x8a\\xa4 \\xec\\x9d\\xb4\\xec\\x9a\\xa9\\xec\\xa0\\x95\\xeb\\xb3\\xb4</h2> \\n     <div class=\"footer_link\"> <a class=\"link_info\" href=\"https://news.daum.net/info/intro\">\\xeb\\x8b\\xa4\\xec\\x9d\\x8c\\xeb\\x89\\xb4\\xec\\x8a\\xa4 \\xec\\x86\\x8c\\xea\\xb0\\x9c</a> <span class=\"txt_dot\"> \\xe3\\x83\\xbb </span> <a class=\"link_info\" href=\"https://news.daum.net/notice\">\\xea\\xb3\\xb5\\xec\\xa7\\x80\\xec\\x82\\xac\\xed\\x95\\xad</a> <span class=\"txt_dot\"> \\xe3\\x83\\xbb </span> <a class=\"link_info\" href=\"https://news.daum.net/info/bbsrule\">\\xea\\xb2\\x8c\\xec\\x8b\\x9c\\xeb\\xac\\xbc \\xec\\x9a\\xb4\\xec\\x98\\x81\\xec\\x9b\\x90\\xec\\xb9\\x99</a> <span class=\"txt_dot\"> \\xe3\\x83\\xbb </span> <a class=\"link_info\" href=\"https://policy.daum.net/info/info\">\\xec\\x84\\x9c\\xeb\\xb9\\x84\\xec\\x8a\\xa4 \\xec\\x95\\xbd\\xea\\xb4\\x80/\\xec\\xa0\\x95\\xec\\xb1\\x85</a> <span class=\"txt_dot\"> \\xe3\\x83\\xbb </span> <a class=\"link_info\" href=\"https://with.kakao.com/media\">\\xeb\\x89\\xb4\\xec\\x8a\\xa4\\xec\\xa0\\x9c\\xed\\x9c\\xb4</a> <span class=\"txt_dot\"> \\xe3\\x83\\xbb </span> <a class=\"link_info\" href=\"https://business.kakao.com/\">\\xeb\\xb9\\x84\\xec\\xa6\\x88\\xeb\\x8b\\x88\\xec\\x8a\\xa4</a> <span class=\"txt_dot\"> \\xe3\\x83\\xbb </span> <a class=\"link_info\" href=\"https://cs.daum.net/redbell/top.html\">\\xea\\xb6\\x8c\\xeb\\xa6\\xac\\xec\\xb9\\xa8\\xed\\x95\\xb4\\xec\\x8b\\xa0\\xea\\xb3\\xa0</a> <span class=\"txt_dot\"> \\xe3\\x83\\xbb </span> <a class=\"link_info\" href=\"https://cs.daum.net/faq/63.html\">\\xeb\\x8b\\xa4\\xec\\x9d\\x8c\\xeb\\x89\\xb4\\xec\\x8a\\xa4 \\xea\\xb3\\xa0\\xea\\xb0\\x9d\\xec\\x84\\xbc\\xed\\x84\\xb0</a> \\n     </div> \\n     <div class=\"footer_link\"> <a class=\"link_info\" href=\"https://news.daum.net/info/newscenter24\">24\\xec\\x8b\\x9c\\xea\\xb0\\x84 \\xeb\\x89\\xb4\\xec\\x8a\\xa4\\xec\\x84\\xbc\\xed\\x84\\xb0</a> <span class=\"txt_dot\"> \\xe3\\x83\\xbb </span> <a class=\"link_info\" href=\"https://news.daum.net/info/edit\">\\xec\\x84\\x9c\\xeb\\xb9\\x84\\xec\\x8a\\xa4\\xec\\x9b\\x90\\xec\\xb9\\x99</a> <span class=\"txt_dot\"> \\xe3\\x83\\xbb </span> <a class=\"link_info\" href=\"https://news.daum.net/info/correct\">\\xeb\\xb0\\x94\\xeb\\xa1\\x9c\\xec\\x9e\\xa1\\xec\\x8a\\xb5\\xeb\\x8b\\x88\\xeb\\x8b\\xa4</a> <span class=\"txt_dot\"> \\xe3\\x83\\xbb </span> <span class=\"link_info\">\\xea\\xb8\\xb0\\xec\\x82\\xac\\xeb\\xb0\\xb0\\xec\\x97\\xb4\\xec\\xb1\\x85\\xec\\x9e\\x84\\xec\\x9e\\x90 : \\xea\\xb9\\x80\\xed\\x9d\\xac\\xec\\xa0\\x95</span> <span class=\"txt_dot\"> \\xe3\\x83\\xbb </span> <span class=\"link_info\">\\xec\\xb2\\xad\\xec\\x86\\x8c\\xeb\\x85\\x84\\xeb\\xb3\\xb4\\xed\\x98\\xb8\\xec\\xb1\\x85\\xec\\x9e\\x84\\xec\\x9e\\x90 : \\xec\\x9d\\xb4\\xec\\xa4\\x80\\xeb\\xaa\\xa9</span> \\n     </div> \\n     <div class=\"info_copyright\"> <strong class=\"info_warn\">\\xec\\x9c\\x84 \\xeb\\x82\\xb4\\xec\\x9a\\xa9\\xec\\x97\\x90 \\xeb\\x8c\\x80\\xed\\x95\\x9c \\xec\\xa0\\x80\\xec\\x9e\\x91\\xea\\xb6\\x8c \\xeb\\xb0\\x8f \\xeb\\xb2\\x95\\xec\\xa0\\x81 \\xec\\xb1\\x85\\xec\\x9e\\x84\\xec\\x9d\\x80 \\xec\\x9e\\x90\\xeb\\xa3\\x8c\\xec\\xa0\\x9c\\xea\\xb3\\xb5\\xec\\x82\\xac \\xeb\\x98\\x90\\xeb\\x8a\\x94 <br>\\xea\\xb8\\x80\\xec\\x93\\xb4\\xec\\x9d\\xb4\\xec\\x97\\x90 \\xec\\x9e\\x88\\xec\\x9c\\xbc\\xeb\\xa9\\xb0, Kakao\\xec\\x9d\\x98 \\xec\\x9e\\x85\\xec\\x9e\\xa5\\xea\\xb3\\xbc \\xeb\\x8b\\xa4\\xeb\\xa5\\xbc \\xec\\x88\\x98 \\xec\\x9e\\x88\\xec\\x8a\\xb5\\xeb\\x8b\\x88\\xeb\\x8b\\xa4.</strong> <small class=\"txt_copyright\">Copyright \\xc2\\xa9 <strong class=\"txt_kakao\"><a href=\"https://www.kakaocorp.com\" class=\"link_kakao\">Kakao Corp.</a></strong> All rights reserved.</small> \\n     </div> \\n    </div>   \\n   </div> <samp data-cloud-area=\"util\">           </samp> \\n  </div>  \\n  <script src=\"//t1.daumcdn.net/harmony_static/cloud/2021/05/03/vendor.39958ce6937d202010c7.js\"></script>\\n  <script src=\"//t1.daumcdn.net/harmony_static/cloud/2021/05/03/common.4fa0ea63845693bada8b.js\"></script>\\n  <script src=\"//t1.daumcdn.net/kas/static/ba.min.js\"></script>\\n  <script src=\"//t1.daumcdn.net/kas/static/na.min.js\"></script>\\n  <script src=\"//m1.daumcdn.net/svc/original/U03/cssjs/userAgent/userAgent-1.0.12.min.js\"></script>\\n  <script>\"use strict\";function _classCallCheck(e,t){if(!(e instanceof t))throw new TypeError(\"Cannot call a class as a function\")}function _defineProperties(e,t){for(var a=0;a<t.length;a++){var n=t[a];n.enumerable=n.enumerable||!1,n.configurable=!0,\"value\"in n&&(n.writable=!0),Object.defineProperty(e,n.key,n)}}function _createClass(e,t,a){return t&&_defineProperties(e.prototype,t),a&&_defineProperties(e,a),e}!(function(){var a=\"<li>\\\\n <a href=\\\\\"https://search.daum.net/search?nil_suggest=btn&amp;w=tot&amp;DA=SBC&amp;q=<%= specialRegionName %>%20\\xeb\\x82\\xa0\\xec\\x94\\xa8\\\\\" class=\\\\\"link_cont\\\\\">\\\\n <span class=\\\\\"ico_weather ico_weather<%= weatherIconCode %>\\\\\"><%= specialRegionName %></span> \\\\n <span class=\\\\\"txt_weather\\\\\"><%= specialRegionName %>\\\\n <span class=\\\\\"num_heat\\\\\"><%= temperature %></span> \\\\n <span class=\\\\\"txt_heat\\\\\">\\xe2\\x84\\x83</span>\\\\n </span>\\\\n </a>\\\\n </li>\",t=document.querySelector(\\'.gnb_weather\\'),n=t.querySelector(\\'ul\\'),e=\"\".concat(Conf.api.hadesRest,\"/pc_weather\");axios.get(e).then(function(e){var t=e.data.body.data,e=t.isNightIconYn,t=t.weatherData;n.dataset.nightyn=e,n.innerHTML=t.map(function(e){return _.template(a)(e)}).join(\\'\\');new s(n)}).catch(function(e){t.parentNode.removeChild(t)});var s=(function(){function t(e){_classCallCheck(this,t),this.PAUSE_TIME=4e3,this.TRANSITION_TIME=500,this.list=e,this.frameId=null,this.pause=this.pause.bind(this),this.start=this.start.bind(this),this.moveUp=this.moveUp.bind(this),this.init(),this.start(),this.list.style.marginTop=\\'0px\\'}return _createClass(t,[{key:\"start\",value:function(){this.frameId=setInterval(this.moveUp,this.PAUSE_TIME)}},{key:\"pause\",value:function(){clearInterval(this.frameId)}},{key:\"moveUp\",value:function(){var e=this.list,t=e.firstElementChild.cloneNode(!0);e.classList.add(\\'slidein\\'),e.style.marginTop=\\'-30px\\',setTimeout(function(){e.classList.remove(\\'slidein\\'),e.style.marginTop=\\'0px\\',e.removeChild(e.firstElementChild),e.appendChild(t)},this.TRANSITION_TIME)}},{key:\"init\",value:function(){var t=this,e=this.list;e.addEventListener(\\'mouseenter\\',this.pause),e.addEventListener(\\'mouseleave\\',this.start),e.querySelectorAll(\\'a\\').forEach(function(e){e.addEventListener(\\'focus\\',t.pause),e.addEventListener(\\'blur\\',t.start)})}}]),t})()})();</script>\\n  <script>\"use strict\";!(function(){var e=-1<\\'\\'.indexOf(\\'tv_news\\')?\\'tv\\':\\'economic\\',t=document.querySelector(\\'.gnb_comm\\');(t=e&&t.querySelector(\".\".concat(e)))&&t.setAttribute(\\'class\\',\"\".concat(e,\" on\"))})();</script>\\n  <script src=\"https://t1.daumcdn.net/cssjs/jquery/jquery-1.9.0.min.js\"></script>\\n  <script src=\"https://search1.daumcdn.net/search/suggest_pc/suggest-1.2.16.min.js\"></script>\\n  <script>\"use strict\";!(function(){document.getElementById(\\'search_news\\'),new suggest.Suggest(document.getElementById(\"search_news\"),{inputEl:\\'qVal\\',suggestBoxEl:\\'suggestBox\\',autoFocus:\\'NORMAL\\',suggestLimit:10,isReverse:!1,searchURL:\\'https://search.daum.net/search\\',APIServer:{host:\\'//dapi.kakao.com/suggest/v2/pc.json\\',apiType:suggest.Suggest.APITYPE.DAPISUGGEST,appkey:\\'d7022f6ca2a04430ce1b97b922da58e8\\',queries:{mod:\\'json\\',code:\\'utf_in_out\\'}}}).on(\\'click-item\\',function(){var e=document.getElementById(\\'kakaoSearch\\');e.querySelector(\"input[name=\\'DA\\']\").value=\\'23B\\',e.submit()});var t=document.getElementById(\\'qVal\\');t.addEventListener?(t.addEventListener(\\'focus\\',function(e){e&&e.preventDefault(),0<=t.value.length&&t.parentNode.classList.add(\\'search_on\\')}),t.addEventListener(\\'blur\\',function(e){e&&e.preventDefault(),0===t.value.length&&t.parentNode.classList.remove(\\'search_on\\')})):(t.attachEvent(\\'onfocus\\',function(e){e&&(e.preventDefault?e.preventDefault():e.returnValue=!1),0<=t.value.length&&t.parentNode.setAttribute(\\'class\\',\\'box_searchbar search_on\\')}),t.attachEvent(\\'onblur\\',function(e){e&&(e.preventDefault?e.preventDefault():e.returnValue=!1),0===t.value.length&&t.parentNode.setAttribute(\\'class\\',\\'box_searchbar\\')}))})(jQuery);</script>\\n  <script src=\"//t1.daumcdn.net/daumtop_deco/socialshare/socialshare_nocss_pc-2.4.2.js\"></script>\\n  <script>\"use strict\";!(function(){var t=document.querySelector(\\'.util_summary\\'),r=t.querySelector(\\'.btn_summary\\'),e=t.querySelectorAll(\".layer_summary p\"),n=!1;function i(){t.classList.remove(\\'layer_open\\'),r.setAttribute(\\'aria-expanded\\',!1)}function a(e){if(e.target===r||e.target===r.children[0])return!1;i(),window.removeEventListener(\\'click\\',a)}e.forEach(function(e){return e.classList.add(\"desc_news\")}),r.addEventListener(\\'click\\',function(e){(n=!n)?(t.classList.add(\\'layer_open\\'),r.setAttribute(\\'aria-expanded\\',!0),window.addEventListener(\\'click\\',a)):i()}),r.addEventListener(\\'blur\\',function(e){n=!1,i()})})();</script>\\n  <script>\"use strict\";function _slicedToArray(e,t){return _arrayWithHoles(e)||_iterableToArrayLimit(e,t)||_unsupportedIterableToArray(e,t)||_nonIterableRest()}function _nonIterableRest(){throw new TypeError(\"Invalid attempt to destructure non-iterable instance.\\\\nIn order to be iterable, non-array objects must have a [Symbol.iterator]() method.\")}function _unsupportedIterableToArray(e,t){if(e){if(\"string\"==typeof e)return _arrayLikeToArray(e,t);var n=Object.prototype.toString.call(e).slice(8,-1);return\"Object\"===n&&e.constructor&&(n=e.constructor.name),\"Map\"===n||\"Set\"===n?Array.from(e):\"Arguments\"===n||/^(?:Ui|I)nt(?:8|16|32)(?:Clamped)?Array$/.test(n)?_arrayLikeToArray(e,t):void 0}}function _arrayLikeToArray(e,t){(null==t||t>e.length)&&(t=e.length);for(var n=0,r=new Array(t);n<t;n++)r[n]=e[n];return r}function _iterableToArrayLimit(e,t){if(\"undefined\"!=typeof Symbol&&Symbol.iterator in Object(e)){var n=[],r=!0,o=!1,a=void 0;try{for(var i,s=e[Symbol.iterator]();!(r=(i=s.next()).done)&&(n.push(i.value),!t||n.length!==t);r=!0);}catch(e){o=!0,a=e}finally{try{r||null==s[\"return\"]||s[\"return\"]()}finally{if(o)throw a}}return n}}function _arrayWithHoles(e){if(Array.isArray(e))return e}!(function(){var t,e,n,r,o,a=\\'VIEW_TTS\\',i=\\'v.daum.net\\',s={slow_Male:\\'http://k-v1.kakaocdn.net/dn/NOgW7/btqgKWvtqGv/CQTdjDUR8uSGZXdMgPZ7A1/original.m4a\\',normal_Male:\\'http://k-v1.kakaocdn.net/dn/cXPoNE/btqgLdpZ1XH/0kIcLNoARmcaqkhk2SHU4K/original.m4a\\',fast_Male:\\'http://k-v1.kakaocdn.net/dn/b66M8d/btqgLjKgomG/D2ix5CwksQaIhaKc9AfHL1/original.m4a\\',slow_Female:\\'http://k-v1.kakaocdn.net/dn/9mKZv/btqgLi5D021/JsjWeBVKUi4p9QRJq2yB40/original.m4a\\',normal_Female:\\'http://k-v1.kakaocdn.net/dn/l2fEG/btqgLdXP5vd/SuJrPdCJIMDyKW75c5vnk1/original.m4a\\',fast_Female:\\'http://k-v1.kakaocdn.net/dn/bn9fI7/btqgLkColIa/XkhP2boJTxpSGpaZ0Nnsjk/original.m4a\\'},l=document.querySelector(\\'.util_view .tts_btn\\'),c=l.querySelectorAll(\\'.list_tts input\\'),u=l.querySelector(\\'.btn_tts\\'),d=l.querySelector(\\'.ico_speak\\'),y=l.querySelector(\\'.wrap_setlayer\\').querySelectorAll(\\'.ico_newsview\\'),f=l.querySelector(\\'#ttsPlayer\\');function m(){var e,t,n,r,o=(e=l.querySelector(\\'input[name=ttsSpeed]:checked\\').value,t=l.querySelector(\\'input[name=ttsGender]:checked\\').value,\"\".concat(e,\"_\").concat(t));f.setAttribute(\\'src\\',s[o]),n=o,Cookies.set(a,\\'\\',{expires:-1}),Cookies.set(a,n,{domain:i,expires:new Date(1*new Date+365*864e5)}),r=o,u.className=\\'btn_set btn_tts #util #tts #p_\\'+r}function p(e){\\'playOptions\\'==e?(m(),f.load(),f.play(),d.textContent=\\'\\xec\\x9d\\x8c\\xec\\x84\\xb1 \\xea\\xb8\\xb0\\xec\\x82\\xac \\xec\\xa0\\x95\\xec\\xa7\\x80\\'):\\'play\\'==e?(f.load(),f.play(),d.textContent=\\'\\xec\\x9d\\x8c\\xec\\x84\\xb1 \\xea\\xb8\\xb0\\xec\\x82\\xac \\xec\\xa0\\x95\\xec\\xa7\\x80\\'):(f[e](),d.textContent=\\'\\xec\\x9d\\x8c\\xec\\x84\\xb1 \\xea\\xb8\\xb0\\xec\\x82\\xac \\xeb\\x93\\xa3\\xea\\xb8\\xb0\\')}function v(){clearTimeout(n),t.classList.add(\\'layer_open\\'),e.setAttribute(\\'aria-expanded\\',!0)}function _(){r||(n=setTimeout(b,100))}function b(){t.classList.remove(\\'layer_open\\'),e.setAttribute(\\'aria-expanded\\',!1)}function L(e){e?t.classList.add(\\'on\\'):t.classList.remove(\\'on\\')}function h(e,t){document.getElementById(\"ttsSpeed\".concat(e)).checked=!0,document.getElementById(\"ttsGender\".concat(t)).checked=!0}t=(o={layer:l,btn:u,radios:c}).layer,e=o.btn,o=o.radios,r=!(n=0),t.addEventListener(\\'mouseover\\',function(e){r=!0,v()}),t.addEventListener(\\'mouseleave\\',function(e){r=!1,_()}),e.addEventListener(\\'keydown\\',function(e){13===e.keyCode&&((r=!r)?v:b)()}),t.addEventListener(\\'blur\\',function(e){r=!1,_()}),e.addEventListener(\\'click\\',function(e){f.paused?(L(!0),p(\\'play\\')):(L(!1),p(\\'pause\\'))}),o.forEach(function(e){e.addEventListener(\\'change\\',function(e){t.classList.add(\\'on\\'),p(\\'playOptions\\')}),e.addEventListener(\\'blur\\',function(e){r=!1,_()}),e.addEventListener(\\'focus\\',function(e){r=!0,v()})}),y=(o={icons:y,radios:c}).icons,c=o.radios,y.forEach(function(e){e.addEventListener(\\'mouseover\\',function(e){this.classList.add(\\'ico_focused\\')}),e.addEventListener(\\'mouseleave\\',function(e){this.classList.remove(\\'ico_focused\\')})}),c.forEach(function(e){e.addEventListener(\\'focus\\',function(e){this.nextElementSibling.querySelector(\\'span\\').classList.add(\\'ico_focused\\')}),e.addEventListener(\\'blur\\',function(e){this.nextElementSibling.querySelector(\\'span\\').classList.remove(\\'ico_focused\\')})}),f.addEventListener(\\'ended\\',function(e){l.classList.remove(\\'on\\')}),void 0===(o=Cookies.get(a))||o.includes(\\'undefined\\')?h(\\'Normal\\',\\'Male\\'):(c=(y=_slicedToArray(o.split(\\'_\\'),2))[0],y=y[1],h(c=(o=c).charAt(0).toUpperCase()+o.slice(1),y)),m()})();</script>\\n  <script>\"use strict\";!(function(){var n=document.createElement(\\'DIV\\');n.innerHTML=\"\\\\n <div id=\\\\\"translatingLayer\\\\\" class=\\\\\"translate_layer\\\\\">\\\\n <div class=\\\\\"inner_translate_layer\\\\\">\\\\n <div class=\\\\\"layer_body\\\\\">\\\\n <strong class=\\\\\"tit_translate\\\\\">\\\\n \\xeb\\xb2\\x88\\xec\\x97\\xad\\xec\\xa4\\x91 <span class=\\\\\"eng_tit\\\\\">Now in translation</span>\\\\n </strong>\\\\n </div>\\\\n </div>\\\\n </div>\\\\n\\\\n <div id=\\\\\"translateErrorLayer\\\\\" class=\\\\\"translate_layer\\\\\">\\\\n <div class=\\\\\"inner_translate_layer inner_error_layer\\\\\">\\\\n <div class=\\\\\"layer_body\\\\\">\\\\n <span class=\\\\\"ico_newsview ico_error\\\\\"></span>\\\\n <strong class=\\\\\"tit_translate\\\\\">\\\\n \\xec\\x9e\\xa0\\xec\\x8b\\x9c \\xed\\x9b\\x84 \\xeb\\x8b\\xa4\\xec\\x8b\\x9c \\xec\\x8b\\x9c\\xeb\\x8f\\x84\\xed\\x95\\xb4 \\xec\\xa3\\xbc\\xec\\x84\\xb8\\xec\\x9a\\x94 <span class=\\\\\"eng_tit\\\\\">Please try again in a moment</span>\\\\n </strong>\\\\n </div>\\\\n </div>\\\\n </div>\\\\n \",document.body.querySelector(\"#kakaoWrap\").appendChild(n)})();</script>\\n  <script>\"use strict\";function _toConsumableArray(e){return _arrayWithoutHoles(e)||_iterableToArray(e)||_unsupportedIterableToArray(e)||_nonIterableSpread()}function _nonIterableSpread(){throw new TypeError(\"Invalid attempt to spread non-iterable instance.\\\\nIn order to be iterable, non-array objects must have a [Symbol.iterator]() method.\")}function _unsupportedIterableToArray(e,t){if(e){if(\"string\"==typeof e)return _arrayLikeToArray(e,t);var n=Object.prototype.toString.call(e).slice(8,-1);return\"Object\"===n&&e.constructor&&(n=e.constructor.name),\"Map\"===n||\"Set\"===n?Array.from(e):\"Arguments\"===n||/^(?:Ui|I)nt(?:8|16|32)(?:Clamped)?Array$/.test(n)?_arrayLikeToArray(e,t):void 0}}function _iterableToArray(e){if(\"undefined\"!=typeof Symbol&&Symbol.iterator in Object(e))return Array.from(e)}function _arrayWithoutHoles(e){if(Array.isArray(e))return _arrayLikeToArray(e)}function _arrayLikeToArray(e,t){(null==t||t>e.length)&&(t=e.length);for(var n=0,r=new Array(t);n<t;n++)r[n]=e[n];return r}!(function(){var e,t,n,r,a=document.querySelector(\\'.translate_btn\\'),o=a.querySelector(\\'.btn_translate\\'),l=a.querySelector(\\'.link_kakaoi\\'),s=a.querySelectorAll(\\'.btn_lang\\'),i=document.getElementById(\\'translatingLayer\\'),c=document.getElementById(\\'translateErrorLayer\\'),y=document.getElementById(\\'kakaoWrap\\');function u(){i.style.display=\\'none\\',c.style.display=\\'none\\',document.body.style.overflow=\\'\\'}function d(){clearTimeout(e),t.classList.add(\\'layer_open\\'),n.setAttribute(\\'aria-expanded\\',!0)}function f(){t.classList.remove(\\'layer_open\\'),n.setAttribute(\\'aria-expanded\\',!1)}function p(){r||(e=setTimeout(f,1))}function m(e){var t=e.currentTarget.name;u(),i.style.display=\\'block\\',document.body.style.overflow=\\'hidden\\';try{HarmonyTranslator.translate(\\'kr\\',t,_,b)}catch(e){console.error(\\'\\xeb\\xb2\\x88\\xec\\x97\\xad \\xec\\x97\\x90\\xeb\\x9f\\xac:\\',e)}}function _(e){var t=document.querySelector(\\'#translateNotice\\'),e=e.targetLang;switch(e){case\\'en\\':case\\'id\\':y.classList.add(\\'lang_type1\\'),y.classList.remove(\\'lang_type2\\'),y.classList.remove(\\'lang_type3\\');break;case\\'cn\\':case\\'jp\\':y.classList.remove(\\'lang_type1\\'),y.classList.add(\\'lang_type2\\'),y.classList.remove(\\'lang_type3\\');break;case\\'vi\\':y.classList.remove(\\'lang_type1\\'),y.classList.remove(\\'lang_type2\\'),y.classList.add(\\'lang_type3\\');break;default:y.classList.remove(\\'lang_type1\\'),y.classList.remove(\\'lang_type2\\'),y.classList.remove(\\'lang_type3\\')}\\'kr\\'==e?(t.querySelectorAll(\\'.notice_lang\\').forEach(function(e){e.style.display=\\'none\\'}),t.style.display=\\'none\\'):(t.querySelectorAll(\".notice_lang:not(.notice_lang_\".concat(e,\")\")).forEach(function(e){e.style.display=\\'none\\'}),t.querySelector(\".notice_lang.notice_lang_\".concat(e)).style.display=\\'block\\',t.style.display=\\'block\\'),setTimeout(function(){u()},500)}function b(e,t){u(),c.style.display=\\'block\\',document.body.style.overflow=\\'hidden\\',setTimeout(function(){u()},2e3)}l={layer:a,btn:o,inputs:[l].concat(_toConsumableArray(s))},t=l.layer,n=l.btn,l=l.inputs,r=!1,n.addEventListener(\\'click\\',function(){((r=!r)?d:p)()}),t.addEventListener(\\'mouseover\\',function(){r=!0,d()}),t.addEventListener(\\'mouseleave\\',function(){r=!1,f()}),l.forEach(function(e){e.addEventListener(\\'focus\\',function(e){r=!0,d()}),e.addEventListener(\\'blur\\',function(e){r=!1,p()})}),s.forEach(function(e){e.addEventListener(\\'click\\',m)})})();</script>\\n  <script>\"use strict\";!(function(){var e,t=(o=\\'\\xec\\x9e\\x94\\xea\\xb8\\x88\\xeb\\x8c\\x80\\xec\\xb6\\x9c\\xec\\x97\\x90\\xeb\\x8f\\x84 DTI \\xea\\xb7\\x9c\\xec\\xa0\\x9c \\xec\\xa0\\x81\\xec\\x9a\\xa9 \\xea\\xb2\\x80\\xed\\x86\\xa0\\',(c=document.createElement(\\'div\\')).innerHTML=o,c.textContent),a=\\'20170615203441266\\'||\\'nkhSoinQsa\\',n=\"\".concat(location.protocol,\"//\").concat(location.host,\"/v/\").concat(a),o=\"http://scrap.cafe.daum.net/_dss_/scrap?folder_id=100000&source_location_code=10&target_location_code=1&data_id=\".concat(a),c={shareType:\\'sendScrap\\',shareData:{requestUrl:n,templateId:7952,installTalk:!0,templateArgs:{\\'${EncodingUrl}\\':encodeURIComponent(n),\\'${webUrl}\\':n+\\'?f=p\\',\\'${mobileWebUrl}\\':n+\\'?f=m\\'}}},r=document.querySelector(\\'.share_btn\\'),i=document.getElementById(\\'rSocialShareButton\\'),a=document.getElementById(\\'rSocialShareLayerContainer\\'),d=new socialshareRenewal.Main(i,{moreViewContainer:a,action:\\'hover\\',link:n,prefix:t,service_name:\\'\\xeb\\x8b\\xa4\\xec\\x9d\\x8c\\xeb\\x89\\xb4\\xec\\x8a\\xa4\\',cafe:o,kakaoAPI:{appkey:\\'53e566aa17534bc816eb1b5d8f7415ee\\',kakaoLinkData:c}}),s=!1;function l(){e=setTimeout(function(){s=!1,r.classList.remove(\\'layer_open\\'),i.setAttribute(\\'aria-expanded\\',!1),d.close()},100)}function u(){s=!0,m(),r.classList.add(\\'layer_open\\'),i.setAttribute(\\'aria-expanded\\',!0),d.open()}function m(){clearTimeout(e)}i.addEventListener(\\'mouseenter\\',u),i.addEventListener(\\'mouseleave\\',l),i.addEventListener(\\'click\\',function(e){(s?l:u)()}),a.addEventListener(\\'mouseenter\\',m),a.addEventListener(\\'mouseleave\\',l),a.querySelectorAll(\\'a\\').forEach(function(e){e.addEventListener(\\'focus\\',m),e.addEventListener(\\'blur\\',l)})})();</script>\\n  <script>\"use strict\";!(function(){var e,t,n,o,i=document.querySelector(\\'.news_view\\'),s=document.querySelector(\\'.font_btn\\'),c=s.querySelector(\\'.btn_font\\'),r=s.querySelector(\\'.list_font\\'),u=r.querySelectorAll(\\'input\\'),a=\\'GS_font_size\\',l=\\'v.daum.net\\';function d(e){i.style.fontSize=\"\".concat(e,\"px\"),document.querySelector(\"#inpFont\".concat(e)).checked=!0,r.querySelectorAll(\\'label\\').forEach(function(e){return e.classList.remove(\\'on\\')}),r.querySelector(\"label[for=inpFont\".concat(e,\"]\")).classList.add(\\'on\\'),e=e,Cookies.set(a,\\'\\',{expires:-1}),Cookies.set(a,e,{domain:l,expires:new Date(1*new Date+365*864e5)})}function f(){clearTimeout(e),t.classList.add(\\'layer_open\\'),n.setAttribute(\\'aria-expanded\\',!0)}function v(){t.classList.remove(\\'layer_open\\'),n.setAttribute(\\'aria-expanded\\',!1)}function p(){o&&(e=setTimeout(v,1))}d(Cookies.get(a)||17),u.forEach(function(e){e.addEventListener(\\'change\\',function(e){d(e.target.value)})}),t=(c={layer:s,btn:c,inputs:u}).layer,n=c.btn,c=c.inputs,o=!1,t.addEventListener(\\'mouseover\\',function(){o=!0,f()}),t.addEventListener(\\'mouseleave\\',function(){o=!1,v()}),c.forEach(function(e){e.addEventListener(\\'focus\\',f),e.addEventListener(\\'blur\\',p)}),n.addEventListener(\\'click\\',function(e){((o=!o)?f:v)()}),s={options:s.querySelectorAll(\\'.ico_newsview\\'),inputs:u},u=s.options,s=s.inputs,u.forEach(function(e){e.addEventListener(\\'mouseover\\',function(){this.classList.add(\\'ico_focused\\')}),e.addEventListener(\\'mouseleave\\',function(){this.classList.remove(\\'ico_focused\\')})}),s.forEach(function(e){e.addEventListener(\\'focus\\',function(){this.nextElementSibling.querySelector(\\'span\\').classList.add(\\'ico_focused\\')}),e.addEventListener(\\'blur\\',function(){this.nextElementSibling.querySelector(\\'span\\').classList.remove(\\'ico_focused\\')})})})();</script>\\n  <script>\"use strict\";document.body.querySelector(\".btn_print\").parentNode.addEventListener(\"click\",function(t){t.preventDefault(),window.open(\\'https://news.v.daum.net/v/20170615203441266?s=print_news\\',\\'newsPrint\\',\\'width=750,height=550,scrollbars=yes\\')});</script>\\n  <script type=\"text/javascript\" src=\"//comment.daum.net/js/latest/alex.action.min.js\"></script>\\n  <script>\"use strict\";!(function(){var s=\"20170615203441266\",e=\"\".concat(Conf.api.hadesRest,\"/pc_mc2_news?cate=\").concat(\"news\",\"&id=\").concat(s),a=\\'<li class=\"on\"> <div class=\"inner_box\"><span class=\"link_txt\"><%= title %></span></div> </li>\\',i=\\'<li> <div class=\"inner_box\"><a href=\"https://news.v.daum.net/v/<%= contentId %>\" class=\"link_txt\"><%= title %></a></div> </li>\\',c=\\'//news.daum.net/series\\',r=document.querySelector(\\'.relate_series\\'),o=r.querySelector(\\'.title_series\\'),d=r.querySelector(\\'.link_more\\'),l=r.querySelector(\\'.list_series\\');function m(e){e&&e.parentNode.removeChild(e)}axios.get(e).then(function(e){var t,n=e.data.body.data.data;_.isEmpty(n)||\\'series\\'!==n[0].factor.type?m(r):(t=n[0],e=t.contents,n=t._id,t=t.title,e.length<3&&l.classList.add(\\'relate_series2\\'),o.textContent=t,d.setAttribute(\\'href\\',c+\\'/\\'+n),l.innerHTML=e.map(function(e){var t=e.contentId,e=e.title;return t==s?_.template(a)({title:e}):_.template(i)({contentId:t,title:e})}).join(\\'\\'),(e=r)&&e.classList.remove(\\'hide\\'))}).catch(function(e){console.error(\"[\\xed\\x81\\xb4\\xeb\\x9f\\xac\\xec\\x8a\\xa4\\xed\\x84\\xb0]: \\xeb\\x8d\\xb0\\xec\\x9d\\xb4\\xed\\x84\\xb0\\xeb\\xa5\\xbc \\xea\\xb0\\x80\\xec\\xa0\\xb8\\xec\\x98\\xa4\\xeb\\x8a\\x94\\xeb\\x8d\\xb0 \\xec\\x8b\\xa4\\xed\\x8c\\xa8\\xed\\x96\\x88\\xec\\x8a\\xb5\\xeb\\x8b\\x88\\xeb\\x8b\\xa4. \\xec\\x97\\x90\\xeb\\x9f\\xac: \",e,\"\\xec\\x97\\x90\\xeb\\x9f\\xac \\xeb\\x8d\\xb0\\xec\\x9d\\xb4\\xed\\x84\\xb0: \",e.response.data),m(r)})})();</script>\\n  <script>\"use strict\";function cmRenderFailCallBack(e){e.parentElement.removeChild(e)}</script>\\n  <script>\"use strict\";document.addEventListener(\\'DOMContentLoaded\\',function(){var t=\"\".concat(Conf.api.hadesRest)+\"/service_notice?id=\"+\"3393\",n=document.querySelector(\"#newsviewNotice\");axios.get(t).then(function(t){var e=t.data.body.data,t=e.noticeTitle,e=e.noticeUrl;null!==t?n.innerHTML=\"<strong class=\\\\\"tit_notice\\\\\">\\xea\\xb3\\xb5\\xec\\xa7\\x80</strong><span class=\\\\\"txt_notice\\\\\"><a href=\\\\\"\".concat(e,\"\\\\\" class=\\\\\"link_txt\\\\\">\").concat(t,\"</a></span>\"):n.parentNode.removeChild(n)}).catch(function(t){console.log(\"\\xeb\\x8c\\x93\\xea\\xb8\\x80 \\xea\\xb3\\xb5\\xec\\xa7\\x80 \\xec\\x98\\xa4\\xeb\\xa5\\x98: \"+t),n.parentNode.removeChild(n)})});</script>\\n  <script src=\"//comment.daum.net/js/latest/alex.single.min.js\"></script>\\n  <script>\"use strict\";window.excludeCorejs=!1,window.alexConfig={label:{emptyImage:\\'//i1.daumcdn.net/img-section/enter2013/liveviewer/pc_emot_co.gif\\'},onLoad:function(){window.isLoadComment=!0}};</script>\\n  <script>\"use strict\";!(function(){var t,n,a=document.querySelector(\\'.aside_popular\\'),e=document.querySelectorAll(\".tab_aside li a\"),i={\"\\xeb\\x89\\xb4\\xec\\x8a\\xa4\":\"news\",\"\\xec\\x97\\xb0\\xec\\x98\\x88\":\"entertain\",\"\\xec\\x8a\\xa4\\xed\\x8f\\xac\\xec\\xb8\\xa0\":\"sports\"},c={news:{el:e[0],korName:\"\\xeb\\x89\\xb4\\xec\\x8a\\xa4\",moreLink:\"https://news.daum.net/ranking/popular/all\"},entertain:{el:e[1],korName:\"\\xec\\x97\\xb0\\xec\\x98\\x88\",moreLink:\"https://entertain.daum.net/ranking/popular\"},sports:{el:e[2],korName:\"\\xec\\x8a\\xa4\\xed\\x8f\\xac\\xec\\xb8\\xa0\",moreLink:\"https://sports.daum.net/news/ranking\"}},r=c[\"news\"].el,l=1;function s(n){var e;r!==n&&((e=r.parentNode.querySelector(\".cont_aside\"))&&e.parentNode.removeChild(e),r.parentNode.classList.remove(\"on\"),n.parentNode.classList.add(\"on\"),l=1,o(n),r=n)}function o(n){var e=n.innerText,t=i[e],a=c[t].moreLink,s=document.createElement(\"div\"),t=d(t);function o(){var n=document.querySelector(\".cont_aside .list_ranking\"),e=r.innerText,e=i[e];l=this.classList.contains(\"btn_prev\")?1===l?3:l-1:3===l?1:l+1,n.innerHTML=d(e)}s.classList.add(\"cont_aside\"),s.innerHTML=\"\\\\n <strong class=\\\\\"screen_out\\\\\">\".concat(e,\"</strong>\\\\n <ol class=\\\\\"list_ranking\\\\\">\\\\n \").concat(t,\" \\\\n </ol>\\\\n <div class=\\\\\"util_aside\\\\\">\\\\n <button class=\\\\\"btn_slide btn_prev\\\\\"><span class=\\\\\"ico_newsview\\\\\">\\xec\\x9d\\xb4\\xec\\xa0\\x84</span></button>\\\\n <button class=\\\\\"btn_slide btn_next\\\\\"><span class=\\\\\"ico_newsview\\\\\">\\xeb\\x8b\\xa4\\xec\\x9d\\x8c</span></button>\\\\n <a href=\").concat(a,\" class=\\\\\"link_all\\\\\"><span class=\\\\\"txt_newsview\\\\\">\\xec\\xa0\\x84\\xec\\xb2\\xb4 \\xeb\\xb3\\xb4\\xea\\xb8\\xb0</span><span class=\\\\\"ico_newsview\\\\\"></span></a>\\\\n </div>\\\\n \"),n.parentNode.appendChild(s),s.querySelector(\".btn_prev\").addEventListener(\\'click\\',o),s.querySelector(\".btn_next\").addEventListener(\\'click\\',o)}function d(n){return c[n].contents.slice(10*(l-1),10*l).map(function(n){return\"\\\\n <li>\\\\n <em class=\\\\\"num_newsview num\".concat(n.index,\"\\\\\">\").concat(n.index,\"\\xec\\x9c\\x84</em>\\\\n <strong class=\\\\\"tit_g\\\\\"><a href=\\\\\"\").concat(n.pcLink,\"\\\\\" class=\\\\\"link_txt @\").concat(n.index,\"\\\\\">\").concat(n.title,\"</a></strong>\\\\n </li>\\\\n \")}).join(\\'\\')}t=c,n=\"\".concat(Conf.api.hadesRest,\"/pc_popular_news?size=30\"),axios.get(n).then(function(n){var e=n.data.body.data;Object.keys(e).forEach(function(n){t[n].contents=e[n]}),o(r),a.classList.remove(\\'hide\\')}).catch(function(n){a.parentNode.removeChild(a)}),e.forEach(function(n){n.addEventListener(\"mouseover\",function(n){return s(n.target)}),n.addEventListener(\"focus\",function(n){return s(n.target)})})})();</script>\\n  <script>\"use strict\";!(function(){var t=\"<li>\\\\n <a class=\\\\\"link_cont\\\\\" href=\\\\\"<%= url %>\\\\\">\\\\n <span class=\\\\\"wrap_thumb\\\\\">\\\\n <img class=\\\\\"thumb_g\\\\\" src=\\\\\"<%= thumbnail %>\\\\\" alt=\\\\\"\\\\\"/>\\\\n <span class=\\\\\"ico_phototv\\\\\">\\\\n <% if (type == \\'photo\\') { %>\\\\n <span class=\\\\\"ico_newsview ico_photo\\\\\">\\xed\\x8f\\xac\\xed\\x86\\xa0</span>\\\\n <% } else { %>\\\\n <span class=\\\\\"ico_newsview ico_vod\\\\\">\\xec\\x98\\x81\\xec\\x83\\x81</span>\\\\n <% } %>\\\\n </span>\\\\n </span>\\\\n <strong class=\\\\\"tit_thumb\\\\\"><%= title %></strong>\\\\n </a>\\\\n </li>\",o=document.querySelector(\\'.aside_phototv\\'),s=o.querySelector(\\'.list_phototv\\'),n=\"\".concat(Conf.api.hadesRest,\"/pc_photo_tv\");function a(n){n&&n.parentNode.removeChild(n)}axios.get(n).then(function(n){n=n.data.body.data;_.isEmpty(n)?a(o):(s.innerHTML=n.map(function(n){return _.template(t)(n)}).join(\\'\\'),(n=o)&&n.classList.remove(\\'hide\\'))}).catch(function(n){console.error(\\'[PC \\xeb\\x89\\xb4\\xec\\x8a\\xa4 \\xed\\x8f\\xac\\xed\\x86\\xa0&TV]:\\',n),a(o)})})();</script>\\n  <script>\"use strict\";!(function(){var n=\\'S570x320\\',e=\"20170615203441266\",t=encodeURIComponent(JSON.stringify({itemid:e,category:\"news\".replace(\\'tain\\',\\'\\')})),e={source:e},r=\"<a href=\\\\\"<%=obj.url%>\\\\\" class=\\\\\"link_cont\\\\\" data-itemid=\\\\\"<%=obj._id%>\\\\\"\\\\\" data-pos=\\\\\"<%=obj.pos%>\\\\\">\\\\n <span class=\\\\\"wrap_thumb\\\\\"><img src=\\\\\"<%=obj.thumbnail%>\\\\\" class=\\\\\"thumb_g\\\\\" alt=\\\\\"\\\\\"></span>\\\\n <strong class=\\\\\"tit_thumb\\\\\"><%=obj.title%></strong>\\\\n </a>\",o=\"<strong class=\\\\\"tit_g\\\\\">\\\\n <span class=\\\\\"info_news\\\\\"><%=obj.cp_name%></span>\\\\n <a href=\\\\\"<%=obj.url%>\\\\\" data-itemid=\\\\\"<%=obj._id%>\\\\\" data-pos=\\\\\"<%=obj.pos%>\\\\\" class=\\\\\"link_txt\\\\\"><%=obj.title%></a>\\\\n </strong>\",m=[];new Toros.Connector({url:\\'mediadaum/most_similar\\',queryParams:t,map:function(e){var t=e._id,a=e.title,i=e.image,e=e.cp_name,e={_id:t,url:\"https://v.daum.net/v/\".concat(t),title:a,thumbnail:StringUtil.makeThumbnail(i,n),cp_name:e};if(!(m.length<2&&i))return e;m.push(e)},svc:\\'mediadaum_sim\\',impLabel:\\'toros_mediadaum_sim_imp\\',impProps:e,viewLabel:\\'toros_mediadaum_sim_vimp\\',viewProps:e,clickLabel:\\'toros_mediadaum_sim_click\\',clickProps:e,customRender:function(e,i,n){var s=e.filter(function(e){return!!e._id});m.length<2||s.length<10?document.querySelector(\\'.realtime_news\\').remove():document.querySelectorAll(\\'.item_realtime_news\\').forEach(function(e,t){var a=t<2?{article:m.shift(),template:r}:{article:s.shift(),template:o},t=a.article,a=a.template;t?(e.insertAdjacentHTML(\\'beforeend\\',_.template(a)(t)),e.classList.remove(\\'item_realtime_news\\'),e.classList.length||e.removeAttribute(\\'class\\'),t=e.querySelector(\\'a\\'),i.observe(t),t.addEventListener(\\'click\\',n)):e.remove()})}}).render()})();</script>\\n  <script>\"use strict\";function onFailEtcBottomAd(){var t;null!==(t=document.querySelector(\\'.etc_bottom_ad\\'))&&void 0!==t&&t.remove()}</script>\\n  <script>\"use strict\";!(function(){var e=document.querySelector(\".direct_link\");e.querySelector(\".btn_fold\").addEventListener(\\'click\\',function(){e.classList.toggle(\"direct_open\")})})();</script>\\n  <script>\\n    window.minidaum_options = JSON.parse(\\'{\"bgType\":\"white\",\"enableLogoutRetun\":true,\"returnUrl\":\"\",\"disableHotissue\":false,\"disableLogo\":false,\"disableTracker\":true,\"enableTopLink\":false}\\');\\n</script>\\n  <script src=\"https://go.daum.net/minidaum_pc.daum\"></script>\\n  <script>\"use strict\";document.querySelectorAll(\\'.kakao_ad_area\\').forEach(function(a){a.setAttribute(\\'data-ad-param-channel\\',\\'harmony\\'),a.setAttribute(\\'data-ad-param-cp\\',\\'49_pc_media_news\\')});</script>\\n  <script>\"use strict\";!(function(){var e,t,i,c=\\'<div class=\"direct_view\" style=\"top:<%= top %>px; width:<%= width %>px; margin-left:<%= left %>px\"> <a href=\"<%= url %>\" class=\"link_view\"> <span class=\"txt_g\"><%= title %></span> <span class=\"ico_view\"> <span class=\"ico_newsview ico_gallery\">\\xea\\xb0\\xa4\\xeb\\x9f\\xac\\xeb\\xa6\\xac \\xec\\x9d\\xb4\\xeb\\x8f\\x99</span> </span> </a> </div>\\';e=\\'nkhSoinQsa\\',!(t=\\'\\')||(i=document.querySelector(\\'img[dmcf-mtype=\"image\"]\\'))&&!i.querySelector(\\'.direct_vod\\')&&axios.get(\"\".concat(Conf.api.hadesRest,\"/photo_gallery_link_info?docId=\").concat(e,\"&galleryId=\").concat(parseInt(t,10))).then(function(e){var t,a=e.data.body.data;t=i,a=(e=a).title,e=e.pcLink,a&&e&&(e={title:a,url:e,top:t.clientHeight-62,width:a=t.clientWidth,left:a/2*-1},a=document.createElement(\\'div\\'),t.parentNode.appendChild(a),a.outerHTML=_.template(c)(e))})})();</script>\\n  <script src=\"//search1.daumcdn.net/search/statics/common/js/g/search_dragselection.min.js\"></script>\\n  <script>\"use strict\";!(function(){var e=document.querySelector(\".head_media\"),n=document.getElementById(\"wrapMinidaum\").offsetHeight+e.offsetHeight,o=document.getElementById(\"barProgress\"),d=document.getElementById(\"mAside\"),s=document.getElementById(\"kakaoWrap\"),l=document.getElementById(\"kakaoGnb\"),r=document.getElementById(\"mArticle\"),a=document.querySelector(\".cmt_news\"),c=document.querySelector(\".aside_ad:first-child\"),f=document.querySelector(\".aside_ad:last-child\"),g=document.getElementById(\\'realtime_aside\\');function t(){var e=window.scrollY||window.pageYOffset,t=document.body.offsetHeight,i=window.innerHeight;n<e?(i=100*e/(t-i),s.classList.add(\"header_fixed\"),o.style.width=parseInt(i,10)+\"%\"):s.classList.remove(\"header_fixed\")}function i(){var e=window.scrollX||window.pageXOffset,t=cMain.clientWidth,i=r.clientWidth,n=t-i-d.clientWidth,o=getComputedStyle(cMain),s=null;s=g?(t=g.getBoundingClientRect().left)<880?t+e:t:i+n+parseInt(o[\\'marginLeft\\'],10)-e,r.offsetHeight<d.offsetHeight||(a.style.minHeight=\\'250px\\',0<(n=(window.scrollY||window.pageYOffset)-cMain.offsetTop-8-c.clientHeight)?(o=r.offsetHeight-a.offsetHeight,(e=d.offsetHeight-f.offsetHeight)+n+8<o?(d.style.position=\\'fixed\\',d.style.top=l.clientHeight-c.offsetHeight-74+\\'px\\',d.style.left=s+\\'px\\'):(d.style.position=\\'relative\\',d.style.top=o-e+\\'px\\',d.style.left=\\'inherit\\')):(d.style.position=\\'static\\',d.style.top=\\'inherit\\',d.style.left=\\'inherit\\'))}\\'false\\'!=\\'true\\'&&\\'news\\'==\\'news\\'?(window.addEventListener(\"resize\",_.throttle(i,100)),window.addEventListener(\"scroll\",_.throttle(function(){t(),i()},100)),t(),i()):(window.addEventListener(\"scroll\",_.throttle(function(){t()},100)),t())})();</script>\\n  <script type=\"text/javascript\" src=\"//t1.daumcdn.net/tiara/js/v1/tiara.min.js\"></script>\\n  <script>\"use strict\";!(function(){if(window.TiaraTracker){var c=!1,s=new Date,m=\"pc_news\",l=null;try{l=Cookies.get(\\'DAUMTOP\\')||Cookies.get(\\'HARMONY_TOROS_IMP\\')&&window.atob(Cookies.get(\\'HARMONY_TOROS_IMP\\'))}catch(e){l=Cookies.get(\\'DAUMTOP\\')}var u=\\'\\',g=\\'\\',y=TiaraTracker.getInstance().setSvcDomain(\"media.daum.net\").setPage(\"newsview\").trackPage(\"newsview\").setSection(\"economic\").setEnableAlwaysImage(!0),f={id:\"20170615203441266\",type:\"article\",name:\"\\\\uC794\\\\uAE08\\\\uB300\\\\uCD9C\\\\uC5D0\\\\uB3C4 DTI \\\\uADDC\\\\uC81C \\\\uC801\\\\uC6A9 \\\\uAC80\\\\uD1A0\",category_id:\"1041\",category:\"economic\",author:\"\\\\uAE40\\\\uB3D9\\\\uC6B1\",author_id:\"kdw1280@hankookilbo.com\",provider:\"\\\\uD55C\\\\uAD6D\\\\uC77C\\\\uBCF4\",provider_id:\"49\",regdate:\"2017-06-15 20:34:40\",plink:\"https://media.daum.net/v/20170615203441266\",image:\"https://t1.daumcdn.net/news/201706/15/hankooki/20170615044256378kzbd.jpg\",harmony_consumer_id:\"media\",media:\"pcweb\"},p={contentUniqueKey:\"hamny-\".concat(f.id),docId:\"nkhSoinQsa\",harmony_consumer_id:\"media\",media:\"pcweb\",reg_dt:\"2017-06-15 20:34:40\",reg_timestamp:\"1497526480954\"},e=function(){c||y.actionKind(\"ViewContent\").pageMeta(f).customProps(p).track()},t=function(){if(!c){c=!0;var e=document.body.scrollHeight,t=window.scrollY,a=e-t,o=window.innerHeight,n=Math.round(t/(e-o)*100),i={},o={duration:(new Date).getTime()-s.getTime(),scroll_percent:n,scroll_height:e,scroll_top:t,scroll_bottom:a,scroll_inner_height:o};try{var d,r=!1;!l||(d=JSON.parse(l)).contents_unique_key===p.contentUniqueKey&&(i={toros_imp_id:d.impression_id,toros_file_hash_key:d.toros_file_hash_key,toros_user_id_type:\"uuid\",toros_page_meta_id:p.contentUniqueKey,toros_event_meta_id:p.contentUniqueKey,toros_action_type:\"dwelltime\"},Cookies.remove(\\'HARMONY_TOROS_IMP\\',{path:\\'/\\',domain:location.hostname.substring(location.hostname.indexOf(\\'.\\'))}),Cookies.remove(\\'DAUMTOP\\',{path:\\'/\\',domain:\\'.daum.net\\'}),r=!0),!r&&0<u.length&&(i={toros_imp_id:window.atob(u),toros_file_hash_key:window.atob(g),toros_user_id_type:\"uuid\",toros_page_meta_id:p.contentUniqueKey,toros_event_meta_id:p.contentUniqueKey,toros_action_type:\"dwelltime\"})}catch(e){}y.trackUsage().actionKind(\"UsagePage\").pageMeta(f).usage(o).customProps(_.assignIn(p,i)).track()}};\"onpagehide\"in window?(window.addEventListener(\"pageshow\",e,!1),window.addEventListener(\"pagehide\",t,!1)):(window.addEventListener(\"load\",e,!1),window.addEventListener(\"unload\",t,!1)),document.addEventListener(\"visibilitychange\",function(){(document[\"hidden\"]?t:e)()},!1),document.addEventListener(\"mousedown\",function(e){var t,a,o,n,i,d,r=e.target,c=r.closest(\"[data-cloud]\"),s=r.closest(\"a\")||r.closest(\"button\")||r.closest(\\'div.selectionbox\\');s&&null!=c&&c.contains(s)&&((i=TiaraTracker.getClickInfo(e))&&(a=(null==(t=i.action)?void 0:t.name)||\"\",o=(null==t?void 0:t.kind)||\"\",n=_.assignIn(p,i.customProps),i=r.closest(\"[data-tiara]\"),r=s.querySelector(\"img\"),d=0,Array.from((c||i).querySelectorAll(\"a, button\")).map(function(e,t){e==s&&(d=t)}),e={layer1:m,layer2:c.dataset.cloud,layer3:(null==i?void 0:i.dataset.tiara)||\"\",click_url:s.href||\"\",ordnum:d,copy:s.classList.contains(\\'selectionbox\\')?null==t?void 0:t.name:s.innerText,image:(null==r?void 0:r.src)||\"\",posX:e.clientX,posY:e.clientY},y.trackEvent(a).pageMeta(f).actionKind(o).customProps(n).click(e).track()))})}})();</script>\\n </body>\\n</html>'"
      ]
     },
     "execution_count": 9,
     "metadata": {},
     "output_type": "execute_result"
    }
   ],
   "source": [
    "res.content"
   ]
  },
  {
   "cell_type": "code",
   "execution_count": 8,
   "id": "d0b3df59",
   "metadata": {},
   "outputs": [
    {
     "name": "stdout",
     "output_type": "stream",
     "text": [
      "금융당국이 급증하는 가계부채 증가세를 막기 위해 아파트 잔금대출에도 소득을 따져 대출한도를 정하는 총부채상환비율(DTI)을 적용하는 방안을 유력하게 검토하고 있다.\n"
     ]
    }
   ],
   "source": [
    "# 필요한 데이터 추출\n",
    "mydata = soup.find('p')\n",
    "\n",
    "# 추출한 데이터 활용\n",
    "print(mydata.get_text())"
   ]
  },
  {
   "cell_type": "markdown",
   "id": "631d116f",
   "metadata": {},
   "source": [
    "#### 임의로 html문장 만들어서 p 태그 추출"
   ]
  },
  {
   "cell_type": "code",
   "execution_count": 10,
   "id": "2c599f75",
   "metadata": {},
   "outputs": [
    {
     "name": "stdout",
     "output_type": "stream",
     "text": [
      "웹페이지에서 필요한 데이터를 추출하는 것\n"
     ]
    }
   ],
   "source": [
    "from bs4 import BeautifulSoup\n",
    "html =      \"<html> \\\n",
    "                <body> \\\n",
    "                        <h1 id='title'>[1]크롤링이란?</h1> \\\n",
    "                        <p class='cssstyle'>웹페이지에서 필요한 데이터를 추출하는 것</p> \\\n",
    "                        <p id='body' align='center'>파이썬을 중심으로 다양한 웹크롤링 기술 발달</p> \\\n",
    "                </body> \\\n",
    "            </html>\"\n",
    "\n",
    "soup = BeautifulSoup(html,\"html.parser\")\n",
    "\n",
    "# 태그로 검색 방법\n",
    "data = soup.find('p')\n",
    "print(data.string)"
   ]
  },
  {
   "cell_type": "code",
   "execution_count": 18,
   "id": "27db9c57",
   "metadata": {},
   "outputs": [
    {
     "name": "stdout",
     "output_type": "stream",
     "text": [
      "웹페이지에서 필요한 데이터를 추출하는 것 \n",
      "\n",
      "웹페이지에서 필요한 데이터를 추출하는 것 \n",
      "\n",
      "파이썬을 중심으로 다양한 웹크롤링 기술 발달 \n",
      "\n",
      "파이썬을 중심으로 다양한 웹크롤링 기술 발달 \n",
      "\n",
      "파이썬을 중심으로 다양한 웹크롤링 기술 발달 \n",
      "\n"
     ]
    }
   ],
   "source": [
    "data = soup.find('p', class_ = 'cssstyle')\n",
    "print(data.string,'\\n')\n",
    "\n",
    "data = soup.find('p', 'cssstyle')\n",
    "print(data.string,'\\n')\n",
    "\n",
    "data = soup.find('p', attrs = {'align':'center'})\n",
    "print(data.string,'\\n')\n",
    "\n",
    "data = soup.find(id='body')\n",
    "print(data.string,'\\n')\n",
    "\n",
    "data = soup.find('p', id='body')\n",
    "print(data.string,'\\n')"
   ]
  },
  {
   "cell_type": "code",
   "execution_count": 21,
   "id": "43f69225",
   "metadata": {},
   "outputs": [
    {
     "name": "stdout",
     "output_type": "stream",
     "text": [
      "[<p class=\"cssstyle\">웹페이지에서 필요한 데이터를 추출하는 것</p>, <p align=\"center\" id=\"body\">파이썬을 중심으로 다양한 웹크롤링 기술 발달</p>] \n",
      "\n",
      "웹페이지에서 필요한 데이터를 추출하는 것\n",
      "파이썬을 중심으로 다양한 웹크롤링 기술 발달\n"
     ]
    }
   ],
   "source": [
    "paragraph_data = soup.find_all('p')\n",
    "print(paragraph_data,'\\n')\n",
    "\n",
    "for paragraph in paragraph_data:\n",
    "    print(paragraph.get_text())"
   ]
  },
  {
   "cell_type": "markdown",
   "id": "b9a987e0",
   "metadata": {},
   "source": [
    "### Html/CSS이해를 바탕으로 크롤링하기"
   ]
  },
  {
   "cell_type": "code",
   "execution_count": 23,
   "id": "a509c283",
   "metadata": {},
   "outputs": [
    {
     "name": "stdout",
     "output_type": "stream",
     "text": [
      "잔금대출에도 DTI 규제 적용 검토\n"
     ]
    }
   ],
   "source": [
    "import requests\n",
    "from bs4 import BeautifulSoup\n",
    "\n",
    "# 웹페이지 가져오기\n",
    "res = requests.get('http://v.media.daum.net/v/20170615203441266')\n",
    "\n",
    "# 웹페이지 파싱하기\n",
    "soup = BeautifulSoup(res.content, 'html.parser')\n",
    "\n",
    "# 필요한 데이터 추출\n",
    "mydata = soup.find('h3','tit_view')\n",
    "\n",
    "# 추출한 데이터 활용\n",
    "print(mydata.get_text())"
   ]
  },
  {
   "cell_type": "code",
   "execution_count": 24,
   "id": "2ae7ed59",
   "metadata": {},
   "outputs": [
    {
     "name": "stdout",
     "output_type": "stream",
     "text": [
      "김동욱\n"
     ]
    }
   ],
   "source": [
    "data = soup.find('span','txt_info')\n",
    "print(data.get_text())"
   ]
  },
  {
   "cell_type": "code",
   "execution_count": 25,
   "id": "e514215c",
   "metadata": {},
   "outputs": [
    {
     "name": "stdout",
     "output_type": "stream",
     "text": [
      "김동욱\n",
      "입력 2017. 06. 15. 20:34\n",
      "수정 2017. 06. 15. 21:31\n"
     ]
    }
   ],
   "source": [
    "data = soup.find_all('span','txt_info')\n",
    "for item in data:\n",
    "    print(item.get_text())"
   ]
  },
  {
   "cell_type": "code",
   "execution_count": 33,
   "id": "eeb26cbf",
   "metadata": {},
   "outputs": [
    {
     "name": "stdout",
     "output_type": "stream",
     "text": [
      "김동욱\n"
     ]
    }
   ],
   "source": [
    "data = soup.find_all('span','txt_info')\n",
    "print(data[0].get_text())"
   ]
  },
  {
   "cell_type": "code",
   "execution_count": 26,
   "id": "3330b100",
   "metadata": {},
   "outputs": [
    {
     "name": "stdout",
     "output_type": "stream",
     "text": [
      "입력 2017. 06. 15. 20:34\n"
     ]
    }
   ],
   "source": [
    "data = soup.find_all('span','txt_info')\n",
    "print(data[1].get_text())"
   ]
  },
  {
   "cell_type": "code",
   "execution_count": 34,
   "id": "084feec3",
   "metadata": {},
   "outputs": [
    {
     "name": "stdout",
     "output_type": "stream",
     "text": [
      "수정 2017. 06. 15. 21:31\n"
     ]
    }
   ],
   "source": [
    "data = soup.find_all('span','txt_info')\n",
    "print(data[2].get_text())"
   ]
  },
  {
   "cell_type": "code",
   "execution_count": 31,
   "id": "268ab2dd",
   "metadata": {},
   "outputs": [
    {
     "name": "stdout",
     "output_type": "stream",
     "text": [
      "\n",
      "금융당국이 급증하는 가계부채 증가세를 막기 위해 아파트 잔금대출에도 소득을 따져 대출한도를 정하는 총부채상환비율(DTI)을 적용하는 방안을 유력하게 검토하고 있다.\n",
      "지금은 집값을 기준으로 대출한도를 매기는 주택담보인정비율(LTV) 규제만 적용돼 소득이 없어도 집값의 70%를 빌려 잔금을 치르는 게 가능하다.\n",
      "앞으로 잔금대출에 DTI가 적용되면 소득이 없는 사람은 집값의 70% 대출 받는 게 어려워진다. 기사 제목과 주요 문장을 기반으로 자동요약한 결과입니다. 전체 맥락을 이해하기 위해서는 본문 보기를 권장합니다.\n",
      "\n"
     ]
    }
   ],
   "source": [
    "data = soup.find('div', 'layer_util layer_summary')\n",
    "print(data.get_text())"
   ]
  },
  {
   "cell_type": "markdown",
   "id": "80d790bd",
   "metadata": {},
   "source": [
    "### 실전 크롤링과 강력한 크롤링 기술 Tip\n",
    "https://davelee-fun.github.io/blog/crawl_test"
   ]
  },
  {
   "cell_type": "code",
   "execution_count": 35,
   "id": "57214af5",
   "metadata": {},
   "outputs": [
    {
     "name": "stdout",
     "output_type": "stream",
     "text": [
      "(왕초보) - 클래스 소개\n",
      "(왕초보) - 블로그 개발 필요한 준비물 준비하기\n",
      "(왕초보) - Github pages 설정해서 블로그 첫 페이지 만들어보기\n",
      "(왕초보) - 초간단 페이지 만들어보기\n",
      "(왕초보) - 이쁘게 테마 적용해보기\n",
      "(왕초보) - 마크다운 기초 이해하고, 실제 나만의 블로그 페이지 만들기\n",
      "(왕초보) - 다양한 마크다운 기법 익혀보며, 나만의 블로그 페이지 꾸며보기\n",
      "(초급) - 강사가 실제 사용하는 자동 프로그램 소개 [2]\n",
      "(초급) - 필요한 프로그램 설치 시연 [5]\n",
      "(초급) - 데이터를 엑셀 파일로 만들기 [9]\n",
      "(초급) -     엑셀 파일 이쁘게! 이쁘게! [8]\n",
      "(초급) -     나대신 주기적으로 파이썬 프로그램 실행하기 [7]\n",
      "(초급) - 파이썬으로 슬랙(slack) 메신저에 글쓰기 [40]\n",
      "(초급) - 웹사이트 변경사항 주기적으로 체크해서, 메신저로 알람주기 [12]\n",
      "(초급) - 네이버 API 사용해서, 블로그에 글쓰기 [42]\n",
      "(중급) - 자동으로 쿠팡파트너스 API 로 가져온 상품 정보, 네이버 블로그/트위터에 홍보하기 [412]\n"
     ]
    }
   ],
   "source": [
    "import requests\n",
    "from bs4 import BeautifulSoup\n",
    "\n",
    "res = requests.get('https://davelee-fun.github.io/blog/crawl_test')\n",
    "soup = BeautifulSoup(res.content,'html.parser')\n",
    "\n",
    "titles = soup.find_all('li', 'course')\n",
    "for title in titles:\n",
    "    print(title.get_text())"
   ]
  },
  {
   "cell_type": "markdown",
   "id": "6a6d4e24",
   "metadata": {},
   "source": [
    "#### ul 태그의 id값이 hobby_course_list인것을 들고와서"
   ]
  },
  {
   "cell_type": "code",
   "execution_count": 36,
   "id": "98b265fe",
   "metadata": {},
   "outputs": [],
   "source": [
    "import requests\n",
    "from bs4 import BeautifulSoup\n",
    "\n",
    "res = requests.get('https://davelee-fun.github.io/blog/crawl_test')\n",
    "soup = BeautifulSoup(res.content,'html.parser')\n",
    "\n",
    "# ul 태그의 id값이 hobby_course_list인것을 들고와서\n",
    "section = soup.find('ul', id='hobby_course_list')\n",
    "# 그안의 li태그 class값 course인것 전부 들고옴\n",
    "titles = section.find_all('li', 'course')"
   ]
  },
  {
   "cell_type": "code",
   "execution_count": 39,
   "id": "dd6cffc9",
   "metadata": {},
   "outputs": [
    {
     "data": {
      "text/plain": [
       "[<li class=\"course\"><a href=\"https://www.fun-coding.org\">(왕초보) - 클래스 소개</a></li>,\n",
       " <li class=\"course\"><a href=\"https://www.fun-coding.org\">(왕초보) - 블로그 개발 필요한 준비물 준비하기</a></li>,\n",
       " <li class=\"course\"><a href=\"https://www.fun-coding.org\">(왕초보) - Github pages 설정해서 블로그 첫 페이지 만들어보기</a></li>,\n",
       " <li class=\"course\"><a href=\"https://www.fun-coding.org\">(왕초보) - 초간단 페이지 만들어보기</a></li>,\n",
       " <li class=\"course\"><a href=\"https://www.fun-coding.org\">(왕초보) - 이쁘게 테마 적용해보기</a></li>,\n",
       " <li class=\"course\"><a href=\"https://www.fun-coding.org\">(왕초보) - 마크다운 기초 이해하고, 실제 나만의 블로그 페이지 만들기</a></li>,\n",
       " <li class=\"course\"><a href=\"https://www.fun-coding.org\">(왕초보) - 다양한 마크다운 기법 익혀보며, 나만의 블로그 페이지 꾸며보기</a></li>]"
      ]
     },
     "execution_count": 39,
     "metadata": {},
     "output_type": "execute_result"
    }
   ],
   "source": [
    "titles"
   ]
  },
  {
   "cell_type": "code",
   "execution_count": 38,
   "id": "2cbcd89a",
   "metadata": {},
   "outputs": [
    {
     "data": {
      "text/plain": [
       "'(왕초보) - 다양한 마크다운 기법 익혀보며, 나만의 블로그 페이지 꾸며보기'"
      ]
     },
     "execution_count": 38,
     "metadata": {},
     "output_type": "execute_result"
    }
   ],
   "source": [
    "titles[6].get_text()"
   ]
  },
  {
   "cell_type": "code",
   "execution_count": 37,
   "id": "2e9de009",
   "metadata": {},
   "outputs": [
    {
     "name": "stdout",
     "output_type": "stream",
     "text": [
      "(왕초보) - 클래스 소개\n",
      "(왕초보) - 블로그 개발 필요한 준비물 준비하기\n",
      "(왕초보) - Github pages 설정해서 블로그 첫 페이지 만들어보기\n",
      "(왕초보) - 초간단 페이지 만들어보기\n",
      "(왕초보) - 이쁘게 테마 적용해보기\n",
      "(왕초보) - 마크다운 기초 이해하고, 실제 나만의 블로그 페이지 만들기\n",
      "(왕초보) - 다양한 마크다운 기법 익혀보며, 나만의 블로그 페이지 꾸며보기\n"
     ]
    }
   ],
   "source": [
    "for title in titles:\n",
    "    print(title.get_text())"
   ]
  },
  {
   "cell_type": "markdown",
   "id": "dd3abef9",
   "metadata": {},
   "source": [
    "#### ul 태그의 id값이 dev_course_list인것을 들고와서"
   ]
  },
  {
   "cell_type": "code",
   "execution_count": 40,
   "id": "de6a486d",
   "metadata": {},
   "outputs": [],
   "source": [
    "# ul 태그의 id값이 dev_course_list인것을 들고와서\n",
    "section = soup.find('ul', id='dev_course_list')\n",
    "# 그안의 li태그 class값 course인것 전부 들고옴\n",
    "titles = section.find_all('li', 'course')"
   ]
  },
  {
   "cell_type": "code",
   "execution_count": 41,
   "id": "7b82260d",
   "metadata": {},
   "outputs": [
    {
     "data": {
      "text/plain": [
       "'(초급) - 웹사이트 변경사항 주기적으로 체크해서, 메신저로 알람주기 [12]'"
      ]
     },
     "execution_count": 41,
     "metadata": {},
     "output_type": "execute_result"
    }
   ],
   "source": [
    "titles[6].get_text()"
   ]
  },
  {
   "cell_type": "code",
   "execution_count": 42,
   "id": "6e47fa93",
   "metadata": {},
   "outputs": [
    {
     "name": "stdout",
     "output_type": "stream",
     "text": [
      "(초급) - 강사가 실제 사용하는 자동 프로그램 소개 [2]\n",
      "(초급) - 필요한 프로그램 설치 시연 [5]\n",
      "(초급) - 데이터를 엑셀 파일로 만들기 [9]\n",
      "(초급) -     엑셀 파일 이쁘게! 이쁘게! [8]\n",
      "(초급) -     나대신 주기적으로 파이썬 프로그램 실행하기 [7]\n",
      "(초급) - 파이썬으로 슬랙(slack) 메신저에 글쓰기 [40]\n",
      "(초급) - 웹사이트 변경사항 주기적으로 체크해서, 메신저로 알람주기 [12]\n",
      "(초급) - 네이버 API 사용해서, 블로그에 글쓰기 [42]\n",
      "(중급) - 자동으로 쿠팡파트너스 API 로 가져온 상품 정보, 네이버 블로그/트위터에 홍보하기 [412]\n"
     ]
    }
   ],
   "source": [
    "for title in titles:\n",
    "    print(title.get_text())"
   ]
  },
  {
   "cell_type": "markdown",
   "id": "ae8e8d4b",
   "metadata": {},
   "source": [
    "#### 데이터 전처리\n",
    "- strip() 공백 지워줌"
   ]
  },
  {
   "cell_type": "code",
   "execution_count": 44,
   "id": "c0fe58ca",
   "metadata": {},
   "outputs": [
    {
     "name": "stdout",
     "output_type": "stream",
     "text": [
      "1. 강사가 실제 사용하는 자동 프로그램 소개\n",
      "2. 필요한 프로그램 설치 시연\n",
      "3. 데이터를 엑셀 파일로 만들기\n",
      "4. 엑셀 파일 이쁘게! 이쁘게!\n",
      "5. 나대신 주기적으로 파이썬 프로그램 실행하기\n",
      "6. 파이썬으로 슬랙(slack) 메신저에 글쓰기\n",
      "7. 웹사이트 변경사항 주기적으로 체크해서, 메신저로 알람주기\n",
      "8. 네이버 API 사용해서, 블로그에 글쓰기\n",
      "9. 자동으로 쿠팡파트너스 API 로 가져온 상품 정보, 네이버 블로그/트위터에 홍보하기\n"
     ]
    }
   ],
   "source": [
    "import requests\n",
    "from bs4 import BeautifulSoup\n",
    "\n",
    "res = requests.get('https://davelee-fun.github.io/blog/crawl_test')\n",
    "soup = BeautifulSoup(res.content,'html.parser')\n",
    "\n",
    "# ul 태그의 id값이 dev_course_list인것을 들고와서\n",
    "section = soup.find('ul', id='dev_course_list')\n",
    "# 그안의 li태그 class값 course인것 전부 들고옴\n",
    "titles = section.find_all('li', 'course')\n",
    "for index, title in enumerate(titles):\n",
    "    print(str(index + 1) + '.', title.get_text().split('-')[1].split('[')[0].strip())"
   ]
  },
  {
   "cell_type": "code",
   "execution_count": null,
   "id": "313603d8",
   "metadata": {},
   "outputs": [],
   "source": [
    "#harmonyContainer > section > div:nth-child(8)"
   ]
  },
  {
   "cell_type": "code",
   "execution_count": 73,
   "id": "03a5cc94",
   "metadata": {},
   "outputs": [
    {
     "data": {
      "text/plain": [
       "[]"
      ]
     },
     "execution_count": 73,
     "metadata": {},
     "output_type": "execute_result"
    }
   ],
   "source": [
    "import requests\n",
    "from bs4 import BeautifulSoup\n",
    "\n",
    "res = requests.get('https://news.v.daum.net/v/20210504171801008')\n",
    "soup = BeautifulSoup(res.content,'html.parser')\n",
    "\n",
    "test = soup.select('harmonyContainer > section ')\n",
    "\n",
    "\n",
    "test"
   ]
  },
  {
   "cell_type": "code",
   "execution_count": null,
   "id": "39063a88",
   "metadata": {},
   "outputs": [],
   "source": []
  }
 ],
 "metadata": {
  "kernelspec": {
   "display_name": "Python 3",
   "language": "python",
   "name": "python3"
  },
  "language_info": {
   "codemirror_mode": {
    "name": "ipython",
    "version": 3
   },
   "file_extension": ".py",
   "mimetype": "text/x-python",
   "name": "python",
   "nbconvert_exporter": "python",
   "pygments_lexer": "ipython3",
   "version": "3.8.9"
  }
 },
 "nbformat": 4,
 "nbformat_minor": 5
}
