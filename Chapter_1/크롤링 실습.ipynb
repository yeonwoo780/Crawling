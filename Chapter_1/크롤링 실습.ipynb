{
 "cells": [
  {
   "cell_type": "code",
   "execution_count": 1,
   "metadata": {},
   "outputs": [
    {
     "name": "stdout",
     "output_type": "stream",
     "text": [
      "Requirement already satisfied: selenium in c:\\users\\morning\\anaconda3\\envs\\tf2\\lib\\site-packages (3.141.0)\n",
      "Requirement already satisfied: urllib3 in c:\\users\\morning\\anaconda3\\envs\\tf2\\lib\\site-packages (from selenium) (1.25.10)\n",
      "Requirement already satisfied: bs4 in c:\\users\\morning\\anaconda3\\envs\\tf2\\lib\\site-packages (0.0.1)\n",
      "Requirement already satisfied: beautifulsoup4 in c:\\users\\morning\\anaconda3\\envs\\tf2\\lib\\site-packages (from bs4) (4.9.3)\n",
      "Requirement already satisfied: soupsieve>1.2; python_version >= \"3.0\" in c:\\users\\morning\\anaconda3\\envs\\tf2\\lib\\site-packages (from beautifulsoup4->bs4) (2.0.1)\n",
      "Requirement already satisfied: requests in c:\\users\\morning\\anaconda3\\envs\\tf2\\lib\\site-packages (2.24.0)\n",
      "Requirement already satisfied: idna<3,>=2.5 in c:\\users\\morning\\anaconda3\\envs\\tf2\\lib\\site-packages (from requests) (2.10)\n",
      "Requirement already satisfied: certifi>=2017.4.17 in c:\\users\\morning\\anaconda3\\envs\\tf2\\lib\\site-packages (from requests) (2020.6.20)\n",
      "Requirement already satisfied: urllib3!=1.25.0,!=1.25.1,<1.26,>=1.21.1 in c:\\users\\morning\\anaconda3\\envs\\tf2\\lib\\site-packages (from requests) (1.25.10)\n",
      "Requirement already satisfied: chardet<4,>=3.0.2 in c:\\users\\morning\\anaconda3\\envs\\tf2\\lib\\site-packages (from requests) (3.0.4)\n"
     ]
    }
   ],
   "source": [
    "!pip install selenium\n",
    "!pip install bs4\n",
    "!pip install requests"
   ]
  },
  {
   "cell_type": "code",
   "execution_count": 2,
   "metadata": {},
   "outputs": [
    {
     "name": "stdout",
     "output_type": "stream",
     "text": [
      "['1', '원피스']\n",
      "['2', '후리스']\n",
      "['3', '나이키맨투맨']\n",
      "['4', '맨투맨']\n",
      "['5', '트위드자켓']\n",
      "['6', '후드집업']\n",
      "['7', '나이키후드티']\n",
      "['8', '해리슨캐시미어코트']\n",
      "['9', '나이키바람막이']\n",
      "['10', '니트원피스']\n",
      "['11', '핸드메이드코트']\n",
      "['12', '트렌치코트']\n",
      "['13', '후드티']\n",
      "['14', '바람막이']\n",
      "['15', '잠옷']\n",
      "['16', '가디건']\n",
      "['17', '나이키후드집업']\n",
      "['18', '경량패딩']\n",
      "['19', '여성트레이닝세트']\n",
      "['20', '타미힐피거맨투맨']\n"
     ]
    }
   ],
   "source": [
    "import time\n",
    "from selenium import webdriver\n",
    "from selenium.webdriver.chrome.options import Options\n",
    "from selenium.webdriver.support.wait import WebDriverWait\n",
    "options = Options()\n",
    "options.headless = True\n",
    "browser = webdriver.Chrome(executable_path=\"C:\\\\Users\\\\morning\\\\Downloads\\\\chromedriver_win32\\\\chromedriver.exe\", options=options)\n",
    "browser.get(\"https://datalab.naver.com/shoppingInsight/sCategory.naver\")\n",
    "time.sleep(3)\n",
    "tag_names = browser.find_element_by_css_selector(\".rank_top1000_list\").find_elements_by_tag_name(\"li\")\n",
    "for tag in tag_names:\n",
    "    print(tag.text.split(\"\\n\"))"
   ]
  },
  {
   "cell_type": "code",
   "execution_count": 3,
   "metadata": {},
   "outputs": [
    {
     "name": "stdout",
     "output_type": "stream",
     "text": [
      "<title>잔금대출에도 DTI 규제 적용 검토</title>\n",
      "잔금대출에도 DTI 규제 적용 검토\n"
     ]
    }
   ],
   "source": [
    "import requests\n",
    "from bs4 import BeautifulSoup\n",
    "\n",
    "res = requests.get('http://v.media.daum.net/v/20170615203441266')\n",
    "\n",
    "soup = BeautifulSoup(res.content, 'html.parser')\n",
    "\n",
    "title = soup.find('title')\n",
    "\n",
    "print(title)\n",
    "print(title.get_text())"
   ]
  },
  {
   "cell_type": "code",
   "execution_count": 4,
   "metadata": {},
   "outputs": [
    {
     "name": "stdout",
     "output_type": "stream",
     "text": [
      "<h1 id=\"title\">[1]크롤링이란?</h1>\n",
      "[1]크롤링이란?\n",
      "[1]크롤링이란?\n"
     ]
    }
   ],
   "source": [
    "from bs4 import BeautifulSoup\n",
    "\n",
    "html = \"\"\"\n",
    "<html>\n",
    " <body>\n",
    "     <h1 id='title'>[1]크롤링이란?</h1>;\n",
    "     <p class='cssstyle'>웹페이지에서 필요한 데이터를 추출하는 것</p>\n",
    "     \n",
    "     <p id='body' align='center'>파이썬을 중심으로 다양한 웹크롤링 기술 발달</p>     \n",
    " </body>\n",
    "</html>\n",
    "\n",
    "\"\"\"\n",
    "soup = BeautifulSoup(html,\"html.parser\")\n",
    "\n",
    "title_data = soup.find(\"h1\")\n",
    "\n",
    "print(title_data)\n",
    "print(title_data.string)\n",
    "print(title_data.get_text())"
   ]
  },
  {
   "cell_type": "code",
   "execution_count": 5,
   "metadata": {},
   "outputs": [
    {
     "name": "stdout",
     "output_type": "stream",
     "text": [
      "<p class=\"cssstyle\">웹페이지에서 필요한 데이터를 추출하는 것</p>\n",
      "웹페이지에서 필요한 데이터를 추출하는 것\n",
      "웹페이지에서 필요한 데이터를 추출하는 것\n"
     ]
    }
   ],
   "source": [
    "paragraph_data = soup.find('p')\n",
    "\n",
    "print(paragraph_data)\n",
    "print(paragraph_data.string)\n",
    "print(paragraph_data.get_text())"
   ]
  },
  {
   "cell_type": "code",
   "execution_count": 6,
   "metadata": {},
   "outputs": [
    {
     "name": "stdout",
     "output_type": "stream",
     "text": [
      "<h1 id=\"title\">[1]크롤링이란?</h1>\n",
      "[1]크롤링이란?\n",
      "[1]크롤링이란?\n"
     ]
    }
   ],
   "source": [
    "title_data = soup.find(id='title')\n",
    "\n",
    "print(title_data)\n",
    "print(title_data.string)\n",
    "print(title_data.get_text())"
   ]
  },
  {
   "cell_type": "code",
   "execution_count": 7,
   "metadata": {},
   "outputs": [
    {
     "name": "stdout",
     "output_type": "stream",
     "text": [
      "<p class=\"cssstyle\">웹페이지에서 필요한 데이터를 추출하는 것</p>\n",
      "웹페이지에서 필요한 데이터를 추출하는 것\n",
      "웹페이지에서 필요한 데이터를 추출하는 것\n"
     ]
    }
   ],
   "source": [
    "paragraph_data = soup.find('p','cssstyle')\n",
    "\n",
    "print(paragraph_data)\n",
    "print(paragraph_data.string)\n",
    "print(paragraph_data.get_text())"
   ]
  },
  {
   "cell_type": "code",
   "execution_count": 8,
   "metadata": {},
   "outputs": [
    {
     "name": "stdout",
     "output_type": "stream",
     "text": [
      "[<p class=\"cssstyle\">웹페이지에서 필요한 데이터를 추출하는 것</p>, <p align=\"center\" id=\"body\">파이썬을 중심으로 다양한 웹크롤링 기술 발달</p>]\n",
      "웹페이지에서 필요한 데이터를 추출하는 것\n",
      "파이썬을 중심으로 다양한 웹크롤링 기술 발달\n"
     ]
    }
   ],
   "source": [
    "paragraph_data = soup.find_all('p')\n",
    "\n",
    "print(paragraph_data)\n",
    "print(paragraph_data[0].get_text())\n",
    "print(paragraph_data[1].get_text())"
   ]
  },
  {
   "cell_type": "code",
   "execution_count": 10,
   "metadata": {},
   "outputs": [
    {
     "name": "stdout",
     "output_type": "stream",
     "text": [
      "['오대석']\n",
      "['[이주의해시태그-#네이버-클로바]쑥쑥 크는 네이버 AI', '[이주의해시태그-#네이버-클로바]쑥쑥 크는 네이버 AI', '오대석']\n",
      "[]\n",
      "[이주의해시태그-#네이버-클로바]쑥쑥 크는 네이버 AI\n"
     ]
    }
   ],
   "source": [
    "import re\n",
    "res = requests.get('http://v.media.daum.net/v/20170518153405933')\n",
    "soup = BeautifulSoup(res.content, 'html.parser')\n",
    "\n",
    "print (soup.find_all(string='오대석'))\n",
    "print (soup.find_all(string=['[이주의해시태그-#네이버-클로바]쑥쑥 크는 네이버 AI', '오대석']))\n",
    "print (soup.find_all(string='AI'))\n",
    "print (soup.find_all(string=re.compile('AI'))[0])\n",
    "# print (soup.find_all(string=re.compile('AI')))"
   ]
  },
  {
   "cell_type": "markdown",
   "metadata": {},
   "source": [
    "# 연습문제"
   ]
  },
  {
   "cell_type": "code",
   "execution_count": 11,
   "metadata": {},
   "outputs": [
    {
     "name": "stdout",
     "output_type": "stream",
     "text": [
      "中게임 판치는데..5년 간 '판호' 고작 33건 발급\n",
      "5년 간 '판호' 고작 33건 발급..2017년 이후 '0'\n",
      "\"中게임 판치는데, 통계도 없는 韓정부\"\n",
      "\"'아이폰12' 첫 날 판매량, 아이폰11 2배 넘었다\"\n",
      "\"아이폰12 프로 판매량, 예상치 웃돌 것\"\n",
      "김봉진의 '승부수'..배달의민족, 내달 日 진출\n",
      "배달의민족, 다음달 일본 진출..서비스명은 '푸드네코'\n",
      "이충원 과기부 국제협력총괄담당관, OECD 디지털경제정책위 부의장 연임\n",
      "이충원 담당관, OECD 디지털경제정책위원회 부의장직 연임\n",
      "기름 속 작은 물방울도 박자를 맞춘다\n",
      "울산과기원, 미세 기름관 내 물방울 형성 동기화 현상 최초 발견\n",
      "아이폰12, 코로나 뚫고 첫날 사전주문량 200만대.. 아이폰11 넘었다\n",
      "\"스마트워치야? 손난로야?\"..'터진' 애플워치SE, 국내서 발열·폭발 논란\n",
      "\"공공 부문, CISO 등 보안 전담조직 마련돼야\"\n",
      "\"20만원에 아이 판매\" 논란..당근마켓 \"AI 모니터링 강화\"\n",
      "정부가 만든 中企 전용 오프라인 매장 72%가 폐점\n",
      "도미노피자, 경찰의 날 맞아 경찰공무원에 '반값 피자' 행사\n",
      "우리 몸속 고대 바이러스 흔적이 코로나19 퇴치법 알려줄까?\n",
      "부부는 닮지 않는다..닮은 사람끼리 만날 뿐\n",
      "뚜껑형이냐, 스탠드형이냐..냉장고 대신 김치냉장고?\n",
      "\"스마트워치야? 손난로야?\"..'터진' 애플워치SE, 국내서 발열·폭발 논란\n",
      "\"'아이폰12' 첫 날 판매량, 아이폰11 2배 넘었다\"\n",
      "18년전 미국에 팔려가려던 하이닉스, '메모리의 아버지' 인수하다\n",
      "땅 기름지게 하는 지렁이가 미세플라스틱 토양오염 가속화시킨다\n",
      "땅 기름지게 하는 지렁이가 미세플라스틱 토양오염 가속화시킨다\n",
      "\"아이폰12 선주문 첫날 판매량, 아이폰11 뛰어넘어\"\n",
      "비닐봉지의 역설..종이봉투와 생분해 플라스틱의 불편한 진실\n",
      "\"'아이폰12' 첫 날 판매량, 아이폰11 2배 넘었다\"\n",
      "\"그 알량한 돈때문에\"..300명 정리해고 여행박사 사장의 마지막 편지\n",
      "'1억 마세라티' 모는 운전자, 어떻게 공공임대주택에 입주했나\n",
      "\"이젠 미세먼지 때문에 KF 마스크\"..중국에 '부글부글'\n",
      "충북 공군부대 병사 휴가 후 귀대 않고 무단 해외출국\n",
      "코로나에 다 망했다는데..'빵집'만 살아남은 이유는?\n",
      "민주당 \"옵티머스 명단 공개한 유상범 의원 국회 윤리특위에 제소\"\n",
      "이번엔 37m 거대 고양이..페루서 '나스카 라인' 또 발견\n",
      "\"제가 한번 모시겠습니다\" 그들이 룸살롱 가는 이유\n",
      "주호영 \"공수처 발족하고 라임·옵티 특검도 하자\"..일괄타결 제안\n",
      "한진택배 \"숨진 택배기사 지병 있었다\"..동생 \"예의가 아니다\" 분노\n",
      "유럽, 한국식 '추적' 따라하기 두 손 들었다..결국 '봉쇄' 회귀\n",
      "'경항모+F-35B' 예산이면 정식 항모도 보유 가능..\"美도 韓항모 찬성..못할 이유 없어\"\n",
      "짙은 안개 속 '쾅, 쾅'..서해안고속도서 차량 15대 추돌\n",
      "마스크 안 쓰고 KTX 타려다..\"직원 제지에 드러누워 난동\"\n",
      "F-35A 40대 중 24대 도착..한국형 전투기 내년 5월 출고\n",
      "수험생 배에서 '삐리릭~' 벨소리..진화하는 기사시험 부정행위\n",
      "25년간 남편 사망신고 미뤄 군인연금 3억 5천만원 부정수령\n",
      "전국노래자랑 현장에서 포착한 대한민국 초상\n",
      "일본이 본 한국..\"적은 월급, 높은 집값 젊은층 주식에 몰두\"\n",
      "'잘못없다'는 의대생, '대리사과'만으로 의사국시 재시험?\n",
      "여긴 몰랐지?..코로나 시대 가기 좋은 '숨은 관광지' 7선\n",
      "전주혜 \"법치 무너진 날.. 윤석열, 옷 벗으란 소리\"\n",
      "1단계서도 같이 밥먹으니 집단감염..서울시민 12%만 \"1년 이내 회복\"\n",
      "시민단체, 추미애 고발..\"사기꾼 진술 엮어 尹명예훼손\"\n",
      "신동근 \"秋 수사지휘권 적절..폭로 사실이면 검찰이 정치하는 것\"\n",
      "맛있는 치킨의 유혹..  뜻밖의 건강효과 5가지\n",
      "서울 아파트서 느닷없는 600만원 '돈비'..성숙한 시민의식 눈길\n",
      "\"함께 여행 다녀온\" 강남·서초 지인모임서 총 10명 집단감염\n",
      "경기도 분도론에 인천·부천·김포·시흥 4개시 통합 주장도\n",
      "호사카 유지 \"日 스가 총리 측근, 박지원 만난 이유는?\"\n",
      "비 \"작은 소식?\" ♥김태희 임신 아니다..궁금증 증폭\n",
      "'불청' 김홍표 \"교통사고로 4번 대수술, 일용직 조경에 대리운전도\"\n",
      "전진 \"에릭, 아내 나혜미 걱정돼 손잡고 다녀\" 사랑꾼 인증\n",
      "정윤선 \"알뜰하게 살지 않으면 정동환과 못 살아\"\n",
      "\"이 방송 안하면 잘려\" 김하늘, 이혼 프로 출연 제안에 심란 '18 어게인'\n",
      "\"최수종, 션 같은 남편\" 전진♥류이서 결혼식 눈물 펑펑 '감동'\n",
      "황제성♥박초은 집정리에 시청자도 대리만족, 4개월 기다릴만 하네요'신박한'\n",
      "임정은 \"스캔들 났던 김지훈 결혼식 와, 남편 안심\"\n",
      "정동환♥정윤선 전원주택 공개 \"부실하게 지어졌어\"\n",
      "'밥심' 박해미 \"전남편 음주사건 심경 고백 후련, 子 황성재 고마워 눈물\"\n",
      "\"어쩌자고 또 송윤아를 하고 있지\" 25년 차 배우의 반성\n",
      "다수가 등 돌린 '브람스를 좋아하세요?' 반전 인기\n",
      "'쇼미더머니9' 측 \"대마초 적발 오왼 하차 확정, 방송 통편집\"\n",
      "'아침마당' 김창숙, 웨딩홀 광고 아르바이트→하루아침에 스타덤\n",
      "류효영, 활동명 '정우연'으로 변경..빅픽처엔터테인먼트와 새 출발\n",
      "'미스터 션샤인' 윤주만, '보쌈' 무사 역 캐스팅..불꽃 액션 연기\n",
      "'밥먹다' 박해미 \"사고 후 드라마→교수직 내려놔, 걷잡을 수 없는 구렁텅이 빠져\"\n",
      "'청춘기록' 변우석, 금수저는 실패에 면역이 없다\n",
      "'밥심' 박해미, 전 남편 음주사고로 작품+교수직 다 잃어 \"끔찍했던 시간\"\n",
      "전진 \"6년전 장인어른 돌아가셔..♥류이서, 혼자 신부 입장하겠다고\"\n",
      "'청춘기록' 박보검 \"이승준 마지막 통화자\" 보도에 충격→박소담과 관계 흔들\n",
      "'옥문아들' 김한길 \"의식 되찾고 최명길 병실 프러포즈에 울컥\"\n",
      "박해미의 오열 \"전 남편 음주 교통사고, 子 황재성과 고통의 고통..\"\n",
      "최정원 \"전소민과 격한 애정신, 엄청 떨렸다\"\n",
      "방탄소년단 '그래미어워드' 7개부문 지원, 노미네이트 꿈 이룰까\n",
      "'청춘기록' 이재원 \"방영 중 득녀 겹경사, 정말 행복했죠\"\n",
      "이효리가 칭찬한 블루, 대마초 흡연..'쇼미777' 루피-나플라 등 5명 무더기 적발\n",
      "'물어보살' 서장훈, 전소민에 \"남자 조심해라..김종국이 베스트\"\n",
      "'마이웨이' 정동환, 톱가수 아내와의 러브스토리 \"편지 전달해주다 첫만남\"\n",
      "'동상이몽' 임정은 \"송중기·송승헌 닮은 미남 남편, 화장실 갈 때도 함께\" 찐사랑 고백\n",
      "\"최지만의 '다리 찢기' 수비, 월드시리즈 흥행 요소\"\n",
      "\"손흥민 뛸 때, 더 실점 안 하려고\"..웨스트햄 주장이 밝힌 '충격 무승부'\n",
      "썩어도 준치? 美매체, \"SF, 베테랑 좌타 추신수 영입에 관심\"\n",
      "'손흥민은 퇴장 당했는데..' 팬들, 라울 히메네스 행동에 어리둥절\n",
      "\"토트넘, 손흥민 재계약 우선적으로 처리하려 할 것\"..英 언론\n",
      "손흥민 토트넘 잔류시 최고 주급 유력..EPL 톱5 진입 가능성도\n",
      "기업 오너가 보유한 '박항서 사인볼'.. 경매로 나와 기부 절차\n",
      "英언론 지적 \"SON의 프리킥 뺏은 베일..동료 배려 없어\"\n",
      "커쇼는 1차전, 뷸러는 3차전 확정인데..LAD 2차전 선발은 고민중\n",
      "이강인 '1분도' 못 뛰다니..현지도 납득불가 \"발렌시아 이상하다\"\n",
      "'러시아 미녀' 라자레바, 차원이 다른 대박 외인..한국 왜 왔니\n",
      "수술 앞둔 정호영 \"다음 시즌 건강하게\"..한송이 \"얼른 돌아와\"\n",
      "'재계약 추진 중' 손흥민, 주급 보다 더 중요한게 있다\n",
      "손흥민 \"비니시우스와 친해지려 노력 중..너무 웃긴 친구\"\n",
      "아구에로, 女심판 '터치' 사후 징계 피할 듯..前 PL 심판, \"당사자 대처 좋았어\"\n",
      "BBC 이주의 팀, '1골 1도움' 손흥민 없다..케인+맨유 3명\n",
      "EPL, 코로나19 7차 진단 검사서 8명 확진\n",
      "\"먼시가 '최지만+디아즈' 보다 약간 우세..다저스 우승\" MLB.com\n",
      "일본여자프로골프 우승 신지애, 세계 랭킹 30위로 8계단 상승\n",
      "\"손흥민은 왜 은퇴 전까지 결혼하지 않을까?\" 英언론 관심 집중\n",
      "\"공수 탁월 최지만, 다저스의 WS 최대 경계 인물\" 美매체\n",
      "LA 다저스는 왜 '다저스'라는 별명을 갖게 됐을까\n",
      "\"매일 보고 이야기하고 너무 신나\" 손흥민, 베일에 대한 기대감\n",
      "마르셀루 부진에..레알, 한 시즌 만에 레길론 복귀 추진\n",
      "\"돈이 얼마인데..\" 1할 타자, 6점대 ERA 써야 하는 현실\n",
      "英 언론 극찬, \"슈퍼 공격수 손흥민-케인, 英 축구 가장 핫한 공격 듀오\"\n",
      "'신입생'도 챙기는 '인싸' 손흥민, \"판타스틱한 선수들..적응하도록 돕겠다\"\n",
      "로스앤젤스와 탬파베이 시가 WS 우승에 촉각을 세우는 이유는\n",
      "'1조 5000억원' 리버풀, 전 세계 가장 비싼 축구팀..토트넘 10위\n",
      "쿠만이 기억하는 판 다이크, \"게으르고 오만한 선수였다\"\n",
      "최후의 1인을 가린다!카카오 배틀그라운드\n",
      "대체불가 핵앤슬래시!  패스 오브 엑자일\n",
      "뉴스홈\n",
      "사회\n",
      "정치\n",
      "경제\n",
      "국제\n",
      "문화\n",
      "IT\n",
      "포토\n",
      "TV\n",
      "언론사별 뉴스\n",
      "배열이력\n",
      "전체뉴스\n",
      "랭킹\n",
      "연재\n",
      "1boon\n",
      "[<a class=\"link_txt\" data-tiara-custom=\"contentUniqueKey=hamny-20201020111534571\" data-tiara-id=\"20201020111534571\" data-tiara-layer=\"article_main\" data-tiara-ordnum=\"1\" data-tiara-type=\"harmony\" href=\"https://news.v.daum.net/v/20201020111534571\">中게임 판치는데..5년 간 '판호' 고작 33건 발급</a>, <a \"=\"\" class=\"link_txt\" data-tiara-custom=\"contentUniqueKey=hamny-20201020104323752\" data-tiara-id=\"20201020104323752\" data-tiara-layer=\"article_sub\" data-tiara-ordnum=\"1\" data-tiara-type=\"harmony\" href=\"https://news.v.daum.net/v/20201020104323752\">\n",
      "\t                            5년 간 '판호' 고작 33건 발급..2017년 이후 '0'\n",
      "\t\t\t\t\t\t\t</a>, <a \"=\"\" class=\"link_txt\" data-tiara-custom=\"contentUniqueKey=hamny-20201020104254724\" data-tiara-id=\"20201020104254724\" data-tiara-layer=\"article_sub\" data-tiara-ordnum=\"2\" data-tiara-type=\"harmony\" href=\"https://news.v.daum.net/v/20201020104254724\">\n",
      "\t                            \"中게임 판치는데, 통계도 없는 韓정부\"\n",
      "\t\t\t\t\t\t\t</a>, <a class=\"link_txt\" data-tiara-custom=\"contentUniqueKey=hamny-20201020105116106\" data-tiara-id=\"20201020105116106\" data-tiara-layer=\"article_main\" data-tiara-ordnum=\"1\" data-tiara-type=\"harmony\" href=\"https://news.v.daum.net/v/20201020105116106\">\"'아이폰12' 첫 날 판매량, 아이폰11 2배 넘었다\"</a>, <a \"=\"\" class=\"link_txt\" data-tiara-custom=\"contentUniqueKey=hamny-20201020073201493\" data-tiara-id=\"20201020073201493\" data-tiara-layer=\"article_sub\" data-tiara-ordnum=\"1\" data-tiara-type=\"harmony\" href=\"https://news.v.daum.net/v/20201020073201493\">\n",
      "\t                                \"아이폰12 프로 판매량, 예상치 웃돌 것\"\n",
      "\t\t\t\t\t\t\t\t</a>, <a class=\"link_txt\" data-tiara-custom=\"contentUniqueKey=hamny-20201019172208339\" data-tiara-id=\"20201019172208339\" data-tiara-layer=\"article_main\" data-tiara-ordnum=\"1\" data-tiara-type=\"harmony\" href=\"https://news.v.daum.net/v/20201019172208339\">김봉진의 '승부수'..배달의민족, 내달 日 진출</a>, <a \"=\"\" class=\"link_txt\" data-tiara-custom=\"contentUniqueKey=hamny-20201019114802173\" data-tiara-id=\"20201019114802173\" data-tiara-layer=\"article_sub\" data-tiara-ordnum=\"1\" data-tiara-type=\"harmony\" href=\"https://news.v.daum.net/v/20201019114802173\">\n",
      "\t                                배달의민족, 다음달 일본 진출..서비스명은 '푸드네코'\n",
      "\t\t\t\t\t\t\t\t</a>, <a class=\"link_txt\" data-tiara-custom=\"contentUniqueKey=hamny-20201019171529077\" data-tiara-id=\"20201019171529077\" data-tiara-layer=\"article_main\" data-tiara-ordnum=\"1\" data-tiara-type=\"harmony\" href=\"https://news.v.daum.net/v/20201019171529077\">이충원 과기부 국제협력총괄담당관, OECD 디지털경제정책위 부의장 연임</a>, <a \"=\"\" class=\"link_txt\" data-tiara-custom=\"contentUniqueKey=hamny-20201019145051153\" data-tiara-id=\"20201019145051153\" data-tiara-layer=\"article_sub\" data-tiara-ordnum=\"1\" data-tiara-type=\"harmony\" href=\"https://news.v.daum.net/v/20201019145051153\">\n",
      "\t                                이충원 담당관, OECD 디지털경제정책위원회 부의장직 연임\n",
      "\t\t\t\t\t\t\t\t</a>, <a class=\"link_txt\" data-tiara-custom=\"contentUniqueKey=hamny-20201019120203771\" data-tiara-id=\"20201019120203771\" data-tiara-layer=\"article_main\" data-tiara-ordnum=\"1\" data-tiara-type=\"harmony\" href=\"https://news.v.daum.net/v/20201019120203771\">기름 속 작은 물방울도 박자를 맞춘다</a>, <a \"=\"\" class=\"link_txt\" data-tiara-custom=\"contentUniqueKey=hamny-20201019120137748\" data-tiara-id=\"20201019120137748\" data-tiara-layer=\"article_sub\" data-tiara-ordnum=\"1\" data-tiara-type=\"harmony\" href=\"https://news.v.daum.net/v/20201019120137748\">\n",
      "\t                                울산과기원, 미세 기름관 내 물방울 형성 동기화 현상 최초 발견\n",
      "\t\t\t\t\t\t\t\t</a>, <a class=\"link_txt\" data-tiara-custom=\"contentUniqueKey=hamny-20201020082155320\" data-tiara-id=\"20201020082155320\" data-tiara-layer=\"MCC cluster6 article_main\" data-tiara-ordnum=\"1\" data-tiara-type=\"harmony\" href=\"https://news.v.daum.net/v/20201020082155320\">\n",
      "                        아이폰12, 코로나 뚫고 첫날 사전주문량 200만대.. 아이폰11 넘었다\n",
      "\t\t\t\t\t</a>, <a class=\"link_txt\" data-tiara-custom=\"contentUniqueKey=hamny-20201019161614538\" data-tiara-id=\"20201019161614538\" data-tiara-layer=\"MCC cluster6 article_main\" data-tiara-ordnum=\"1\" data-tiara-type=\"harmony\" href=\"https://news.v.daum.net/v/20201019161614538\">\n",
      "                        \"스마트워치야? 손난로야?\"..'터진' 애플워치SE, 국내서 발열·폭발 논란\n",
      "\t\t\t\t\t</a>, <a class=\"link_txt\" data-tiara-custom=\"contentUniqueKey=hamny-20201019164306732\" data-tiara-id=\"20201019164306732\" data-tiara-layer=\"MCC cluster6 article_main\" data-tiara-ordnum=\"1\" data-tiara-type=\"harmony\" href=\"https://news.v.daum.net/v/20201019164306732\">\n",
      "                        \"공공 부문, CISO 등 보안 전담조직 마련돼야\"\n",
      "\t\t\t\t\t</a>, <a class=\"link_txt\" data-tiara-custom=\"contentUniqueKey=hamny-20201019163257289\" data-tiara-id=\"20201019163257289\" data-tiara-layer=\"MCC cluster6 article_main\" data-tiara-ordnum=\"1\" data-tiara-type=\"harmony\" href=\"https://news.v.daum.net/v/20201019163257289\">\n",
      "                        \"20만원에 아이 판매\" 논란..당근마켓 \"AI 모니터링 강화\"\n",
      "\t\t\t\t\t</a>, <a class=\"link_txt\" data-tiara-custom=\"contentUniqueKey=hamny-20201019160002763\" data-tiara-id=\"20201019160002763\" data-tiara-layer=\"MCC cluster6 article_main\" data-tiara-ordnum=\"1\" data-tiara-type=\"harmony\" href=\"https://news.v.daum.net/v/20201019160002763\">\n",
      "                        정부가 만든 中企 전용 오프라인 매장 72%가 폐점\n",
      "\t\t\t\t\t</a>, <a class=\"link_txt\" data-tiara-custom=\"contentUniqueKey=hamny-20201020091216922\" data-tiara-id=\"20201020091216922\" data-tiara-layer=\"article\" data-tiara-ordnum=\"1\" data-tiara-type=\"harmony\" href=\"https://v.daum.net/v/20201020091216922\">도미노피자, 경찰의 날 맞아 경찰공무원에 '반값 피자' 행사</a>, <a class=\"link_txt\" data-tiara-custom=\"contentUniqueKey=hamny-20201020102220603\" data-tiara-id=\"20201020102220603\" data-tiara-layer=\"article\" data-tiara-ordnum=\"2\" data-tiara-type=\"harmony\" href=\"https://v.daum.net/v/20201020102220603\">우리 몸속 고대 바이러스 흔적이 코로나19 퇴치법 알려줄까?</a>, <a class=\"link_txt\" data-tiara-custom=\"contentUniqueKey=hamny-20201020095610041\" data-tiara-id=\"20201020095610041\" data-tiara-layer=\"article\" data-tiara-ordnum=\"3\" data-tiara-type=\"harmony\" href=\"https://v.daum.net/v/20201020095610041\">부부는 닮지 않는다..닮은 사람끼리 만날 뿐</a>, <a class=\"link_txt\" data-tiara-custom=\"contentUniqueKey=hamny-20201019163820523\" data-tiara-id=\"20201019163820523\" data-tiara-layer=\"article\" data-tiara-ordnum=\"4\" data-tiara-type=\"harmony\" href=\"https://v.daum.net/v/20201019163820523\">뚜껑형이냐, 스탠드형이냐..냉장고 대신 김치냉장고?</a>, <a class=\"link_txt\" data-tiara-custom=\"contentUniqueKey=hamny-20201019161614538\" data-tiara-id=\"20201019161614538\" data-tiara-layer=\"article\" data-tiara-ordnum=\"1\" data-tiara-type=\"harmony\" href=\"https://v.daum.net/v/20201019161614538\">\"스마트워치야? 손난로야?\"..'터진' 애플워치SE, 국내서 발열·폭발 논란</a>, <a class=\"link_txt\" data-tiara-custom=\"contentUniqueKey=hamny-20201020105116106\" data-tiara-id=\"20201020105116106\" data-tiara-layer=\"article\" data-tiara-ordnum=\"2\" data-tiara-type=\"harmony\" href=\"https://v.daum.net/v/20201020105116106\">\"'아이폰12' 첫 날 판매량, 아이폰11 2배 넘었다\"</a>, <a class=\"link_txt\" data-tiara-custom=\"contentUniqueKey=hamny-20201020104041637\" data-tiara-id=\"20201020104041637\" data-tiara-layer=\"article\" data-tiara-ordnum=\"3\" data-tiara-type=\"harmony\" href=\"https://v.daum.net/v/20201020104041637\">18년전 미국에 팔려가려던 하이닉스, '메모리의 아버지' 인수하다</a>, <a class=\"link_txt\" data-tiara-custom=\"contentUniqueKey=hamny-20201019141602237\" data-tiara-id=\"20201019141602237\" data-tiara-layer=\"article\" data-tiara-ordnum=\"4\" data-tiara-type=\"harmony\" href=\"https://v.daum.net/v/20201019141602237\">땅 기름지게 하는 지렁이가 미세플라스틱 토양오염 가속화시킨다</a>, <a class=\"link_txt\" data-tiara-custom=\"contentUniqueKey=hamny-20201019141602237\" data-tiara-id=\"20201019141602237\" data-tiara-layer=\"article\" data-tiara-ordnum=\"1\" data-tiara-type=\"harmony\" href=\"https://v.daum.net/v/20201019141602237\">땅 기름지게 하는 지렁이가 미세플라스틱 토양오염 가속화시킨다</a>, <a class=\"link_txt\" data-tiara-custom=\"contentUniqueKey=hamny-20201020091236935\" data-tiara-id=\"20201020091236935\" data-tiara-layer=\"article\" data-tiara-ordnum=\"2\" data-tiara-type=\"harmony\" href=\"https://v.daum.net/v/20201020091236935\">\"아이폰12 선주문 첫날 판매량, 아이폰11 뛰어넘어\"</a>, <a class=\"link_txt\" data-tiara-custom=\"contentUniqueKey=hamny-20201020070604190\" data-tiara-id=\"20201020070604190\" data-tiara-layer=\"article\" data-tiara-ordnum=\"3\" data-tiara-type=\"harmony\" href=\"https://v.daum.net/v/20201020070604190\">비닐봉지의 역설..종이봉투와 생분해 플라스틱의 불편한 진실</a>, <a class=\"link_txt\" data-tiara-custom=\"contentUniqueKey=hamny-20201020105116106\" data-tiara-id=\"20201020105116106\" data-tiara-layer=\"article\" data-tiara-ordnum=\"4\" data-tiara-type=\"harmony\" href=\"https://v.daum.net/v/20201020105116106\">\"'아이폰12' 첫 날 판매량, 아이폰11 2배 넘었다\"</a>, <a class=\"link_txt\" data-tiara-custom=\"contentUniqueKey=hamny-20201020102100530\" data-tiara-id=\"20201020102100530\" data-tiara-layer=\"RIGHT popular_news news_list\" data-tiara-ordnum=\"1\" data-tiara-type=\"harmony\" href=\"https://v.daum.net/v/20201020102100530\">\n",
      "                                         \"그 알량한 돈때문에\"..300명 정리해고 여행박사 사장의 마지막 편지\n",
      "                                    </a>, <a class=\"link_txt\" data-tiara-custom=\"contentUniqueKey=hamny-20201020101911433\" data-tiara-id=\"20201020101911433\" data-tiara-layer=\"RIGHT popular_news news_list\" data-tiara-ordnum=\"2\" data-tiara-type=\"harmony\" href=\"https://v.daum.net/v/20201020101911433\">\n",
      "                                        '1억 마세라티' 모는 운전자, 어떻게 공공임대주택에 입주했나\n",
      "                                    </a>, <a class=\"link_txt\" data-tiara-custom=\"contentUniqueKey=hamny-20201020095255885\" data-tiara-id=\"20201020095255885\" data-tiara-layer=\"RIGHT popular_news news_list\" data-tiara-ordnum=\"3\" data-tiara-type=\"harmony\" href=\"https://v.daum.net/v/20201020095255885\">\n",
      "                                        \"이젠 미세먼지 때문에 KF 마스크\"..중국에 '부글부글'\n",
      "                                    </a>, <a class=\"link_txt\" data-tiara-custom=\"contentUniqueKey=hamny-20201020095921199\" data-tiara-id=\"20201020095921199\" data-tiara-layer=\"RIGHT popular_news news_list\" data-tiara-ordnum=\"4\" data-tiara-type=\"harmony\" href=\"https://v.daum.net/v/20201020095921199\">\n",
      "                                        충북 공군부대 병사 휴가 후 귀대 않고 무단 해외출국\n",
      "                                    </a>, <a class=\"link_txt\" data-tiara-custom=\"contentUniqueKey=hamny-20201020101824392\" data-tiara-id=\"20201020101824392\" data-tiara-layer=\"RIGHT popular_news news_list\" data-tiara-ordnum=\"5\" data-tiara-type=\"harmony\" href=\"https://v.daum.net/v/20201020101824392\">\n",
      "                                        코로나에 다 망했다는데..'빵집'만 살아남은 이유는?\n",
      "                                    </a>, <a class=\"link_txt\" data-tiara-custom=\"contentUniqueKey=hamny-20201020103345277\" data-tiara-id=\"20201020103345277\" data-tiara-layer=\"RIGHT popular_news news_list\" data-tiara-ordnum=\"6\" data-tiara-type=\"harmony\" href=\"https://v.daum.net/v/20201020103345277\">\n",
      "                                        민주당 \"옵티머스 명단 공개한 유상범 의원 국회 윤리특위에 제소\"\n",
      "                                    </a>, <a class=\"link_txt\" data-tiara-custom=\"contentUniqueKey=hamny-20201020093936223\" data-tiara-id=\"20201020093936223\" data-tiara-layer=\"RIGHT popular_news news_list\" data-tiara-ordnum=\"7\" data-tiara-type=\"harmony\" href=\"https://v.daum.net/v/20201020093936223\">\n",
      "                                        이번엔 37m 거대 고양이..페루서 '나스카 라인' 또 발견\n",
      "                                    </a>, <a class=\"link_txt\" data-tiara-custom=\"contentUniqueKey=hamny-20201020101753353\" data-tiara-id=\"20201020101753353\" data-tiara-layer=\"RIGHT popular_news news_list\" data-tiara-ordnum=\"8\" data-tiara-type=\"harmony\" href=\"https://v.daum.net/v/20201020101753353\">\n",
      "                                        \"제가 한번 모시겠습니다\" 그들이 룸살롱 가는 이유 \n",
      "                                    </a>, <a class=\"link_txt\" data-tiara-custom=\"contentUniqueKey=hamny-20201020095057788\" data-tiara-id=\"20201020095057788\" data-tiara-layer=\"RIGHT popular_news news_list\" data-tiara-ordnum=\"9\" data-tiara-type=\"harmony\" href=\"https://v.daum.net/v/20201020095057788\">\n",
      "                                        주호영 \"공수처 발족하고 라임·옵티 특검도 하자\"..일괄타결 제안\n",
      "                                    </a>, <a class=\"link_txt\" data-tiara-custom=\"contentUniqueKey=hamny-20201020091438025\" data-tiara-id=\"20201020091438025\" data-tiara-layer=\"RIGHT popular_news news_list\" data-tiara-ordnum=\"10\" data-tiara-type=\"harmony\" href=\"https://v.daum.net/v/20201020091438025\">\n",
      "                                        한진택배 \"숨진 택배기사 지병 있었다\"..동생 \"예의가 아니다\" 분노\n",
      "                                    </a>, <a class=\"link_txt\" data-tiara-custom=\"contentUniqueKey=hamny-20201020102906984\" data-tiara-id=\"20201020102906984\" data-tiara-layer=\"RIGHT popular_news news_list\" data-tiara-ordnum=\"11\" data-tiara-type=\"harmony\" href=\"https://v.daum.net/v/20201020102906984\">\n",
      "                                         유럽, 한국식 '추적' 따라하기 두 손 들었다..결국 '봉쇄' 회귀\n",
      "                                    </a>, <a class=\"link_txt\" data-tiara-custom=\"contentUniqueKey=hamny-20201020104314744\" data-tiara-id=\"20201020104314744\" data-tiara-layer=\"RIGHT popular_news news_list\" data-tiara-ordnum=\"12\" data-tiara-type=\"harmony\" href=\"https://v.daum.net/v/20201020104314744\">\n",
      "                                        '경항모+F-35B' 예산이면 정식 항모도 보유 가능..\"美도 韓항모 찬성..못할 이유 없어\"\n",
      "                                    </a>, <a class=\"link_txt\" data-tiara-custom=\"contentUniqueKey=hamny-20201020105054064\" data-tiara-id=\"20201020105054064\" data-tiara-layer=\"RIGHT popular_news news_list\" data-tiara-ordnum=\"13\" data-tiara-type=\"harmony\" href=\"https://v.daum.net/v/20201020105054064\">\n",
      "                                        짙은 안개 속 '쾅, 쾅'..서해안고속도서 차량 15대 추돌\n",
      "                                    </a>, <a class=\"link_txt\" data-tiara-custom=\"contentUniqueKey=hamny-20201020035814380\" data-tiara-id=\"20201020035814380\" data-tiara-layer=\"RIGHT popular_news news_list\" data-tiara-ordnum=\"14\" data-tiara-type=\"harmony\" href=\"https://v.daum.net/v/20201020035814380\">\n",
      "                                        마스크 안 쓰고 KTX 타려다..\"직원 제지에 드러누워 난동\"\n",
      "                                    </a>, <a class=\"link_txt\" data-tiara-custom=\"contentUniqueKey=hamny-20201020105210141\" data-tiara-id=\"20201020105210141\" data-tiara-layer=\"RIGHT popular_news news_list\" data-tiara-ordnum=\"15\" data-tiara-type=\"harmony\" href=\"https://v.daum.net/v/20201020105210141\">\n",
      "                                        F-35A 40대 중 24대 도착..한국형 전투기 내년 5월 출고\n",
      "                                    </a>, <a class=\"link_txt\" data-tiara-custom=\"contentUniqueKey=hamny-20201020094121282\" data-tiara-id=\"20201020094121282\" data-tiara-layer=\"RIGHT popular_news news_list\" data-tiara-ordnum=\"16\" data-tiara-type=\"harmony\" href=\"https://v.daum.net/v/20201020094121282\">\n",
      "                                        수험생 배에서 '삐리릭~' 벨소리..진화하는 기사시험 부정행위\n",
      "                                    </a>, <a class=\"link_txt\" data-tiara-custom=\"contentUniqueKey=hamny-20201020062602775\" data-tiara-id=\"20201020062602775\" data-tiara-layer=\"RIGHT popular_news news_list\" data-tiara-ordnum=\"17\" data-tiara-type=\"harmony\" href=\"https://v.daum.net/v/20201020062602775\">\n",
      "                                        25년간 남편 사망신고 미뤄 군인연금 3억 5천만원 부정수령\n",
      "                                    </a>, <a class=\"link_txt\" data-tiara-custom=\"contentUniqueKey=hamny-20201019165735384\" data-tiara-id=\"20201019165735384\" data-tiara-layer=\"RIGHT popular_news news_list\" data-tiara-ordnum=\"18\" data-tiara-type=\"harmony\" href=\"https://v.daum.net/v/20201019165735384\">\n",
      "                                        전국노래자랑 현장에서 포착한 대한민국 초상\n",
      "                                    </a>, <a class=\"link_txt\" data-tiara-custom=\"contentUniqueKey=hamny-20201020060402521\" data-tiara-id=\"20201020060402521\" data-tiara-layer=\"RIGHT popular_news news_list\" data-tiara-ordnum=\"19\" data-tiara-type=\"harmony\" href=\"https://v.daum.net/v/20201020060402521\">\n",
      "                                        일본이 본 한국..\"적은 월급, 높은 집값 젊은층 주식에 몰두\"\n",
      "                                    </a>, <a class=\"link_txt\" data-tiara-custom=\"contentUniqueKey=hamny-20201020110659086\" data-tiara-id=\"20201020110659086\" data-tiara-layer=\"RIGHT popular_news news_list\" data-tiara-ordnum=\"20\" data-tiara-type=\"harmony\" href=\"https://v.daum.net/v/20201020110659086\">\n",
      "                                        '잘못없다'는 의대생, '대리사과'만으로 의사국시 재시험?\n",
      "                                    </a>, <a class=\"link_txt\" data-tiara-custom=\"contentUniqueKey=hamny-20201020070028073\" data-tiara-id=\"20201020070028073\" data-tiara-layer=\"RIGHT popular_news news_list\" data-tiara-ordnum=\"21\" data-tiara-type=\"harmony\" href=\"https://v.daum.net/v/20201020070028073\">\n",
      "                                        여긴 몰랐지?..코로나 시대 가기 좋은 '숨은 관광지' 7선\n",
      "                                    </a>, <a class=\"link_txt\" data-tiara-custom=\"contentUniqueKey=hamny-20201020095403945\" data-tiara-id=\"20201020095403945\" data-tiara-layer=\"RIGHT popular_news news_list\" data-tiara-ordnum=\"22\" data-tiara-type=\"harmony\" href=\"https://v.daum.net/v/20201020095403945\">\n",
      "                                        전주혜 \"법치 무너진 날.. 윤석열, 옷 벗으란 소리\"\n",
      "                                    </a>, <a class=\"link_txt\" data-tiara-custom=\"contentUniqueKey=hamny-20201020101835397\" data-tiara-id=\"20201020101835397\" data-tiara-layer=\"RIGHT popular_news news_list\" data-tiara-ordnum=\"23\" data-tiara-type=\"harmony\" href=\"https://v.daum.net/v/20201020101835397\">\n",
      "                                        1단계서도 같이 밥먹으니 집단감염..서울시민 12%만 \"1년 이내 회복\"\n",
      "                                    </a>, <a class=\"link_txt\" data-tiara-custom=\"contentUniqueKey=hamny-20201020101241055\" data-tiara-id=\"20201020101241055\" data-tiara-layer=\"RIGHT popular_news news_list\" data-tiara-ordnum=\"24\" data-tiara-type=\"harmony\" href=\"https://v.daum.net/v/20201020101241055\">\n",
      "                                        시민단체, 추미애 고발..\"사기꾼 진술 엮어 尹명예훼손\"\n",
      "                                    </a>, <a class=\"link_txt\" data-tiara-custom=\"contentUniqueKey=hamny-20201020101501167\" data-tiara-id=\"20201020101501167\" data-tiara-layer=\"RIGHT popular_news news_list\" data-tiara-ordnum=\"25\" data-tiara-type=\"harmony\" href=\"https://v.daum.net/v/20201020101501167\">\n",
      "                                        신동근 \"秋 수사지휘권 적절..폭로 사실이면 검찰이 정치하는 것\"\n",
      "                                    </a>, <a class=\"link_txt\" data-tiara-custom=\"contentUniqueKey=hamny-20201020105322209\" data-tiara-id=\"20201020105322209\" data-tiara-layer=\"RIGHT popular_news news_list\" data-tiara-ordnum=\"26\" data-tiara-type=\"harmony\" href=\"https://v.daum.net/v/20201020105322209\">\n",
      "                                        맛있는 치킨의 유혹..  뜻밖의 건강효과 5가지\n",
      "                                    </a>, <a class=\"link_txt\" data-tiara-custom=\"contentUniqueKey=hamny-20201020082138318\" data-tiara-id=\"20201020082138318\" data-tiara-layer=\"RIGHT popular_news news_list\" data-tiara-ordnum=\"27\" data-tiara-type=\"harmony\" href=\"https://v.daum.net/v/20201020082138318\">\n",
      "                                        서울 아파트서 느닷없는 600만원 '돈비'..성숙한 시민의식 눈길\n",
      "                                    </a>, <a class=\"link_txt\" data-tiara-custom=\"contentUniqueKey=hamny-20201020110218761\" data-tiara-id=\"20201020110218761\" data-tiara-layer=\"RIGHT popular_news news_list\" data-tiara-ordnum=\"28\" data-tiara-type=\"harmony\" href=\"https://v.daum.net/v/20201020110218761\">\n",
      "                                        \"함께 여행 다녀온\" 강남·서초 지인모임서 총 10명 집단감염\n",
      "                                    </a>, <a class=\"link_txt\" data-tiara-custom=\"contentUniqueKey=hamny-20201020104905987\" data-tiara-id=\"20201020104905987\" data-tiara-layer=\"RIGHT popular_news news_list\" data-tiara-ordnum=\"29\" data-tiara-type=\"harmony\" href=\"https://v.daum.net/v/20201020104905987\">\n",
      "                                        경기도 분도론에 인천·부천·김포·시흥 4개시 통합 주장도\n",
      "                                    </a>, <a class=\"link_txt\" data-tiara-custom=\"contentUniqueKey=hamny-20201020100920865\" data-tiara-id=\"20201020100920865\" data-tiara-layer=\"RIGHT popular_news news_list\" data-tiara-ordnum=\"30\" data-tiara-type=\"harmony\" href=\"https://v.daum.net/v/20201020100920865\">\n",
      "                                        호사카 유지 \"日 스가 총리 측근, 박지원 만난 이유는?\"\n",
      "                                    </a>, <a class=\"link_txt\" data-tiara-custom=\"contentUniqueKey=hamny-20201020101235054\" data-tiara-id=\"20201020101235054\" data-tiara-layer=\"RIGHT popular_news enter_list\" data-tiara-ordnum=\"1\" data-tiara-type=\"harmony\" href=\"https://v.daum.net/v/20201020101235054?s=eRIGHT_MANY_TOT=R\">\n",
      "                                        비 \"작은 소식?\" ♥김태희 임신 아니다..궁금증 증폭\n",
      "                                    </a>, <a class=\"link_txt\" data-tiara-custom=\"contentUniqueKey=hamny-20201020101835398\" data-tiara-id=\"20201020101835398\" data-tiara-layer=\"RIGHT popular_news enter_list\" data-tiara-ordnum=\"2\" data-tiara-type=\"harmony\" href=\"https://v.daum.net/v/20201020101835398?s=eRIGHT_MANY_TOT=R\">\n",
      "                                        '불청' 김홍표 \"교통사고로 4번 대수술, 일용직 조경에 대리운전도\"\n",
      "                                    </a>, <a class=\"link_txt\" data-tiara-custom=\"contentUniqueKey=hamny-20201020060035369\" data-tiara-id=\"20201020060035369\" data-tiara-layer=\"RIGHT popular_news enter_list\" data-tiara-ordnum=\"3\" data-tiara-type=\"harmony\" href=\"https://v.daum.net/v/20201020060035369?s=eRIGHT_MANY_TOT=R\">\n",
      "                                        전진 \"에릭, 아내 나혜미 걱정돼 손잡고 다녀\" 사랑꾼 인증 \n",
      "                                    </a>, <a class=\"link_txt\" data-tiara-custom=\"contentUniqueKey=hamny-20201020062309740\" data-tiara-id=\"20201020062309740\" data-tiara-layer=\"RIGHT popular_news enter_list\" data-tiara-ordnum=\"4\" data-tiara-type=\"harmony\" href=\"https://v.daum.net/v/20201020062309740?s=eRIGHT_MANY_TOT=R\">\n",
      "                                        정윤선 \"알뜰하게 살지 않으면 정동환과 못 살아\"\n",
      "                                    </a>, <a class=\"link_txt\" data-tiara-custom=\"contentUniqueKey=hamny-20201020060056415\" data-tiara-id=\"20201020060056415\" data-tiara-layer=\"RIGHT popular_news enter_list\" data-tiara-ordnum=\"5\" data-tiara-type=\"harmony\" href=\"https://v.daum.net/v/20201020060056415?s=eRIGHT_MANY_TOT=R\">\n",
      "                                        \"이 방송 안하면 잘려\" 김하늘, 이혼 프로 출연 제안에 심란 '18 어게인'\n",
      "                                    </a>, <a class=\"link_txt\" data-tiara-custom=\"contentUniqueKey=hamny-20201020060036370\" data-tiara-id=\"20201020060036370\" data-tiara-layer=\"RIGHT popular_news enter_list\" data-tiara-ordnum=\"6\" data-tiara-type=\"harmony\" href=\"https://v.daum.net/v/20201020060036370?s=eRIGHT_MANY_TOT=R\">\n",
      "                                        \"최수종, 션 같은 남편\" 전진♥류이서 결혼식 눈물 펑펑 '감동'  \n",
      "                                    </a>, <a class=\"link_txt\" data-tiara-custom=\"contentUniqueKey=hamny-20201020060042381\" data-tiara-id=\"20201020060042381\" data-tiara-layer=\"RIGHT popular_news enter_list\" data-tiara-ordnum=\"7\" data-tiara-type=\"harmony\" href=\"https://v.daum.net/v/20201020060042381?s=eRIGHT_MANY_TOT=R\">\n",
      "                                        황제성♥박초은 집정리에 시청자도 대리만족, 4개월 기다릴만 하네요'신박한'\n",
      "                                    </a>, <a class=\"link_txt\" data-tiara-custom=\"contentUniqueKey=hamny-20201020060046395\" data-tiara-id=\"20201020060046395\" data-tiara-layer=\"RIGHT popular_news enter_list\" data-tiara-ordnum=\"8\" data-tiara-type=\"harmony\" href=\"https://v.daum.net/v/20201020060046395?s=eRIGHT_MANY_TOT=R\">\n",
      "                                        임정은 \"스캔들 났던 김지훈 결혼식 와, 남편 안심\"  \n",
      "                                    </a>, <a class=\"link_txt\" data-tiara-custom=\"contentUniqueKey=hamny-20201020062258738\" data-tiara-id=\"20201020062258738\" data-tiara-layer=\"RIGHT popular_news enter_list\" data-tiara-ordnum=\"9\" data-tiara-type=\"harmony\" href=\"https://v.daum.net/v/20201020062258738?s=eRIGHT_MANY_TOT=R\">\n",
      "                                        정동환♥정윤선 전원주택 공개 \"부실하게 지어졌어\"\n",
      "                                    </a>, <a class=\"link_txt\" data-tiara-custom=\"contentUniqueKey=hamny-20201020095650079\" data-tiara-id=\"20201020095650079\" data-tiara-layer=\"RIGHT popular_news enter_list\" data-tiara-ordnum=\"10\" data-tiara-type=\"harmony\" href=\"https://v.daum.net/v/20201020095650079?s=eRIGHT_MANY_TOT=R\">\n",
      "                                         '밥심' 박해미 \"전남편 음주사건 심경 고백 후련, 子 황성재 고마워 눈물\" \n",
      "                                    </a>, <a class=\"link_txt\" data-tiara-custom=\"contentUniqueKey=hamny-20201020080210950\" data-tiara-id=\"20201020080210950\" data-tiara-layer=\"RIGHT popular_news enter_list\" data-tiara-ordnum=\"11\" data-tiara-type=\"harmony\" href=\"https://v.daum.net/v/20201020080210950?s=eRIGHT_MANY_TOT=R\">\n",
      "                                         \"어쩌자고 또 송윤아를 하고 있지\" 25년 차 배우의 반성\n",
      "                                    </a>, <a class=\"link_txt\" data-tiara-custom=\"contentUniqueKey=hamny-20201020080134941\" data-tiara-id=\"20201020080134941\" data-tiara-layer=\"RIGHT popular_news enter_list\" data-tiara-ordnum=\"12\" data-tiara-type=\"harmony\" href=\"https://v.daum.net/v/20201020080134941?s=eRIGHT_MANY_TOT=R\">\n",
      "                                        다수가 등 돌린 '브람스를 좋아하세요?' 반전 인기\n",
      "                                    </a>, <a class=\"link_txt\" data-tiara-custom=\"contentUniqueKey=hamny-20201020091940248\" data-tiara-id=\"20201020091940248\" data-tiara-layer=\"RIGHT popular_news enter_list\" data-tiara-ordnum=\"13\" data-tiara-type=\"harmony\" href=\"https://v.daum.net/v/20201020091940248?s=eRIGHT_MANY_TOT=R\">\n",
      "                                        '쇼미더머니9' 측 \"대마초 적발 오왼 하차 확정, 방송 통편집\"\n",
      "                                    </a>, <a class=\"link_txt\" data-tiara-custom=\"contentUniqueKey=hamny-20201020085021025\" data-tiara-id=\"20201020085021025\" data-tiara-layer=\"RIGHT popular_news enter_list\" data-tiara-ordnum=\"14\" data-tiara-type=\"harmony\" href=\"https://v.daum.net/v/20201020085021025?s=eRIGHT_MANY_TOT=R\">\n",
      "                                        '아침마당' 김창숙, 웨딩홀 광고 아르바이트→하루아침에 스타덤\n",
      "                                    </a>, <a class=\"link_txt\" data-tiara-custom=\"contentUniqueKey=hamny-20201020092335433\" data-tiara-id=\"20201020092335433\" data-tiara-layer=\"RIGHT popular_news enter_list\" data-tiara-ordnum=\"15\" data-tiara-type=\"harmony\" href=\"https://v.daum.net/v/20201020092335433?s=eRIGHT_MANY_TOT=R\">\n",
      "                                        류효영, 활동명 '정우연'으로 변경..빅픽처엔터테인먼트와 새 출발\n",
      "                                    </a>, <a class=\"link_txt\" data-tiara-custom=\"contentUniqueKey=hamny-20201020094506471\" data-tiara-id=\"20201020094506471\" data-tiara-layer=\"RIGHT popular_news enter_list\" data-tiara-ordnum=\"16\" data-tiara-type=\"harmony\" href=\"https://v.daum.net/v/20201020094506471?s=eRIGHT_MANY_TOT=R\">\n",
      "                                         '미스터 션샤인' 윤주만, '보쌈' 무사 역 캐스팅..불꽃 액션 연기\n",
      "                                    </a>, <a class=\"link_txt\" data-tiara-custom=\"contentUniqueKey=hamny-20201020065011948\" data-tiara-id=\"20201020065011948\" data-tiara-layer=\"RIGHT popular_news enter_list\" data-tiara-ordnum=\"17\" data-tiara-type=\"harmony\" href=\"https://v.daum.net/v/20201020065011948?s=eRIGHT_MANY_TOT=R\">\n",
      "                                        '밥먹다' 박해미 \"사고 후 드라마→교수직 내려놔, 걷잡을 수 없는 구렁텅이 빠져\" \n",
      "                                    </a>, <a class=\"link_txt\" data-tiara-custom=\"contentUniqueKey=hamny-20201020102733888\" data-tiara-id=\"20201020102733888\" data-tiara-layer=\"RIGHT popular_news enter_list\" data-tiara-ordnum=\"18\" data-tiara-type=\"harmony\" href=\"https://v.daum.net/v/20201020102733888?s=eRIGHT_MANY_TOT=R\">\n",
      "                                        '청춘기록' 변우석, 금수저는 실패에 면역이 없다 \n",
      "                                    </a>, <a class=\"link_txt\" data-tiara-custom=\"contentUniqueKey=hamny-20201019233301811\" data-tiara-id=\"20201019233301811\" data-tiara-layer=\"RIGHT popular_news enter_list\" data-tiara-ordnum=\"19\" data-tiara-type=\"harmony\" href=\"https://v.daum.net/v/20201019233301811?s=eRIGHT_MANY_TOT=R\">\n",
      "                                        '밥심' 박해미, 전 남편 음주사고로 작품+교수직 다 잃어 \"끔찍했던 시간\"\n",
      "                                    </a>, <a class=\"link_txt\" data-tiara-custom=\"contentUniqueKey=hamny-20201020001756193\" data-tiara-id=\"20201020001756193\" data-tiara-layer=\"RIGHT popular_news enter_list\" data-tiara-ordnum=\"20\" data-tiara-type=\"harmony\" href=\"https://v.daum.net/v/20201020001756193?s=eRIGHT_MANY_TOT=R\">\n",
      "                                        전진 \"6년전 장인어른 돌아가셔..♥류이서, 혼자 신부 입장하겠다고\" \n",
      "                                    </a>, <a class=\"link_txt\" data-tiara-custom=\"contentUniqueKey=hamny-20201020060010322\" data-tiara-id=\"20201020060010322\" data-tiara-layer=\"RIGHT popular_news enter_list\" data-tiara-ordnum=\"21\" data-tiara-type=\"harmony\" href=\"https://v.daum.net/v/20201020060010322?s=eRIGHT_MANY_TOT=R\">\n",
      "                                        '청춘기록' 박보검 \"이승준 마지막 통화자\" 보도에 충격→박소담과 관계 흔들\n",
      "                                    </a>, <a class=\"link_txt\" data-tiara-custom=\"contentUniqueKey=hamny-20201020100500598\" data-tiara-id=\"20201020100500598\" data-tiara-layer=\"RIGHT popular_news enter_list\" data-tiara-ordnum=\"22\" data-tiara-type=\"harmony\" href=\"https://v.daum.net/v/20201020100500598?s=eRIGHT_MANY_TOT=R\">\n",
      "                                        '옥문아들' 김한길 \"의식 되찾고 최명길 병실 프러포즈에 울컥\"\n",
      "                                    </a>, <a class=\"link_txt\" data-tiara-custom=\"contentUniqueKey=hamny-20201020064005871\" data-tiara-id=\"20201020064005871\" data-tiara-layer=\"RIGHT popular_news enter_list\" data-tiara-ordnum=\"23\" data-tiara-type=\"harmony\" href=\"https://v.daum.net/v/20201020064005871?s=eRIGHT_MANY_TOT=R\">\n",
      "                                        박해미의 오열 \"전 남편 음주 교통사고, 子 황재성과 고통의 고통..\"  \n",
      "                                    </a>, <a class=\"link_txt\" data-tiara-custom=\"contentUniqueKey=hamny-20201020060025352\" data-tiara-id=\"20201020060025352\" data-tiara-layer=\"RIGHT popular_news enter_list\" data-tiara-ordnum=\"24\" data-tiara-type=\"harmony\" href=\"https://v.daum.net/v/20201020060025352?s=eRIGHT_MANY_TOT=R\">\n",
      "                                        최정원 \"전소민과 격한 애정신, 엄청 떨렸다\" \n",
      "                                    </a>, <a class=\"link_txt\" data-tiara-custom=\"contentUniqueKey=hamny-20201020100032290\" data-tiara-id=\"20201020100032290\" data-tiara-layer=\"RIGHT popular_news enter_list\" data-tiara-ordnum=\"25\" data-tiara-type=\"harmony\" href=\"https://v.daum.net/v/20201020100032290?s=eRIGHT_MANY_TOT=R\">\n",
      "                                        방탄소년단 '그래미어워드' 7개부문 지원, 노미네이트 꿈 이룰까\n",
      "                                    </a>, <a class=\"link_txt\" data-tiara-custom=\"contentUniqueKey=hamny-20201020103435324\" data-tiara-id=\"20201020103435324\" data-tiara-layer=\"RIGHT popular_news enter_list\" data-tiara-ordnum=\"26\" data-tiara-type=\"harmony\" href=\"https://v.daum.net/v/20201020103435324?s=eRIGHT_MANY_TOT=R\">\n",
      "                                        '청춘기록' 이재원 \"방영 중 득녀 겹경사, 정말 행복했죠\"\n",
      "                                    </a>, <a class=\"link_txt\" data-tiara-custom=\"contentUniqueKey=hamny-20201019201154641\" data-tiara-id=\"20201019201154641\" data-tiara-layer=\"RIGHT popular_news enter_list\" data-tiara-ordnum=\"27\" data-tiara-type=\"harmony\" href=\"https://v.daum.net/v/20201019201154641?s=eRIGHT_MANY_TOT=R\">\n",
      "                                        이효리가 칭찬한 블루, 대마초 흡연..'쇼미777' 루피-나플라 등 5명 무더기 적발\n",
      "                                    </a>, <a class=\"link_txt\" data-tiara-custom=\"contentUniqueKey=hamny-20201020065001941\" data-tiara-id=\"20201020065001941\" data-tiara-layer=\"RIGHT popular_news enter_list\" data-tiara-ordnum=\"28\" data-tiara-type=\"harmony\" href=\"https://v.daum.net/v/20201020065001941?s=eRIGHT_MANY_TOT=R\">\n",
      "                                        '물어보살' 서장훈, 전소민에 \"남자 조심해라..김종국이 베스트\" \n",
      "                                    </a>, <a class=\"link_txt\" data-tiara-custom=\"contentUniqueKey=hamny-20201019230930665\" data-tiara-id=\"20201019230930665\" data-tiara-layer=\"RIGHT popular_news enter_list\" data-tiara-ordnum=\"29\" data-tiara-type=\"harmony\" href=\"https://v.daum.net/v/20201019230930665?s=eRIGHT_MANY_TOT=R\">\n",
      "                                        '마이웨이' 정동환, 톱가수 아내와의 러브스토리 \"편지 전달해주다 첫만남\" \n",
      "                                    </a>, <a class=\"link_txt\" data-tiara-custom=\"contentUniqueKey=hamny-20201020002801263\" data-tiara-id=\"20201020002801263\" data-tiara-layer=\"RIGHT popular_news enter_list\" data-tiara-ordnum=\"30\" data-tiara-type=\"harmony\" href=\"https://v.daum.net/v/20201020002801263?s=eRIGHT_MANY_TOT=R\">\n",
      "                                        '동상이몽' 임정은 \"송중기·송승헌 닮은 미남 남편, 화장실 갈 때도 함께\" 찐사랑 고백\n",
      "                                    </a>, <a class=\"link_txt\" data-tiara-custom=\"contentUniqueKey=hamny-20201020090026344\" data-tiara-id=\"20201020090026344\" data-tiara-layer=\"RIGHT popular_news sports_list\" data-tiara-ordnum=\"1\" data-tiara-type=\"harmony\" href=\"https://v.daum.net/v/20201020090026344\">\n",
      "                                        \"최지만의 '다리 찢기' 수비, 월드시리즈 흥행 요소\"\n",
      "                                    </a>, <a class=\"link_txt\" data-tiara-custom=\"contentUniqueKey=hamny-20201020053002089\" data-tiara-id=\"20201020053002089\" data-tiara-layer=\"RIGHT popular_news sports_list\" data-tiara-ordnum=\"2\" data-tiara-type=\"harmony\" href=\"https://v.daum.net/v/20201020053002089\">\n",
      "                                        \"손흥민 뛸 때, 더 실점 안 하려고\"..웨스트햄 주장이 밝힌 '충격 무승부'\n",
      "                                    </a>, <a class=\"link_txt\" data-tiara-custom=\"contentUniqueKey=hamny-20201020085626183\" data-tiara-id=\"20201020085626183\" data-tiara-layer=\"RIGHT popular_news sports_list\" data-tiara-ordnum=\"3\" data-tiara-type=\"harmony\" href=\"https://v.daum.net/v/20201020085626183\">\n",
      "                                        썩어도 준치? 美매체, \"SF, 베테랑 좌타 추신수 영입에 관심\"\n",
      "                                    </a>, <a class=\"link_txt\" data-tiara-custom=\"contentUniqueKey=hamny-20201020080232963\" data-tiara-id=\"20201020080232963\" data-tiara-layer=\"RIGHT popular_news sports_list\" data-tiara-ordnum=\"4\" data-tiara-type=\"harmony\" href=\"https://v.daum.net/v/20201020080232963\">\n",
      "                                        '손흥민은 퇴장 당했는데..' 팬들, 라울 히메네스 행동에 어리둥절\n",
      "                                    </a>, <a class=\"link_txt\" data-tiara-custom=\"contentUniqueKey=hamny-20201020065012949\" data-tiara-id=\"20201020065012949\" data-tiara-layer=\"RIGHT popular_news sports_list\" data-tiara-ordnum=\"5\" data-tiara-type=\"harmony\" href=\"https://v.daum.net/v/20201020065012949\">\n",
      "                                        \"토트넘, 손흥민 재계약 우선적으로 처리하려 할 것\"..英 언론\n",
      "                                    </a>, <a class=\"link_txt\" data-tiara-custom=\"contentUniqueKey=hamny-20201020104556856\" data-tiara-id=\"20201020104556856\" data-tiara-layer=\"RIGHT popular_news sports_list\" data-tiara-ordnum=\"6\" data-tiara-type=\"harmony\" href=\"https://v.daum.net/v/20201020104556856\">\n",
      "                                        손흥민 토트넘 잔류시 최고 주급 유력..EPL 톱5 진입 가능성도\n",
      "                                    </a>, <a class=\"link_txt\" data-tiara-custom=\"contentUniqueKey=hamny-20201020093655089\" data-tiara-id=\"20201020093655089\" data-tiara-layer=\"RIGHT popular_news sports_list\" data-tiara-ordnum=\"7\" data-tiara-type=\"harmony\" href=\"https://v.daum.net/v/20201020093655089\">\n",
      "                                        기업 오너가 보유한 '박항서 사인볼'.. 경매로 나와 기부 절차\n",
      "                                    </a>, <a class=\"link_txt\" data-tiara-custom=\"contentUniqueKey=hamny-20201019175707809\" data-tiara-id=\"20201019175707809\" data-tiara-layer=\"RIGHT popular_news sports_list\" data-tiara-ordnum=\"8\" data-tiara-type=\"harmony\" href=\"https://v.daum.net/v/20201019175707809\">\n",
      "                                        英언론 지적 \"SON의 프리킥 뺏은 베일..동료 배려 없어\"\n",
      "                                    </a>, <a class=\"link_txt\" data-tiara-custom=\"contentUniqueKey=hamny-20201020101059965\" data-tiara-id=\"20201020101059965\" data-tiara-layer=\"RIGHT popular_news sports_list\" data-tiara-ordnum=\"9\" data-tiara-type=\"harmony\" href=\"https://v.daum.net/v/20201020101059965\">\n",
      "                                        커쇼는 1차전, 뷸러는 3차전 확정인데..LAD 2차전 선발은 고민중\n",
      "                                    </a>, <a class=\"link_txt\" data-tiara-custom=\"contentUniqueKey=hamny-20201020051203949\" data-tiara-id=\"20201020051203949\" data-tiara-layer=\"RIGHT popular_news sports_list\" data-tiara-ordnum=\"10\" data-tiara-type=\"harmony\" href=\"https://v.daum.net/v/20201020051203949\">\n",
      "                                        이강인 '1분도' 못 뛰다니..현지도 납득불가 \"발렌시아 이상하다\"\n",
      "                                    </a>, <a class=\"link_txt\" data-tiara-custom=\"contentUniqueKey=hamny-20201020095027764\" data-tiara-id=\"20201020095027764\" data-tiara-layer=\"RIGHT popular_news sports_list\" data-tiara-ordnum=\"11\" data-tiara-type=\"harmony\" href=\"https://v.daum.net/v/20201020095027764\">\n",
      "                                        '러시아 미녀' 라자레바, 차원이 다른 대박 외인..한국 왜 왔니\n",
      "                                    </a>, <a class=\"link_txt\" data-tiara-custom=\"contentUniqueKey=hamny-20201020094728603\" data-tiara-id=\"20201020094728603\" data-tiara-layer=\"RIGHT popular_news sports_list\" data-tiara-ordnum=\"12\" data-tiara-type=\"harmony\" href=\"https://v.daum.net/v/20201020094728603\">\n",
      "                                        수술 앞둔 정호영 \"다음 시즌 건강하게\"..한송이 \"얼른 돌아와\"\n",
      "                                    </a>, <a class=\"link_txt\" data-tiara-custom=\"contentUniqueKey=hamny-20201020104417779\" data-tiara-id=\"20201020104417779\" data-tiara-layer=\"RIGHT popular_news sports_list\" data-tiara-ordnum=\"13\" data-tiara-type=\"harmony\" href=\"https://v.daum.net/v/20201020104417779\">\n",
      "                                        '재계약 추진 중' 손흥민, 주급 보다 더 중요한게 있다\n",
      "                                    </a>, <a class=\"link_txt\" data-tiara-custom=\"contentUniqueKey=hamny-20201020062329744\" data-tiara-id=\"20201020062329744\" data-tiara-layer=\"RIGHT popular_news sports_list\" data-tiara-ordnum=\"14\" data-tiara-type=\"harmony\" href=\"https://v.daum.net/v/20201020062329744\">\n",
      "                                        손흥민 \"비니시우스와 친해지려 노력 중..너무 웃긴 친구\"\n",
      "                                    </a>, <a class=\"link_txt\" data-tiara-custom=\"contentUniqueKey=hamny-20201019190008334\" data-tiara-id=\"20201019190008334\" data-tiara-layer=\"RIGHT popular_news sports_list\" data-tiara-ordnum=\"15\" data-tiara-type=\"harmony\" href=\"https://v.daum.net/v/20201019190008334\">\n",
      "                                        아구에로, 女심판 '터치' 사후 징계 피할 듯..前 PL 심판, \"당사자 대처 좋았어\"\n",
      "                                    </a>, <a class=\"link_txt\" data-tiara-custom=\"contentUniqueKey=hamny-20201020085613179\" data-tiara-id=\"20201020085613179\" data-tiara-layer=\"RIGHT popular_news sports_list\" data-tiara-ordnum=\"16\" data-tiara-type=\"harmony\" href=\"https://v.daum.net/v/20201020085613179\">\n",
      "                                        BBC 이주의 팀, '1골 1도움' 손흥민 없다..케인+맨유 3명\n",
      "                                    </a>, <a class=\"link_txt\" data-tiara-custom=\"contentUniqueKey=hamny-20201020080658029\" data-tiara-id=\"20201020080658029\" data-tiara-layer=\"RIGHT popular_news sports_list\" data-tiara-ordnum=\"17\" data-tiara-type=\"harmony\" href=\"https://v.daum.net/v/20201020080658029\">\n",
      "                                        EPL, 코로나19 7차 진단 검사서 8명 확진\n",
      "                                    </a>, <a class=\"link_txt\" data-tiara-custom=\"contentUniqueKey=hamny-20201020082033300\" data-tiara-id=\"20201020082033300\" data-tiara-layer=\"RIGHT popular_news sports_list\" data-tiara-ordnum=\"18\" data-tiara-type=\"harmony\" href=\"https://v.daum.net/v/20201020082033300\">\n",
      "                                        \"먼시가 '최지만+디아즈' 보다 약간 우세..다저스 우승\" MLB.com\n",
      "                                    </a>, <a class=\"link_txt\" data-tiara-custom=\"contentUniqueKey=hamny-20201020063151822\" data-tiara-id=\"20201020063151822\" data-tiara-layer=\"RIGHT popular_news sports_list\" data-tiara-ordnum=\"19\" data-tiara-type=\"harmony\" href=\"https://v.daum.net/v/20201020063151822\">\n",
      "                                        일본여자프로골프 우승 신지애, 세계 랭킹 30위로 8계단 상승\n",
      "                                    </a>, <a class=\"link_txt\" data-tiara-custom=\"contentUniqueKey=hamny-20201019170053525\" data-tiara-id=\"20201019170053525\" data-tiara-layer=\"RIGHT popular_news sports_list\" data-tiara-ordnum=\"20\" data-tiara-type=\"harmony\" href=\"https://v.daum.net/v/20201019170053525\">\n",
      "                                        \"손흥민은 왜 은퇴 전까지 결혼하지 않을까?\" 英언론 관심 집중\n",
      "                                    </a>, <a class=\"link_txt\" data-tiara-custom=\"contentUniqueKey=hamny-20201020035325363\" data-tiara-id=\"20201020035325363\" data-tiara-layer=\"RIGHT popular_news sports_list\" data-tiara-ordnum=\"21\" data-tiara-type=\"harmony\" href=\"https://v.daum.net/v/20201020035325363\">\n",
      "                                        \"공수 탁월 최지만, 다저스의 WS 최대 경계 인물\" 美매체\n",
      "                                    </a>, <a class=\"link_txt\" data-tiara-custom=\"contentUniqueKey=hamny-20201020065513991\" data-tiara-id=\"20201020065513991\" data-tiara-layer=\"RIGHT popular_news sports_list\" data-tiara-ordnum=\"22\" data-tiara-type=\"harmony\" href=\"https://v.daum.net/v/20201020065513991\">\n",
      "                                         LA 다저스는 왜 '다저스'라는 별명을 갖게 됐을까\n",
      "                                    </a>, <a class=\"link_txt\" data-tiara-custom=\"contentUniqueKey=hamny-20201020061056626\" data-tiara-id=\"20201020061056626\" data-tiara-layer=\"RIGHT popular_news sports_list\" data-tiara-ordnum=\"23\" data-tiara-type=\"harmony\" href=\"https://v.daum.net/v/20201020061056626\">\n",
      "                                        \"매일 보고 이야기하고 너무 신나\" 손흥민, 베일에 대한 기대감\n",
      "                                    </a>, <a class=\"link_txt\" data-tiara-custom=\"contentUniqueKey=hamny-20201020102005473\" data-tiara-id=\"20201020102005473\" data-tiara-layer=\"RIGHT popular_news sports_list\" data-tiara-ordnum=\"24\" data-tiara-type=\"harmony\" href=\"https://v.daum.net/v/20201020102005473\">\n",
      "                                        마르셀루 부진에..레알, 한 시즌 만에 레길론 복귀 추진\n",
      "                                    </a>, <a class=\"link_txt\" data-tiara-custom=\"contentUniqueKey=hamny-20201020111114348\" data-tiara-id=\"20201020111114348\" data-tiara-layer=\"RIGHT popular_news sports_list\" data-tiara-ordnum=\"25\" data-tiara-type=\"harmony\" href=\"https://v.daum.net/v/20201020111114348\">\n",
      "                                        \"돈이 얼마인데..\" 1할 타자, 6점대 ERA 써야 하는 현실\n",
      "                                    </a>, <a class=\"link_txt\" data-tiara-custom=\"contentUniqueKey=hamny-20201020110206746\" data-tiara-id=\"20201020110206746\" data-tiara-layer=\"RIGHT popular_news sports_list\" data-tiara-ordnum=\"26\" data-tiara-type=\"harmony\" href=\"https://v.daum.net/v/20201020110206746\">\n",
      "                                        英 언론 극찬, \"슈퍼 공격수 손흥민-케인, 英 축구 가장 핫한 공격 듀오\"\n",
      "                                    </a>, <a class=\"link_txt\" data-tiara-custom=\"contentUniqueKey=hamny-20201020060341512\" data-tiara-id=\"20201020060341512\" data-tiara-layer=\"RIGHT popular_news sports_list\" data-tiara-ordnum=\"27\" data-tiara-type=\"harmony\" href=\"https://v.daum.net/v/20201020060341512\">\n",
      "                                        '신입생'도 챙기는 '인싸' 손흥민, \"판타스틱한 선수들..적응하도록 돕겠다\"\n",
      "                                    </a>, <a class=\"link_txt\" data-tiara-custom=\"contentUniqueKey=hamny-20201020070610194\" data-tiara-id=\"20201020070610194\" data-tiara-layer=\"RIGHT popular_news sports_list\" data-tiara-ordnum=\"28\" data-tiara-type=\"harmony\" href=\"https://v.daum.net/v/20201020070610194\">\n",
      "                                        로스앤젤스와 탬파베이 시가 WS 우승에 촉각을 세우는 이유는\n",
      "                                    </a>, <a class=\"link_txt\" data-tiara-custom=\"contentUniqueKey=hamny-20201020003201280\" data-tiara-id=\"20201020003201280\" data-tiara-layer=\"RIGHT popular_news sports_list\" data-tiara-ordnum=\"29\" data-tiara-type=\"harmony\" href=\"https://v.daum.net/v/20201020003201280\">\n",
      "                                        '1조 5000억원' 리버풀, 전 세계 가장 비싼 축구팀..토트넘 10위\n",
      "                                    </a>, <a class=\"link_txt\" data-tiara-custom=\"contentUniqueKey=hamny-20201020081830271\" data-tiara-id=\"20201020081830271\" data-tiara-layer=\"RIGHT popular_news sports_list\" data-tiara-ordnum=\"30\" data-tiara-type=\"harmony\" href=\"https://v.daum.net/v/20201020081830271\">\n",
      "                                        쿠만이 기억하는 판 다이크, \"게으르고 오만한 선수였다\"\n",
      "                                    </a>, <a class=\"link_txt\" href=\"http://pubg.daum.net?utm_source=daumgame&amp;utm_medium=display&amp;utm_campaign=201905-15_pubg_regular_playtime_3&amp;utm_content=it_news\">최후의 1인을 가린다!<br/>카카오 배틀그라운드</a>, <a class=\"link_txt\" href=\"https://pathofexile.game.daum.net?utm_source=daumgame&amp;utm_medium=display&amp;utm_campaign=201906-08_poe_open&amp;utm_content=it_news\">대체불가 핵앤슬래시! <br/> 패스 오브 엑자일</a>, <a class=\"link_txt #direct_newshome\" data-tiara-layer=\"direct_newshome\" href=\"/\">뉴스홈</a>, <a class=\"link_txt #direct_society\" data-tiara-layer=\"direct_society\" href=\"/society\" style=\"display: none;\">사회</a>, <a class=\"link_txt #direct_politics\" data-tiara-layer=\"direct_politics\" href=\"/politics\" style=\"display: none;\">정치</a>, <a class=\"link_txt #direct_economic\" data-tiara-layer=\"direct_economic\" href=\"/economic\" style=\"display: none;\">경제</a>, <a class=\"link_txt #direct_foreign\" data-tiara-layer=\"direct_foreign\" href=\"/foreign\" style=\"display: none;\">국제</a>, <a class=\"link_txt #direct_culture\" data-tiara-layer=\"direct_culture\" href=\"/culture\" style=\"display: none;\">문화</a>, <a class=\"link_txt #direct_digital\" data-tiara-layer=\"direct_digital\" href=\"/digital\" style=\"display: none;\">IT</a>, <a class=\"link_txt #direct_photo\" data-tiara-layer=\"direct_photo\" href=\"/photo\" style=\"display: none;\">포토</a>, <a class=\"link_txt #direct_tv\" data-tiara-layer=\"direct_tv\" href=\"/tv\" style=\"display: none;\">TV</a>, <a class=\"link_txt #direct_media\" data-tiara-layer=\"direct_media\" href=\"/cp\">언론사별 뉴스</a>, <a class=\"link_txt #direct_history\" data-tiara-layer=\"direct_history\" href=\"/newsbox\">배열이력</a>, <a class=\"link_txt #direct_all\" data-tiara-layer=\"direct_all\" href=\"/breakingnews\">전체뉴스</a>, <a class=\"link_txt #direct_rank\" data-tiara-layer=\"direct_rank\" href=\"/ranking/popular\" style=\"display: none;\">랭킹</a>, <a class=\"link_txt #direct_series\" data-tiara-layer=\"direct_series\" href=\"/series\" style=\"display: none;\">연재</a>, <a class=\"link_txt #direct_1boon\" data-tiara-layer=\"direct_1boon\" href=\"/1boon\" style=\"display: none;\">1boon</a>]\n",
      "中게임 판치는데..5년 간 '판호' 고작 33건 발급\n",
      "\n",
      "\t                            5년 간 '판호' 고작 33건 발급..2017년 이후 '0'\n",
      "\t\t\t\t\t\t\t\n"
     ]
    }
   ],
   "source": [
    "import requests\n",
    "from bs4 import BeautifulSoup\n",
    "\n",
    "res = requests.get('http://media.daum.net/digital/')\n",
    "soup = BeautifulSoup(res.content, 'html.parser')\n",
    "link_title = soup.find_all('a','link_txt')\n",
    "\n",
    "for num in range(len(link_title)):\n",
    "    print(link_title[num].get_text().strip())\n",
    "\n",
    "print(link_title)\n",
    "print(link_title[0].get_text())\n",
    "print(link_title[1].get_text())"
   ]
  },
  {
   "cell_type": "markdown",
   "metadata": {},
   "source": [
    "# CSS Selector를 사용한 크롤링"
   ]
  },
  {
   "cell_type": "code",
   "execution_count": 12,
   "metadata": {},
   "outputs": [],
   "source": [
    "import requests\n",
    "from bs4 import BeautifulSoup\n",
    "\n",
    "res = requests.get('http://v.media.daum.net/v/20170615203441266')\n",
    "soup = BeautifulSoup(res.content, 'html.parser')"
   ]
  },
  {
   "cell_type": "code",
   "execution_count": 13,
   "metadata": {},
   "outputs": [
    {
     "name": "stdout",
     "output_type": "stream",
     "text": [
      "<title>잔금대출에도 DTI 규제 적용 검토</title>\n",
      "잔금대출에도 DTI 규제 적용 검토\n"
     ]
    }
   ],
   "source": [
    "soup.find('title')\n",
    "\n",
    "title = soup.select('title')[0]\n",
    "print(title)\n",
    "print(title.get_text())"
   ]
  },
  {
   "cell_type": "code",
   "execution_count": 14,
   "metadata": {},
   "outputs": [
    {
     "name": "stdout",
     "output_type": "stream",
     "text": [
      "잔금대출에도 DTI 규제 적용 검토\n"
     ]
    }
   ],
   "source": [
    "title = soup.select('html head title')[0]\n",
    "print (title.get_text())"
   ]
  },
  {
   "cell_type": "code",
   "execution_count": 15,
   "metadata": {},
   "outputs": [
    {
     "name": "stdout",
     "output_type": "stream",
     "text": [
      "잔금대출에도 DTI 규제 적용 검토\n"
     ]
    }
   ],
   "source": [
    "title = soup.select('html title')[0]\n",
    "print (title.get_text())"
   ]
  },
  {
   "cell_type": "code",
   "execution_count": 18,
   "metadata": {},
   "outputs": [
    {
     "name": "stdout",
     "output_type": "stream",
     "text": [
      "잔금대출에도 DTI 규제 적용 검토\n"
     ]
    }
   ],
   "source": [
    "title = soup.select('head > title')[0]\n",
    "print(title.get_text())"
   ]
  },
  {
   "cell_type": "code",
   "execution_count": 19,
   "metadata": {},
   "outputs": [
    {
     "name": "stdout",
     "output_type": "stream",
     "text": [
      "잔금대출에도 DTI 규제 적용 검토\n"
     ]
    }
   ],
   "source": [
    "title = soup.select('html > head > title')[0]\n",
    "print(title.get_text())"
   ]
  },
  {
   "cell_type": "code",
   "execution_count": 21,
   "metadata": {},
   "outputs": [
    {
     "name": "stdout",
     "output_type": "stream",
     "text": [
      "<class 'bs4.element.Tag'> 3\n",
      "내주 부동산 종합대책 발표\n",
      "집값 상승 노린 투기 분양 차단\n",
      "LTVㆍDTI 규제 다시 강화할 듯\n",
      "저소득 실수요자 피해 우려도\n",
      "\n",
      "금융당국이 급증하는 가계부채 증가세를 막기 위해 아파트 잔금대출에도 소득을 따져 대출한도를 정하는 총부채상환비율(DTI)을 적용하는 방안을 유력하게 검토하고 있다. 지금은 집값을 기준으로 대출한도를 매기는 주택담보인정비율(LTV) 규제만 적용돼 소득이 없어도 집값의 70%를 빌려 잔금을 치르는 게 가능하다. 앞으로 잔금대출에 DTI가 적용되면 소득 없는 사람이 입주 뒤 집값 상승을 노리고 분양시장에 뛰어드는 게 사실상 불가능해진다. \n",
      "금융당국 고위관계자는 15일 “잔금대출에도 DTI를 적용하는 방안을 검토 중”이라며 “다만 아직 최종 결론이 난 건 아니다”고 말했다. 정부는 내주 이 같은 내용을 포함한 부동산 종합 대책을 발표할 예정이다. \n",
      "정부가 잔금대출 DTI 적용 카드를 꺼내는 건, 집단대출을 잡지 않고선 과열된 주택시장을 진정시키기 어렵다는 판단에서다. 실제 정부는 지난해 잔금대출도 대출 초기부터 원리금을 함께 갚도록 하는 여신심사 가이드라인을 도입했지만 이렇다 할 효과를 거두지 못했다. 오히려 정부 대책에도 불구, 집단대출 증가액은 매달 늘어나는 추세인데 지난달엔 2조원으로 올 들어 최고치를 기록했다. \n",
      "아파트 분양 집단대출은 중도금과 잔금대출로 구분된다. 계약금 10%를 내면 입주 전까지 집값의 60%를 중도금 대출로 받을 수 있다. 중도금 대출은 건설사 보증으로 이뤄져 소득심사를 안 거친다. 잔금대출은 건설사가 아닌 집을 담보로 이뤄지는 대출이다. LTV 규제만 적용돼 소득이 없어도 집값의 70%까지 대출이 가능하다. 때문에 지금은 잔금대출로 집값의 70%를 대출받아 기존 중도금 대출을 갚고 나머지 20%만 본인 돈으로 충당하면 집을 살 수 있다.\n",
      "앞으로 잔금대출에 DTI가 적용되면 소득이 없는 사람은 집값의 70% 대출 받는 게 어려워진다. 입주 뒤 집값 상승을 노리는 투기수요를 확실히 걸러낼 초강력 대책이 될 수 있다. 하지만 부작용도 우려된다. 소득이 낮은 사회초년생 등은 청약통장을 갖고도 분양시장에 진입하는 게 어려워지기 때문이다. \n",
      "이에 따라 잔금대출에 DTI를 적용하는 것 역시 지역 등에 따라 선별적으로 이뤄질 가능성이 높다. 현재 당국은 신규 분양 물량부터 규제를 적용할지 아니면 기존 분양 물량까지 규제 범위를 확대할지를 놓고 시뮬레이션을 하고 있다. \n",
      "아울러 당국은 지난 2년간 완화됐던 LTV와 DTI를 다시 강화할 것으로 보인다. 현재 LTV(은행 기준)는 기존 50~60%에서 70%, DTI는 50~60%에서 60%로 완화돼 있는 상태다. 당국은 일괄적인 조이기보다 지역ㆍ집값 수준별로 기준을 다르게 적용하는 방식을 모색할 것으로 보인다.\n",
      "김동욱 기자 kdw1280@hankookilbo.com\n"
     ]
    }
   ],
   "source": [
    "body = soup.select('.article_view')[0]\n",
    "print (type(body), len(body))\n",
    "for p in body.find_all('p'):\n",
    "    print (p.get_text())"
   ]
  },
  {
   "cell_type": "code",
   "execution_count": 22,
   "metadata": {},
   "outputs": [
    {
     "name": "stdout",
     "output_type": "stream",
     "text": [
      "<class 'bs4.element.Tag'> 3\n",
      "내주 부동산 종합대책 발표\n",
      "집값 상승 노린 투기 분양 차단\n",
      "LTVㆍDTI 규제 다시 강화할 듯\n",
      "저소득 실수요자 피해 우려도\n",
      "\n",
      "금융당국이 급증하는 가계부채 증가세를 막기 위해 아파트 잔금대출에도 소득을 따져 대출한도를 정하는 총부채상환비율(DTI)을 적용하는 방안을 유력하게 검토하고 있다. 지금은 집값을 기준으로 대출한도를 매기는 주택담보인정비율(LTV) 규제만 적용돼 소득이 없어도 집값의 70%를 빌려 잔금을 치르는 게 가능하다. 앞으로 잔금대출에 DTI가 적용되면 소득 없는 사람이 입주 뒤 집값 상승을 노리고 분양시장에 뛰어드는 게 사실상 불가능해진다. \n",
      "금융당국 고위관계자는 15일 “잔금대출에도 DTI를 적용하는 방안을 검토 중”이라며 “다만 아직 최종 결론이 난 건 아니다”고 말했다. 정부는 내주 이 같은 내용을 포함한 부동산 종합 대책을 발표할 예정이다. \n",
      "정부가 잔금대출 DTI 적용 카드를 꺼내는 건, 집단대출을 잡지 않고선 과열된 주택시장을 진정시키기 어렵다는 판단에서다. 실제 정부는 지난해 잔금대출도 대출 초기부터 원리금을 함께 갚도록 하는 여신심사 가이드라인을 도입했지만 이렇다 할 효과를 거두지 못했다. 오히려 정부 대책에도 불구, 집단대출 증가액은 매달 늘어나는 추세인데 지난달엔 2조원으로 올 들어 최고치를 기록했다. \n",
      "아파트 분양 집단대출은 중도금과 잔금대출로 구분된다. 계약금 10%를 내면 입주 전까지 집값의 60%를 중도금 대출로 받을 수 있다. 중도금 대출은 건설사 보증으로 이뤄져 소득심사를 안 거친다. 잔금대출은 건설사가 아닌 집을 담보로 이뤄지는 대출이다. LTV 규제만 적용돼 소득이 없어도 집값의 70%까지 대출이 가능하다. 때문에 지금은 잔금대출로 집값의 70%를 대출받아 기존 중도금 대출을 갚고 나머지 20%만 본인 돈으로 충당하면 집을 살 수 있다.\n",
      "앞으로 잔금대출에 DTI가 적용되면 소득이 없는 사람은 집값의 70% 대출 받는 게 어려워진다. 입주 뒤 집값 상승을 노리는 투기수요를 확실히 걸러낼 초강력 대책이 될 수 있다. 하지만 부작용도 우려된다. 소득이 낮은 사회초년생 등은 청약통장을 갖고도 분양시장에 진입하는 게 어려워지기 때문이다. \n",
      "이에 따라 잔금대출에 DTI를 적용하는 것 역시 지역 등에 따라 선별적으로 이뤄질 가능성이 높다. 현재 당국은 신규 분양 물량부터 규제를 적용할지 아니면 기존 분양 물량까지 규제 범위를 확대할지를 놓고 시뮬레이션을 하고 있다. \n",
      "아울러 당국은 지난 2년간 완화됐던 LTV와 DTI를 다시 강화할 것으로 보인다. 현재 LTV(은행 기준)는 기존 50~60%에서 70%, DTI는 50~60%에서 60%로 완화돼 있는 상태다. 당국은 일괄적인 조이기보다 지역ㆍ집값 수준별로 기준을 다르게 적용하는 방식을 모색할 것으로 보인다.\n",
      "김동욱 기자 kdw1280@hankookilbo.com\n"
     ]
    }
   ],
   "source": [
    "# div태그 중 class가 article_view인 태그 탐색\n",
    "body = soup.select('div.article_view')[0]\n",
    "print (type(body), len(body))\n",
    "for p in body.find_all('p'):\n",
    "    print (p.get_text())"
   ]
  },
  {
   "cell_type": "code",
   "execution_count": 23,
   "metadata": {},
   "outputs": [
    {
     "name": "stdout",
     "output_type": "stream",
     "text": [
      "[<div class=\"article_view\" data-translation-body=\"true\" id=\"harmonyContainer\">\n",
      "<section dmcf-sid=\"ndxAvoEFLc\">\n",
      "<p dmcf-pid=\"nzrJ5KB3Cc\" dmcf-ptype=\"general\">내주 부동산 종합대책 발표</p>\n",
      "<p dmcf-pid=\"ncFbmYUgSc\" dmcf-ptype=\"general\">집값 상승 노린 투기 분양 차단</p>\n",
      "<p dmcf-pid=\"naDeB8j0HH\" dmcf-ptype=\"general\">LTVㆍDTI 규제 다시 강화할 듯</p>\n",
      "<p dmcf-pid=\"ngfl6lJwwk\" dmcf-ptype=\"general\">저소득 실수요자 피해 우려도</p>\n",
      "<figure class=\"figure_frm origin_fig\" dmcf-pid=\"nYQ8LWIMpD\" dmcf-ptype=\"figure\">\n",
      "<p class=\"link_figure\"><img class=\"thumb_g_article\" data-org-src=\"http://t1.daumcdn.net/news/201706/15/hankooki/20170615044256378kzbd.jpg\" data-org-width=\"330\" dmcf-mid=\"nkjJSoPdyb\" dmcf-mtype=\"image\" height=\"auto\" src=\"https://img3.daumcdn.net/thumb/R658x0.q70/?fname=http://t1.daumcdn.net/news/201706/15/hankooki/20170615044256378kzbd.jpg\" width=\"658\"/></p>\n",
      "</figure>\n",
      "<p dmcf-pid=\"n8guDAko3Z\" dmcf-ptype=\"general\">금융당국이 급증하는 가계부채 증가세를 막기 위해 아파트 잔금대출에도 소득을 따져 대출한도를 정하는 총부채상환비율(DTI)을 적용하는 방안을 유력하게 검토하고 있다. 지금은 집값을 기준으로 대출한도를 매기는 주택담보인정비율(LTV) 규제만 적용돼 소득이 없어도 집값의 70%를 빌려 잔금을 치르는 게 가능하다. 앞으로 잔금대출에 DTI가 적용되면 소득 없는 사람이 입주 뒤 집값 상승을 노리고 분양시장에 뛰어드는 게 사실상 불가능해진다. </p>\n",
      "<p dmcf-pid=\"nYPaCCRO1q\" dmcf-ptype=\"general\">금융당국 고위관계자는 15일 “잔금대출에도 DTI를 적용하는 방안을 검토 중”이라며 “다만 아직 최종 결론이 난 건 아니다”고 말했다. 정부는 내주 이 같은 내용을 포함한 부동산 종합 대책을 발표할 예정이다. </p>\n",
      "<p dmcf-pid=\"naZLBbSgoZ\" dmcf-ptype=\"general\">정부가 잔금대출 DTI 적용 카드를 꺼내는 건, 집단대출을 잡지 않고선 과열된 주택시장을 진정시키기 어렵다는 판단에서다. 실제 정부는 지난해 잔금대출도 대출 초기부터 원리금을 함께 갚도록 하는 여신심사 가이드라인을 도입했지만 이렇다 할 효과를 거두지 못했다. 오히려 정부 대책에도 불구, 집단대출 증가액은 매달 늘어나는 추세인데 지난달엔 2조원으로 올 들어 최고치를 기록했다. </p>\n",
      "<p dmcf-pid=\"nhAfneUtnA\" dmcf-ptype=\"general\">아파트 분양 집단대출은 중도금과 잔금대출로 구분된다. 계약금 10%를 내면 입주 전까지 집값의 60%를 중도금 대출로 받을 수 있다. 중도금 대출은 건설사 보증으로 이뤄져 소득심사를 안 거친다. 잔금대출은 건설사가 아닌 집을 담보로 이뤄지는 대출이다. LTV 규제만 적용돼 소득이 없어도 집값의 70%까지 대출이 가능하다. 때문에 지금은 잔금대출로 집값의 70%를 대출받아 기존 중도금 대출을 갚고 나머지 20%만 본인 돈으로 충당하면 집을 살 수 있다.</p>\n",
      "<p dmcf-pid=\"nCcfu6DK1b\" dmcf-ptype=\"general\">앞으로 잔금대출에 DTI가 적용되면 소득이 없는 사람은 집값의 70% 대출 받는 게 어려워진다. 입주 뒤 집값 상승을 노리는 투기수요를 확실히 걸러낼 초강력 대책이 될 수 있다. 하지만 부작용도 우려된다. 소득이 낮은 사회초년생 등은 청약통장을 갖고도 분양시장에 진입하는 게 어려워지기 때문이다. </p>\n",
      "<p dmcf-pid=\"nzh7QZekII\" dmcf-ptype=\"general\">이에 따라 잔금대출에 DTI를 적용하는 것 역시 지역 등에 따라 선별적으로 이뤄질 가능성이 높다. 현재 당국은 신규 분양 물량부터 규제를 적용할지 아니면 기존 분양 물량까지 규제 범위를 확대할지를 놓고 시뮬레이션을 하고 있다. </p>\n",
      "<p dmcf-pid=\"nihh22vlmu\" dmcf-ptype=\"general\">아울러 당국은 지난 2년간 완화됐던 LTV와 DTI를 다시 강화할 것으로 보인다. 현재 LTV(은행 기준)는 기존 50~60%에서 70%, DTI는 50~60%에서 60%로 완화돼 있는 상태다. 당국은 일괄적인 조이기보다 지역ㆍ집값 수준별로 기준을 다르게 적용하는 방식을 모색할 것으로 보인다.</p>\n",
      "<p dmcf-pid=\"naJ5HNfuMQ\" dmcf-ptype=\"general\">김동욱 기자 kdw1280@hankookilbo.com</p>\n",
      "</section>\n",
      "</div>]\n"
     ]
    }
   ],
   "source": [
    "# div 태그 중 id가 harmonyContainer인 태그 탐색\n",
    "container = soup.select('#harmonyContainer')\n",
    "print (container)"
   ]
  },
  {
   "cell_type": "code",
   "execution_count": 24,
   "metadata": {},
   "outputs": [
    {
     "name": "stdout",
     "output_type": "stream",
     "text": [
      "\n",
      "\n",
      "내주 부동산 종합대책 발표\n",
      "집값 상승 노린 투기 분양 차단\n",
      "LTVㆍDTI 규제 다시 강화할 듯\n",
      "저소득 실수요자 피해 우려도\n",
      "\n",
      "\n",
      "\n",
      "금융당국이 급증하는 가계부채 증가세를 막기 위해 아파트 잔금대출에도 소득을 따져 대출한도를 정하는 총부채상환비율(DTI)을 적용하는 방안을 유력하게 검토하고 있다. 지금은 집값을 기준으로 대출한도를 매기는 주택담보인정비율(LTV) 규제만 적용돼 소득이 없어도 집값의 70%를 빌려 잔금을 치르는 게 가능하다. 앞으로 잔금대출에 DTI가 적용되면 소득 없는 사람이 입주 뒤 집값 상승을 노리고 분양시장에 뛰어드는 게 사실상 불가능해진다. \n",
      "금융당국 고위관계자는 15일 “잔금대출에도 DTI를 적용하는 방안을 검토 중”이라며 “다만 아직 최종 결론이 난 건 아니다”고 말했다. 정부는 내주 이 같은 내용을 포함한 부동산 종합 대책을 발표할 예정이다. \n",
      "정부가 잔금대출 DTI 적용 카드를 꺼내는 건, 집단대출을 잡지 않고선 과열된 주택시장을 진정시키기 어렵다는 판단에서다. 실제 정부는 지난해 잔금대출도 대출 초기부터 원리금을 함께 갚도록 하는 여신심사 가이드라인을 도입했지만 이렇다 할 효과를 거두지 못했다. 오히려 정부 대책에도 불구, 집단대출 증가액은 매달 늘어나는 추세인데 지난달엔 2조원으로 올 들어 최고치를 기록했다. \n",
      "아파트 분양 집단대출은 중도금과 잔금대출로 구분된다. 계약금 10%를 내면 입주 전까지 집값의 60%를 중도금 대출로 받을 수 있다. 중도금 대출은 건설사 보증으로 이뤄져 소득심사를 안 거친다. 잔금대출은 건설사가 아닌 집을 담보로 이뤄지는 대출이다. LTV 규제만 적용돼 소득이 없어도 집값의 70%까지 대출이 가능하다. 때문에 지금은 잔금대출로 집값의 70%를 대출받아 기존 중도금 대출을 갚고 나머지 20%만 본인 돈으로 충당하면 집을 살 수 있다.\n",
      "앞으로 잔금대출에 DTI가 적용되면 소득이 없는 사람은 집값의 70% 대출 받는 게 어려워진다. 입주 뒤 집값 상승을 노리는 투기수요를 확실히 걸러낼 초강력 대책이 될 수 있다. 하지만 부작용도 우려된다. 소득이 낮은 사회초년생 등은 청약통장을 갖고도 분양시장에 진입하는 게 어려워지기 때문이다. \n",
      "이에 따라 잔금대출에 DTI를 적용하는 것 역시 지역 등에 따라 선별적으로 이뤄질 가능성이 높다. 현재 당국은 신규 분양 물량부터 규제를 적용할지 아니면 기존 분양 물량까지 규제 범위를 확대할지를 놓고 시뮬레이션을 하고 있다. \n",
      "아울러 당국은 지난 2년간 완화됐던 LTV와 DTI를 다시 강화할 것으로 보인다. 현재 LTV(은행 기준)는 기존 50~60%에서 70%, DTI는 50~60%에서 60%로 완화돼 있는 상태다. 당국은 일괄적인 조이기보다 지역ㆍ집값 수준별로 기준을 다르게 적용하는 방식을 모색할 것으로 보인다.\n",
      "김동욱 기자 kdw1280@hankookilbo.com\n",
      "\n",
      "\n"
     ]
    }
   ],
   "source": [
    "# div태그 중 id가 mArticle 인 태그의 하위 태그 중 아이디가 article_title인 태그\n",
    "title = soup.select('div#mArticle  div#harmonyContainer')[0]\n",
    "print (title.get_text())"
   ]
  },
  {
   "cell_type": "code",
   "execution_count": 25,
   "metadata": {},
   "outputs": [],
   "source": [
    "import re\n",
    "import requests\n",
    "from bs4 import BeautifulSoup\n",
    "\n",
    "res = requests.get('http://land.naver.com/article/divisionInfo.nhn?rletTypeCd=A01&tradeTypeCd=A1&hscpTypeCd=A01%3AA03%3AA04&cortarNo=1168000000&articleOrderCode=&cpId=&minPrc=&maxPrc=&minWrrnt=&maxWrrnt=&minLease=&maxLease=&minSpc=&maxSpc=&subDist=&mviDate=&hsehCnt=&rltrId=&mnex=&siteOrderCode=&cmplYn=')\n",
    "\n",
    "soup = BeautifulSoup(res.content, 'html.parser')\n",
    "\n",
    "# a 태그이면서 href 속성 값이 특정한 값을 갖는 경우 탐색\n",
    "link_title = soup.select(\"#depth4Tab0Content > div > table > tbody > tr > td.align_l.name > div > a.sale_title\")\n",
    "link_price = soup.select(\"#depth4Tab0Content > div > table > tbody > tr > td.num.align_r > div > strong\")\n",
    "\n",
    "for num in range(len(link_price)):\n",
    "    print(link_title[num].get_text(), link_price[num].get_text())"
   ]
  },
  {
   "cell_type": "code",
   "execution_count": null,
   "metadata": {},
   "outputs": [],
   "source": []
  }
 ],
 "metadata": {
  "kernelspec": {
   "display_name": "Python 3",
   "language": "python",
   "name": "python3"
  },
  "language_info": {
   "codemirror_mode": {
    "name": "ipython",
    "version": 3
   },
   "file_extension": ".py",
   "mimetype": "text/x-python",
   "name": "python",
   "nbconvert_exporter": "python",
   "pygments_lexer": "ipython3",
   "version": "3.8.9"
  }
 },
 "nbformat": 4,
 "nbformat_minor": 4
}
