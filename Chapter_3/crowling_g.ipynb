{
 "cells": [
  {
   "cell_type": "code",
   "execution_count": 202,
   "id": "40cdaa2c",
   "metadata": {},
   "outputs": [],
   "source": [
    "import requests\n",
    "from bs4 import BeautifulSoup\n",
    "\n",
    "b_list = []\n",
    "b_brand = [] \n",
    "b_pay = []\n",
    "\n",
    "res = requests.get('http://corners.gmarket.co.kr/SmileDelivery/Best')\n",
    "soup = BeautifulSoup(res.content,'html.parser')\n",
    "bestlist_name = soup.select('#container span.item_name')\n",
    "bestlist_brand = soup.select('#container span.item_brand')\n",
    "bestlist_price = soup.select('#container span.item_price')\n",
    "\n",
    "for index, item in enumerate(bestlist_name):\n",
    "    b_list.append(item.text)\n",
    "for index, item in enumerate(bestlist_brand):\n",
    "    b_brand.append(item.text) \n",
    "for index, item in enumerate(bestlist_price):\n",
    "    b_pay.append(item.text)"
   ]
  },
  {
   "cell_type": "code",
   "execution_count": 207,
   "id": "4cfaa764",
   "metadata": {},
   "outputs": [
    {
     "name": "stdout",
     "output_type": "stream",
     "text": [
      "1 오뚜기밥 오뚜기밥  맛있는 오뚜기밥 210g x 24개입(1박스)21,800원\n",
      "2 모나리자 모나리자  미용티슈 (250매3입)X4개 화장지 휴지17,900원\n",
      "3 테크액체세제 테크액체세제  테크 파워 액체세제(겸용) 대용량 8L10,900원\n",
      "4 동원참치 동원참치  라이트 스탠다드 참치 100g 15캔 원터치19,900원\n",
      "5 크리넥스 크리넥스  안심 키친타올 120매 4롤 4팩/휴지13,900원\n",
      "6 고려은단 고려은단  고려은단 비타민C 1000 600정(20개월분)39,900원\n",
      "7 피죤 피죤  고농축 섬유유연제 시그니처1700ML3개미스틱레인 +사은13,900원\n",
      "8 아워홈 아워홈  지리산수 핑크 500ml 40병 /생수전문배송7,920원\n",
      "9 진라면 진라면  진라면 매운맛 40봉19,800원\n",
      "10 제주삼다수 제주삼다수  제주삼다수 2L 12병 /생수전문배송11,980원\n",
      "11 모나리자 모나리자  보타닉 블라썸 (27m30롤)X3개 화장지 휴지27,900원\n",
      "12 파스퇴르 파스퇴르  파스퇴르 무항생제 바른목장우유 190mL 36입27,900원\n",
      "13 스마트에코 스마트에코  비바체 100매 캡형 물티슈 12팩 스마일배송/무료배송10,900원\n",
      "14 백산수 백산수  백산수 2L 12병 /생수전문배송9,900원\n",
      "15 나무야나무야 나무야나무야  나무야 도톰한 3겹데코 30m 30롤 3팩/화장지/휴지35,700원\n",
      "16 Aura Aura  아우라 초고농축 섬유유연제 윌유 5.5L +1L증정16,900원\n",
      "17 순수식품 순수식품  rTG 알티지 오메가3 비타민D 6개월분(180캡슐) 3박스29,800원\n",
      "18 베비언스 베비언스  베비언스 킨더밀쉬 1단계 200ml 24입20,900원\n",
      "19 아워홈 아워홈  지리산수 핑크 500ml 20병 /생수전문배송3,960원\n",
      "20 페브리즈 페브리즈  페브리즈 항균플러스 깨끗한향 370ml 4개 +사은품19,430원\n",
      "21 다우니 다우니  다우니 프리미엄 액체형 세탁세제 실내건조 2.8L 2개26,320원\n",
      "22 락토핏 락토핏  종근당건강 락토핏 생유산균 골드 50포 3통(150일분)41,900원\n",
      "23 머거본 머거본  쇠고기육포25g x 4봉 (4입번들) x 2개11,900원\n",
      "24 모나리자 모나리자  미용티슈 (280매3입)X4개 화장지 휴지19,900원\n",
      "25 광동 광동  광동 비타500 칼슘 100ml 20입(선물용)8,900원\n",
      "26 헬스원 헬스원  오메가3세트 1020mgx194캡슐 3개월분 +쇼핑백32,000원\n",
      "27 크리오 크리오  MY BRUSH 항균초극세모 10입10,900원\n",
      "28 코카콜라 코카콜라  코카콜라 500ml 24PET 1박스23,900원\n",
      "29 크리오 크리오  덴티메이트맥스 초극세모(원통)10입11,900원\n",
      "30 오뚜기밥 오뚜기밥  맛있는 오뚜기밥 210g 24개21,800원\n",
      "31 피죤 피죤  피죤 섬유유연제 3100ml 핑크로즈 4개13,900원\n",
      "32 피죤 피죤  피죤 섬유유연제 3100ml 옐로미모사 4개13,900원\n",
      "33 테크액체세제 테크액체세제  테크 베이킹구연산 액체세제 일반 리필 2L6개 +1L증정20,900원\n",
      "34 동원참치 동원참치  DHA 참치 150g 원터치 10개16,900원\n",
      "35 유닉스 유닉스  메탈티 무광블랙 1600W 헤어 드라이기 UN-A1610 접이식21,900원\n",
      "36 순수식품 순수식품  6년근 홍삼 진액 홍삼스틱 에브리데이 365 100포34,900원\n",
      "37 미래생활 미래생활  미래생활 순수PURE천연펄프 25m 30롤 x 3팩29,900원\n",
      "38 리챔 리챔  리챔 오리지널 200g 10캔18,900원\n",
      "39 서울우유 서울우유  멸균우유 1000ml x 10입 (1박스)18,900원\n",
      "40 헬스원 헬스원  에스리턴 퓨어콜라겐 젤리 세트 30포22,000원\n",
      "41 종근당 종근당  황제침향단 60환 1박스 고급 쇼핑백 증정 선물세트48,170원\n",
      "42 개성 개성  개성 교자만두 1kg 4개14,900원\n",
      "43 팸퍼스 팸퍼스  팸퍼스 베이비드라이 5단계 팬티형기저귀36p 4팩57,500원\n",
      "44 Gfresh Gfresh  국내산 풍천 민물장어 1kg / 32710원 쿠폰혜택가36,900원\n",
      "45 서울우유 서울우유  멸균우유 200ml x 24입 (1박스)11,900원\n",
      "46 제주삼다수 제주삼다수  제주삼다수 500ml 40병 /생수전문배송17,280원\n",
      "47 홈스타 홈스타  홈스타 뿌리는 곰팡이싹 500mlX4 +1L증정10,900원\n",
      "48 오랄비 오랄비  오랄비 글라이드 딥 클린 치실 민트향 40m 12개 +사은36,800원\n",
      "49 라이프케어 라이프케어  라이프케어 저분자 피쉬콜라겐C 180포 (총 2통)37,800원\n",
      "50 아워홈 아워홈  지리산수 블루 2L 6병 /생수전문배송3,150원\n"
     ]
    }
   ],
   "source": [
    "for i in range(0,len(b_list)):\n",
    "    print(i+1, b_brand[i] + b_list[i] + b_pay[i])\n",
    "    "
   ]
  },
  {
   "cell_type": "code",
   "execution_count": null,
   "id": "e57e47c5",
   "metadata": {},
   "outputs": [],
   "source": []
  }
 ],
 "metadata": {
  "kernelspec": {
   "display_name": "Python 3",
   "language": "python",
   "name": "python3"
  },
  "language_info": {
   "codemirror_mode": {
    "name": "ipython",
    "version": 3
   },
   "file_extension": ".py",
   "mimetype": "text/x-python",
   "name": "python",
   "nbconvert_exporter": "python",
   "pygments_lexer": "ipython3",
   "version": "3.8.9"
  },
  "toc": {
   "base_numbering": 1,
   "nav_menu": {},
   "number_sections": true,
   "sideBar": true,
   "skip_h1_title": false,
   "title_cell": "Table of Contents",
   "title_sidebar": "Contents",
   "toc_cell": false,
   "toc_position": {},
   "toc_section_display": true,
   "toc_window_display": false
  }
 },
 "nbformat": 4,
 "nbformat_minor": 5
}
